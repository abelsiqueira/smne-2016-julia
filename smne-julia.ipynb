{
 "cells": [
  {
   "cell_type": "markdown",
   "metadata": {},
   "source": [
    "# Introdução à Linguagem Julia\n",
    "\n",
    "Julia é uma linguagem dinâmica de alto nível e alto desempenho.\n",
    "Ela se assemelha ao MatLab e ao Python na facilidade de escrita\n",
    "de código, mas sua velocidade pode ser comparável ao C e Fortran."
   ]
  },
  {
   "cell_type": "markdown",
   "metadata": {},
   "source": [
    "# Jupyter\n",
    "\n",
    "O Jupyter é uma interface web para Julia, Python, e muitas outras.\n",
    "Ela **não** é o Julia, isto é, o Julia não depende do Jupyter para\n",
    "funcionar. No entanto, usando o Jupyter, aulas e apresentações\n",
    "ficam mais práticas.\n",
    "\n",
    "Cada *célula* do Jupyter pode ser executada com um `ctrl+enter`, ou\n",
    "um `ctrl+shift`, sendo que o último move a seleção para a célula de\n",
    "baixo.\n",
    "Você pode adicionar novas células usando o `+` no topo da página."
   ]
  },
  {
   "cell_type": "markdown",
   "metadata": {},
   "source": [
    "# O REPL - Terminal Interativo\n",
    "\n",
    "Ao abrir o Julia no Windows, ou digitar `julia` no terminal do Mac\n",
    "ou Linux, se abrirá um prompt tipo\n",
    "\n",
    "````julia\n",
    "julia>\n",
    "````\n",
    "\n",
    "O Jupyter também serve como esse prompt e todo comando digitado aqui\n",
    "pode ser digitado lá."
   ]
  },
  {
   "cell_type": "markdown",
   "metadata": {},
   "source": [
    "# Básico"
   ]
  },
  {
   "cell_type": "code",
   "execution_count": 1,
   "metadata": {
    "collapsed": false
   },
   "outputs": [
    {
     "data": {
      "text/plain": [
       "5"
      ]
     },
     "execution_count": 1,
     "metadata": {},
     "output_type": "execute_result"
    }
   ],
   "source": [
    "2 + 3"
   ]
  },
  {
   "cell_type": "code",
   "execution_count": 2,
   "metadata": {
    "collapsed": false
   },
   "outputs": [
    {
     "data": {
      "text/plain": [
       "15"
      ]
     },
     "execution_count": 2,
     "metadata": {},
     "output_type": "execute_result"
    }
   ],
   "source": [
    "3 * 5"
   ]
  },
  {
   "cell_type": "code",
   "execution_count": 3,
   "metadata": {
    "collapsed": false
   },
   "outputs": [
    {
     "data": {
      "text/plain": [
       "343"
      ]
     },
     "execution_count": 3,
     "metadata": {},
     "output_type": "execute_result"
    }
   ],
   "source": [
    "7 ^ 3"
   ]
  },
  {
   "cell_type": "code",
   "execution_count": 4,
   "metadata": {
    "collapsed": false
   },
   "outputs": [
    {
     "data": {
      "text/plain": [
       "7.38905609893065"
      ]
     },
     "execution_count": 4,
     "metadata": {},
     "output_type": "execute_result"
    }
   ],
   "source": [
    "exp(2)"
   ]
  },
  {
   "cell_type": "code",
   "execution_count": 5,
   "metadata": {
    "collapsed": false
   },
   "outputs": [
    {
     "data": {
      "text/plain": [
       "0.7071063120935576"
      ]
     },
     "execution_count": 5,
     "metadata": {},
     "output_type": "execute_result"
    }
   ],
   "source": [
    "sin(3.14159/4)"
   ]
  },
  {
   "cell_type": "code",
   "execution_count": 6,
   "metadata": {
    "collapsed": false
   },
   "outputs": [
    {
     "data": {
      "text/plain": [
       "π = 3.1415926535897..."
      ]
     },
     "execution_count": 6,
     "metadata": {},
     "output_type": "execute_result"
    }
   ],
   "source": [
    "pi"
   ]
  },
  {
   "cell_type": "code",
   "execution_count": 7,
   "metadata": {
    "collapsed": false
   },
   "outputs": [
    {
     "data": {
      "text/plain": [
       "0.7071067811865475"
      ]
     },
     "execution_count": 7,
     "metadata": {},
     "output_type": "execute_result"
    }
   ],
   "source": [
    "sin(pi/4)"
   ]
  },
  {
   "cell_type": "code",
   "execution_count": 8,
   "metadata": {
    "collapsed": false
   },
   "outputs": [
    {
     "data": {
      "text/plain": [
       "1.0"
      ]
     },
     "execution_count": 8,
     "metadata": {},
     "output_type": "execute_result"
    }
   ],
   "source": [
    "round(1.2)"
   ]
  },
  {
   "cell_type": "code",
   "execution_count": 123,
   "metadata": {
    "collapsed": false
   },
   "outputs": [
    {
     "data": {
      "text/plain": [
       "1.4142135623730951"
      ]
     },
     "execution_count": 123,
     "metadata": {},
     "output_type": "execute_result"
    }
   ],
   "source": [
    "sqrt(2)"
   ]
  },
  {
   "cell_type": "code",
   "execution_count": 9,
   "metadata": {
    "collapsed": false
   },
   "outputs": [
    {
     "data": {
      "text/plain": [
       "3"
      ]
     },
     "execution_count": 9,
     "metadata": {},
     "output_type": "execute_result"
    }
   ],
   "source": [
    "abs(-3)"
   ]
  },
  {
   "cell_type": "code",
   "execution_count": 10,
   "metadata": {
    "collapsed": false
   },
   "outputs": [
    {
     "data": {
      "text/plain": [
       "3"
      ]
     },
     "execution_count": 10,
     "metadata": {},
     "output_type": "execute_result"
    }
   ],
   "source": [
    "x = 3"
   ]
  },
  {
   "cell_type": "code",
   "execution_count": 11,
   "metadata": {
    "collapsed": false
   },
   "outputs": [
    {
     "data": {
      "text/plain": [
       "9"
      ]
     },
     "execution_count": 11,
     "metadata": {},
     "output_type": "execute_result"
    }
   ],
   "source": [
    "x ^ 2"
   ]
  },
  {
   "cell_type": "code",
   "execution_count": 12,
   "metadata": {
    "collapsed": false
   },
   "outputs": [
    {
     "data": {
      "text/plain": [
       "6"
      ]
     },
     "execution_count": 12,
     "metadata": {},
     "output_type": "execute_result"
    }
   ],
   "source": [
    "y = 2x"
   ]
  },
  {
   "cell_type": "code",
   "execution_count": 13,
   "metadata": {
    "collapsed": false
   },
   "outputs": [
    {
     "data": {
      "text/plain": [
       "3"
      ]
     },
     "execution_count": 13,
     "metadata": {},
     "output_type": "execute_result"
    }
   ],
   "source": [
    "y - x"
   ]
  },
  {
   "cell_type": "code",
   "execution_count": 14,
   "metadata": {
    "collapsed": false
   },
   "outputs": [
    {
     "data": {
      "text/plain": [
       "0.01"
      ]
     },
     "execution_count": 14,
     "metadata": {},
     "output_type": "execute_result"
    }
   ],
   "source": [
    "1e-2 # 10⁻²"
   ]
  },
  {
   "cell_type": "code",
   "execution_count": 15,
   "metadata": {
    "collapsed": false
   },
   "outputs": [
    {
     "data": {
      "text/plain": [
       "1000.0"
      ]
     },
     "execution_count": 15,
     "metadata": {},
     "output_type": "execute_result"
    }
   ],
   "source": [
    "1e3 # 10³"
   ]
  },
  {
   "cell_type": "code",
   "execution_count": 16,
   "metadata": {
    "collapsed": false
   },
   "outputs": [
    {
     "data": {
      "text/plain": [
       "5.551115123125783e-17"
      ]
     },
     "execution_count": 16,
     "metadata": {},
     "output_type": "execute_result"
    }
   ],
   "source": [
    "0.1 + 0.2 - 0.3"
   ]
  },
  {
   "cell_type": "markdown",
   "metadata": {},
   "source": [
    "## Exercício\n",
    "\n",
    "- Calcule $\\varphi = \\dfrac{\\sqrt{5} + 1}{2}$."
   ]
  },
  {
   "cell_type": "markdown",
   "metadata": {},
   "source": [
    "# Álgebra Linear Numérica"
   ]
  },
  {
   "cell_type": "code",
   "execution_count": 17,
   "metadata": {
    "collapsed": false
   },
   "outputs": [
    {
     "data": {
      "text/plain": [
       "3-element Array{Float64,1}:\n",
       " 0.285575\n",
       " 0.673474\n",
       " 0.925352"
      ]
     },
     "execution_count": 17,
     "metadata": {},
     "output_type": "execute_result"
    }
   ],
   "source": [
    "rand(3)"
   ]
  },
  {
   "cell_type": "code",
   "execution_count": 18,
   "metadata": {
    "collapsed": false
   },
   "outputs": [
    {
     "data": {
      "text/plain": [
       "3-element Array{Float64,1}:\n",
       " 1.0\n",
       " 1.0\n",
       " 1.0"
      ]
     },
     "execution_count": 18,
     "metadata": {},
     "output_type": "execute_result"
    }
   ],
   "source": [
    "ones(3)"
   ]
  },
  {
   "cell_type": "code",
   "execution_count": 19,
   "metadata": {
    "collapsed": false
   },
   "outputs": [
    {
     "data": {
      "text/plain": [
       "3-element Array{Float64,1}:\n",
       " 0.0\n",
       " 0.0\n",
       " 0.0"
      ]
     },
     "execution_count": 19,
     "metadata": {},
     "output_type": "execute_result"
    }
   ],
   "source": [
    "zeros(3)"
   ]
  },
  {
   "cell_type": "code",
   "execution_count": 20,
   "metadata": {
    "collapsed": false
   },
   "outputs": [
    {
     "data": {
      "text/plain": [
       "2×4 Array{Float64,2}:\n",
       " 0.736333  0.437507  0.873963  0.982646\n",
       " 0.819335  0.252318  0.286225  0.314942"
      ]
     },
     "execution_count": 20,
     "metadata": {},
     "output_type": "execute_result"
    }
   ],
   "source": [
    "rand(2,4)"
   ]
  },
  {
   "cell_type": "code",
   "execution_count": 21,
   "metadata": {
    "collapsed": false
   },
   "outputs": [
    {
     "data": {
      "text/plain": [
       "3-element Array{Float64,1}:\n",
       " 0.973007\n",
       " 0.465695\n",
       " 0.352008"
      ]
     },
     "execution_count": 21,
     "metadata": {},
     "output_type": "execute_result"
    }
   ],
   "source": [
    "v = rand(3)"
   ]
  },
  {
   "cell_type": "code",
   "execution_count": 22,
   "metadata": {
    "collapsed": false
   },
   "outputs": [
    {
     "data": {
      "text/plain": [
       "2×3 Array{Float64,2}:\n",
       " 0.460065  0.806683  0.636721\n",
       " 0.706877  0.811051  0.91831 "
      ]
     },
     "execution_count": 22,
     "metadata": {},
     "output_type": "execute_result"
    }
   ],
   "source": [
    "A = rand(2, 3)"
   ]
  },
  {
   "cell_type": "code",
   "execution_count": 23,
   "metadata": {
    "collapsed": false
   },
   "outputs": [
    {
     "data": {
      "text/plain": [
       "2-element Array{Float64,1}:\n",
       " 1.04745\n",
       " 1.38875"
      ]
     },
     "execution_count": 23,
     "metadata": {},
     "output_type": "execute_result"
    }
   ],
   "source": [
    "A * v"
   ]
  },
  {
   "cell_type": "code",
   "execution_count": 24,
   "metadata": {
    "collapsed": false
   },
   "outputs": [
    {
     "data": {
      "text/plain": [
       "2-element Array{Float64,1}:\n",
       " 0.18481 \n",
       " 0.862083"
      ]
     },
     "execution_count": 24,
     "metadata": {},
     "output_type": "execute_result"
    }
   ],
   "source": [
    "w = rand(2)"
   ]
  },
  {
   "cell_type": "code",
   "execution_count": 25,
   "metadata": {
    "collapsed": false
   },
   "outputs": [
    {
     "data": {
      "text/plain": [
       "3-element Array{Float64,1}:\n",
       " 0.694411\n",
       " 0.848277\n",
       " 0.909332"
      ]
     },
     "execution_count": 25,
     "metadata": {},
     "output_type": "execute_result"
    }
   ],
   "source": [
    "A' * w"
   ]
  },
  {
   "cell_type": "code",
   "execution_count": 26,
   "metadata": {
    "collapsed": false
   },
   "outputs": [
    {
     "data": {
      "text/plain": [
       "2×3 Array{Float64,2}:\n",
       " 0.456517  0.13849   0.037809\n",
       " 0.463185  0.467513  0.182055"
      ]
     },
     "execution_count": 26,
     "metadata": {},
     "output_type": "execute_result"
    }
   ],
   "source": [
    "B = rand(2, 3)"
   ]
  },
  {
   "cell_type": "code",
   "execution_count": 27,
   "metadata": {
    "collapsed": false
   },
   "outputs": [
    {
     "data": {
      "text/plain": [
       "2×3 Array{Float64,2}:\n",
       " 0.916582  0.945173  0.67453\n",
       " 1.17006   1.27856   1.10037"
      ]
     },
     "execution_count": 27,
     "metadata": {},
     "output_type": "execute_result"
    }
   ],
   "source": [
    "A + B"
   ]
  },
  {
   "cell_type": "code",
   "execution_count": 28,
   "metadata": {
    "collapsed": false
   },
   "outputs": [
    {
     "data": {
      "text/plain": [
       "2×2 Array{Float64,2}:\n",
       " 0.345819  0.706148\n",
       " 0.469745  0.873775"
      ]
     },
     "execution_count": 28,
     "metadata": {},
     "output_type": "execute_result"
    }
   ],
   "source": [
    "A * B'"
   ]
  },
  {
   "cell_type": "code",
   "execution_count": 29,
   "metadata": {
    "collapsed": false
   },
   "outputs": [
    {
     "data": {
      "text/plain": [
       "3×3 Array{Float64,2}:\n",
       " 0.537442  0.394189  0.146085\n",
       " 0.743931  0.490895  0.178156\n",
       " 0.716021  0.517502  0.191257"
      ]
     },
     "execution_count": 29,
     "metadata": {},
     "output_type": "execute_result"
    }
   ],
   "source": [
    "A' * B"
   ]
  },
  {
   "cell_type": "code",
   "execution_count": 30,
   "metadata": {
    "collapsed": false
   },
   "outputs": [
    {
     "data": {
      "text/plain": [
       "3-element Array{Float64,1}:\n",
       "  1.42637\n",
       "  1.71667\n",
       " -1.73424"
      ]
     },
     "execution_count": 30,
     "metadata": {},
     "output_type": "execute_result"
    }
   ],
   "source": [
    "A = rand(3, 3)\n",
    "b = rand(3)\n",
    "x = A\\b # Resolve o SL"
   ]
  },
  {
   "cell_type": "code",
   "execution_count": 31,
   "metadata": {
    "collapsed": false
   },
   "outputs": [
    {
     "data": {
      "text/plain": [
       "3-element Array{Float64,1}:\n",
       " -1.11022e-16\n",
       " -2.22045e-16\n",
       "  0.0        "
      ]
     },
     "execution_count": 31,
     "metadata": {},
     "output_type": "execute_result"
    }
   ],
   "source": [
    "A * x - b # É pra ser zero (ou quase)"
   ]
  },
  {
   "cell_type": "code",
   "execution_count": 32,
   "metadata": {
    "collapsed": false
   },
   "outputs": [
    {
     "data": {
      "text/plain": [
       "2.482534153247273e-16"
      ]
     },
     "execution_count": 32,
     "metadata": {},
     "output_type": "execute_result"
    }
   ],
   "source": [
    "norm(A*x-b) # norm = ‖ ⋅ ‖"
   ]
  },
  {
   "cell_type": "code",
   "execution_count": 33,
   "metadata": {
    "collapsed": false
   },
   "outputs": [
    {
     "data": {
      "text/plain": [
       "4.0"
      ]
     },
     "execution_count": 33,
     "metadata": {},
     "output_type": "execute_result"
    }
   ],
   "source": [
    "v = [1.0; 2.0; 3.0]\n",
    "w = [2.0; -2.0; 2.0]\n",
    "dot(v, w) # ⟨v,w⟩"
   ]
  },
  {
   "cell_type": "code",
   "execution_count": 34,
   "metadata": {
    "collapsed": false
   },
   "outputs": [
    {
     "data": {
      "text/plain": [
       "0.09412184591788629"
      ]
     },
     "execution_count": 34,
     "metadata": {},
     "output_type": "execute_result"
    }
   ],
   "source": [
    "det(A)"
   ]
  },
  {
   "cell_type": "code",
   "execution_count": 35,
   "metadata": {
    "collapsed": false
   },
   "outputs": [
    {
     "data": {
      "text/plain": [
       "3×3 Array{Float64,2}:\n",
       " 0.83915   0.517376  0.841767\n",
       " 1.18437   0.817453  1.23575 \n",
       " 0.873454  1.07266   1.28919 "
      ]
     },
     "execution_count": 35,
     "metadata": {},
     "output_type": "execute_result"
    }
   ],
   "source": [
    "A^2 # A * A"
   ]
  },
  {
   "cell_type": "code",
   "execution_count": 36,
   "metadata": {
    "collapsed": false
   },
   "outputs": [
    {
     "data": {
      "text/plain": [
       "3×3 Array{Float64,2}:\n",
       " 0.720778    0.00999643  0.211325\n",
       " 0.822554    0.17099     0.426659\n",
       " 0.00362927  0.723989    0.70571 "
      ]
     },
     "execution_count": 36,
     "metadata": {},
     "output_type": "execute_result"
    }
   ],
   "source": [
    "A .^ 2 # Cada elemento de A ao quadrado"
   ]
  },
  {
   "cell_type": "code",
   "execution_count": 37,
   "metadata": {
    "collapsed": false
   },
   "outputs": [
    {
     "data": {
      "text/plain": [
       "3×3 Array{Float64,2}:\n",
       " 0.42288    0.17571   0.324742\n",
       " 0.0538742  0.95668   0.111605\n",
       " 0.863157   0.480469  0.563399"
      ]
     },
     "execution_count": 37,
     "metadata": {},
     "output_type": "execute_result"
    }
   ],
   "source": [
    "B = rand(3, 3)"
   ]
  },
  {
   "cell_type": "code",
   "execution_count": 38,
   "metadata": {
    "collapsed": false
   },
   "outputs": [
    {
     "data": {
      "text/plain": [
       "3×3 Array{Float64,2}:\n",
       " 0.35902    0.0175679  0.149284 \n",
       " 0.0488611  0.395597   0.0728991\n",
       " 0.0519996  0.408819   0.473292 "
      ]
     },
     "execution_count": 38,
     "metadata": {},
     "output_type": "execute_result"
    }
   ],
   "source": [
    "A .* B"
   ]
  },
  {
   "cell_type": "markdown",
   "metadata": {},
   "source": [
    "## Funções que \"distribuem\""
   ]
  },
  {
   "cell_type": "code",
   "execution_count": 124,
   "metadata": {
    "collapsed": false
   },
   "outputs": [
    {
     "data": {
      "text/plain": [
       "2-element Array{Float64,1}:\n",
       " 1.0    \n",
       " 2.71828"
      ]
     },
     "execution_count": 124,
     "metadata": {},
     "output_type": "execute_result"
    }
   ],
   "source": [
    "exp([0.0; 1.0])"
   ]
  },
  {
   "cell_type": "code",
   "execution_count": 126,
   "metadata": {
    "collapsed": false
   },
   "outputs": [
    {
     "data": {
      "text/plain": [
       "10-element Array{Float64,1}:\n",
       " 0.0     \n",
       " 0.333333\n",
       " 0.471405\n",
       " 0.57735 \n",
       " 0.666667\n",
       " 0.745356\n",
       " 0.816497\n",
       " 0.881917\n",
       " 0.942809\n",
       " 1.0     "
      ]
     },
     "execution_count": 126,
     "metadata": {},
     "output_type": "execute_result"
    }
   ],
   "source": [
    "sqrt(linspace(0, 1, 10))"
   ]
  },
  {
   "cell_type": "markdown",
   "metadata": {},
   "source": [
    "## Exercício\n",
    "\n",
    "- Crie um vetor com os ângulos importantes: 0, pi/6, pi/4, pi/3 e pi/2.\n",
    "- Crie um vetor com o seno de cada ângulo e outro com o cosseno, usando o vetor acima.\n",
    "- Calcule a tangente de cada angulo usando os dois vetores acima (tan = sen/cos), mas **sem usar a função tan**."
   ]
  },
  {
   "cell_type": "markdown",
   "metadata": {},
   "source": [
    "## Acesso aos elementos"
   ]
  },
  {
   "cell_type": "code",
   "execution_count": 39,
   "metadata": {
    "collapsed": false
   },
   "outputs": [
    {
     "data": {
      "text/plain": [
       "3-element Array{Float64,1}:\n",
       " 1.0\n",
       " 2.0\n",
       " 3.0"
      ]
     },
     "execution_count": 39,
     "metadata": {},
     "output_type": "execute_result"
    }
   ],
   "source": [
    "v"
   ]
  },
  {
   "cell_type": "code",
   "execution_count": 40,
   "metadata": {
    "collapsed": false
   },
   "outputs": [
    {
     "data": {
      "text/plain": [
       "1.0"
      ]
     },
     "execution_count": 40,
     "metadata": {},
     "output_type": "execute_result"
    }
   ],
   "source": [
    "v[1]"
   ]
  },
  {
   "cell_type": "code",
   "execution_count": 41,
   "metadata": {
    "collapsed": false
   },
   "outputs": [
    {
     "data": {
      "text/plain": [
       "2.0"
      ]
     },
     "execution_count": 41,
     "metadata": {},
     "output_type": "execute_result"
    }
   ],
   "source": [
    "v[2]"
   ]
  },
  {
   "cell_type": "code",
   "execution_count": 42,
   "metadata": {
    "collapsed": false
   },
   "outputs": [
    {
     "data": {
      "text/plain": [
       "3×3 Array{Float64,2}:\n",
       " 0.848986   0.0999822  0.459701\n",
       " 0.906948   0.41351    0.653191\n",
       " 0.0602434  0.850875   0.840066"
      ]
     },
     "execution_count": 42,
     "metadata": {},
     "output_type": "execute_result"
    }
   ],
   "source": [
    "A"
   ]
  },
  {
   "cell_type": "code",
   "execution_count": 43,
   "metadata": {
    "collapsed": false
   },
   "outputs": [
    {
     "data": {
      "text/plain": [
       "0.8489864011931925"
      ]
     },
     "execution_count": 43,
     "metadata": {},
     "output_type": "execute_result"
    }
   ],
   "source": [
    "A[1,1]"
   ]
  },
  {
   "cell_type": "code",
   "execution_count": 44,
   "metadata": {
    "collapsed": false
   },
   "outputs": [
    {
     "data": {
      "text/plain": [
       "0.653191022758979"
      ]
     },
     "execution_count": 44,
     "metadata": {},
     "output_type": "execute_result"
    }
   ],
   "source": [
    "A[2,3]"
   ]
  },
  {
   "cell_type": "code",
   "execution_count": 45,
   "metadata": {
    "collapsed": false
   },
   "outputs": [
    {
     "data": {
      "text/plain": [
       "2-element Array{Float64,1}:\n",
       " 1.0\n",
       " 2.0"
      ]
     },
     "execution_count": 45,
     "metadata": {},
     "output_type": "execute_result"
    }
   ],
   "source": [
    "v[1:2]"
   ]
  },
  {
   "cell_type": "code",
   "execution_count": 46,
   "metadata": {
    "collapsed": false
   },
   "outputs": [
    {
     "data": {
      "text/plain": [
       "3-element Array{Float64,1}:\n",
       " 0.0999822\n",
       " 0.41351  \n",
       " 0.850875 "
      ]
     },
     "execution_count": 46,
     "metadata": {},
     "output_type": "execute_result"
    }
   ],
   "source": [
    "A[:,2]"
   ]
  },
  {
   "cell_type": "code",
   "execution_count": 47,
   "metadata": {
    "collapsed": false
   },
   "outputs": [
    {
     "data": {
      "text/plain": [
       "3-element Array{Float64,1}:\n",
       " 0.848986 \n",
       " 0.0999822\n",
       " 0.459701 "
      ]
     },
     "execution_count": 47,
     "metadata": {},
     "output_type": "execute_result"
    }
   ],
   "source": [
    "A[1,:]"
   ]
  },
  {
   "cell_type": "code",
   "execution_count": 48,
   "metadata": {
    "collapsed": false
   },
   "outputs": [
    {
     "data": {
      "text/plain": [
       "0.0"
      ]
     },
     "execution_count": 48,
     "metadata": {},
     "output_type": "execute_result"
    }
   ],
   "source": [
    "A[2,3] = 0.0"
   ]
  },
  {
   "cell_type": "code",
   "execution_count": 49,
   "metadata": {
    "collapsed": false
   },
   "outputs": [
    {
     "data": {
      "text/plain": [
       "3×3 Array{Float64,2}:\n",
       " 0.848986   0.0999822  0.459701\n",
       " 0.906948   0.41351    0.0     \n",
       " 0.0602434  0.850875   0.840066"
      ]
     },
     "execution_count": 49,
     "metadata": {},
     "output_type": "execute_result"
    }
   ],
   "source": [
    "A"
   ]
  },
  {
   "cell_type": "code",
   "execution_count": 50,
   "metadata": {
    "collapsed": false
   },
   "outputs": [
    {
     "data": {
      "text/plain": [
       "3×3 Array{Float64,2}:\n",
       " 1.0  0.0  0.0\n",
       " 0.0  1.0  0.0\n",
       " 0.0  0.0  1.0"
      ]
     },
     "execution_count": 50,
     "metadata": {},
     "output_type": "execute_result"
    }
   ],
   "source": [
    "eye(3)"
   ]
  },
  {
   "cell_type": "code",
   "execution_count": 51,
   "metadata": {
    "collapsed": false
   },
   "outputs": [
    {
     "data": {
      "text/plain": [
       "(3,3)"
      ]
     },
     "execution_count": 51,
     "metadata": {},
     "output_type": "execute_result"
    }
   ],
   "source": [
    "m, n = size(A)"
   ]
  },
  {
   "cell_type": "code",
   "execution_count": 52,
   "metadata": {
    "collapsed": false
   },
   "outputs": [
    {
     "data": {
      "text/plain": [
       "3"
      ]
     },
     "execution_count": 52,
     "metadata": {},
     "output_type": "execute_result"
    }
   ],
   "source": [
    "length(v)"
   ]
  },
  {
   "cell_type": "markdown",
   "metadata": {},
   "source": [
    "## Exercício\n",
    "\n",
    "- Crie um vetor aleatório e mude o primeiro elemento para o seu oposto (i.e. mude o sinal)"
   ]
  },
  {
   "cell_type": "markdown",
   "metadata": {},
   "source": [
    "## Matriz por blocos - concatenação"
   ]
  },
  {
   "cell_type": "code",
   "execution_count": 53,
   "metadata": {
    "collapsed": false
   },
   "outputs": [
    {
     "data": {
      "text/plain": [
       "5×5 Array{Float64,2}:\n",
       " 0.828059  0.161645  0.307942  0.0  0.0\n",
       " 0.863721  0.425897  0.350354  0.0  0.0\n",
       " 0.6384    0.989955  0.419942  0.0  0.0\n",
       " 1.0       1.0       1.0       1.0  0.0\n",
       " 1.0       1.0       1.0       0.0  1.0"
      ]
     },
     "execution_count": 53,
     "metadata": {},
     "output_type": "execute_result"
    }
   ],
   "source": [
    "[rand(3,3) zeros(3,2); ones(2,3) eye(2,2)]"
   ]
  },
  {
   "cell_type": "markdown",
   "metadata": {},
   "source": [
    "# Funções"
   ]
  },
  {
   "cell_type": "code",
   "execution_count": 54,
   "metadata": {
    "collapsed": false
   },
   "outputs": [
    {
     "data": {
      "text/plain": [
       "4"
      ]
     },
     "execution_count": 54,
     "metadata": {},
     "output_type": "execute_result"
    }
   ],
   "source": [
    "f(x) = x^2\n",
    "f(2)"
   ]
  },
  {
   "cell_type": "code",
   "execution_count": 55,
   "metadata": {
    "collapsed": false
   },
   "outputs": [
    {
     "data": {
      "text/plain": [
       "9"
      ]
     },
     "execution_count": 55,
     "metadata": {},
     "output_type": "execute_result"
    }
   ],
   "source": [
    "f(-3)"
   ]
  },
  {
   "cell_type": "code",
   "execution_count": 56,
   "metadata": {
    "collapsed": false
   },
   "outputs": [
    {
     "data": {
      "text/plain": [
       "g (generic function with 1 method)"
      ]
     },
     "execution_count": 56,
     "metadata": {},
     "output_type": "execute_result"
    }
   ],
   "source": [
    "g(a,b) = exp(a + b)"
   ]
  },
  {
   "cell_type": "code",
   "execution_count": 57,
   "metadata": {
    "collapsed": false
   },
   "outputs": [
    {
     "data": {
      "text/plain": [
       "148.4131591025766"
      ]
     },
     "execution_count": 57,
     "metadata": {},
     "output_type": "execute_result"
    }
   ],
   "source": [
    "g(2,3)"
   ]
  },
  {
   "cell_type": "code",
   "execution_count": 58,
   "metadata": {
    "collapsed": false
   },
   "outputs": [
    {
     "data": {
      "text/plain": [
       "1.0"
      ]
     },
     "execution_count": 58,
     "metadata": {},
     "output_type": "execute_result"
    }
   ],
   "source": [
    "g(3,-3)"
   ]
  },
  {
   "cell_type": "code",
   "execution_count": 59,
   "metadata": {
    "collapsed": false
   },
   "outputs": [
    {
     "data": {
      "text/plain": [
       "(::#1) (generic function with 1 method)"
      ]
     },
     "execution_count": 59,
     "metadata": {},
     "output_type": "execute_result"
    }
   ],
   "source": [
    "h = x -> sin(x)"
   ]
  },
  {
   "cell_type": "code",
   "execution_count": 60,
   "metadata": {
    "collapsed": false
   },
   "outputs": [
    {
     "data": {
      "text/plain": [
       "0.9092974268256817"
      ]
     },
     "execution_count": 60,
     "metadata": {},
     "output_type": "execute_result"
    }
   ],
   "source": [
    "h(2)"
   ]
  },
  {
   "cell_type": "code",
   "execution_count": 61,
   "metadata": {
    "collapsed": false
   },
   "outputs": [
    {
     "data": {
      "text/plain": [
       "aprox_der (generic function with 1 method)"
      ]
     },
     "execution_count": 61,
     "metadata": {},
     "output_type": "execute_result"
    }
   ],
   "source": [
    "function aprox_der(f, a, h)\n",
    "    (f(a+h) - f(a))/h\n",
    "end"
   ]
  },
  {
   "cell_type": "code",
   "execution_count": 62,
   "metadata": {
    "collapsed": false
   },
   "outputs": [
    {
     "data": {
      "text/plain": [
       "0.8660254013914681"
      ]
     },
     "execution_count": 62,
     "metadata": {},
     "output_type": "execute_result"
    }
   ],
   "source": [
    "aprox_der(h, pi/6, 1e-8)"
   ]
  },
  {
   "cell_type": "code",
   "execution_count": 63,
   "metadata": {
    "collapsed": false
   },
   "outputs": [
    {
     "name": "stderr",
     "output_type": "stream",
     "text": [
      "WARNING: Method definition aprox_der(Any, Any, Any) in module Main at In[61]:2 overwritten at In[63]:2.\n"
     ]
    },
    {
     "data": {
      "text/plain": [
       "aprox_der (generic function with 2 methods)"
      ]
     },
     "execution_count": 63,
     "metadata": {},
     "output_type": "execute_result"
    }
   ],
   "source": [
    "function aprox_der(f, a, h = 1e-8)\n",
    "    (f(a+h) - f(a))/h\n",
    "end"
   ]
  },
  {
   "cell_type": "code",
   "execution_count": 64,
   "metadata": {
    "collapsed": false
   },
   "outputs": [
    {
     "data": {
      "text/plain": [
       "0.8660254013914681"
      ]
     },
     "execution_count": 64,
     "metadata": {},
     "output_type": "execute_result"
    }
   ],
   "source": [
    "aprox_der(h, pi/6)"
   ]
  },
  {
   "cell_type": "code",
   "execution_count": 65,
   "metadata": {
    "collapsed": false
   },
   "outputs": [
    {
     "data": {
      "text/plain": [
       "6.999999868639861"
      ]
     },
     "execution_count": 65,
     "metadata": {},
     "output_type": "execute_result"
    }
   ],
   "source": [
    "aprox_der(x->x^2+3x+2, 2) # 2x + 3 com x = 2: 7"
   ]
  },
  {
   "cell_type": "markdown",
   "metadata": {},
   "source": [
    "## Vetor vs Array vs Array 1xN vs Array Nx1"
   ]
  },
  {
   "cell_type": "code",
   "execution_count": 66,
   "metadata": {
    "collapsed": false
   },
   "outputs": [
    {
     "data": {
      "text/plain": [
       "3-element Array{Float64,1}:\n",
       " 1.0\n",
       " 1.0\n",
       " 1.0"
      ]
     },
     "execution_count": 66,
     "metadata": {},
     "output_type": "execute_result"
    }
   ],
   "source": [
    "ones(3)"
   ]
  },
  {
   "cell_type": "code",
   "execution_count": 67,
   "metadata": {
    "collapsed": false
   },
   "outputs": [
    {
     "data": {
      "text/plain": [
       "1×3 Array{Float64,2}:\n",
       " 1.0  1.0  1.0"
      ]
     },
     "execution_count": 67,
     "metadata": {},
     "output_type": "execute_result"
    }
   ],
   "source": [
    "[1.0 1.0 1.0]"
   ]
  },
  {
   "cell_type": "code",
   "execution_count": 68,
   "metadata": {
    "collapsed": false
   },
   "outputs": [
    {
     "data": {
      "text/plain": [
       "3-element Array{Float64,1}:\n",
       " 1.0\n",
       " 1.0\n",
       " 1.0"
      ]
     },
     "execution_count": 68,
     "metadata": {},
     "output_type": "execute_result"
    }
   ],
   "source": [
    "[1.0; 1.0; 1.0]"
   ]
  },
  {
   "cell_type": "code",
   "execution_count": 69,
   "metadata": {
    "collapsed": false
   },
   "outputs": [
    {
     "data": {
      "text/plain": [
       "3-element Array{Float64,1}:\n",
       " 1.0\n",
       " 1.0\n",
       " 1.0"
      ]
     },
     "execution_count": 69,
     "metadata": {},
     "output_type": "execute_result"
    }
   ],
   "source": [
    "[1.0, 1.0, 1.0]"
   ]
  },
  {
   "cell_type": "code",
   "execution_count": 70,
   "metadata": {
    "collapsed": false
   },
   "outputs": [
    {
     "data": {
      "text/plain": [
       "3×1 Array{Float64,2}:\n",
       " 1.0\n",
       " 1.0\n",
       " 1.0"
      ]
     },
     "execution_count": 70,
     "metadata": {},
     "output_type": "execute_result"
    }
   ],
   "source": [
    "[1.0 1.0 1.0]'"
   ]
  },
  {
   "cell_type": "markdown",
   "metadata": {},
   "source": [
    "# Exercícios"
   ]
  },
  {
   "cell_type": "markdown",
   "metadata": {
    "collapsed": true
   },
   "source": [
    "- Crie uma função que recebe $a$ e calcula $2\\bigg(a + \\dfrac{1}{a}\\bigg)$.\n",
    "- Crie uma função que recebe dois catetos e calcula a hipotenusa.\n",
    "- Crie uma função que recebe uma matriz A e um vetor v e retorna\n",
    "$\\dfrac{\\langle v, Av\\rangle}{\\langle v, v\\rangle}$"
   ]
  },
  {
   "cell_type": "markdown",
   "metadata": {},
   "source": [
    "# Loops e condicionais"
   ]
  },
  {
   "cell_type": "code",
   "execution_count": 127,
   "metadata": {
    "collapsed": false
   },
   "outputs": [
    {
     "name": "stdout",
     "output_type": "stream",
     "text": [
      "1\n",
      "2\n",
      "3\n",
      "4\n",
      "5\n",
      "6\n",
      "7\n",
      "8\n",
      "9\n",
      "10\n"
     ]
    }
   ],
   "source": [
    "for i = 1:10\n",
    "    println(i)\n",
    "end"
   ]
  },
  {
   "cell_type": "code",
   "execution_count": 128,
   "metadata": {
    "collapsed": false
   },
   "outputs": [
    {
     "name": "stdout",
     "output_type": "stream",
     "text": [
      "12345678910"
     ]
    }
   ],
   "source": [
    "for i = 1:10\n",
    "    print(i)\n",
    "end"
   ]
  },
  {
   "cell_type": "code",
   "execution_count": 129,
   "metadata": {
    "collapsed": false
   },
   "outputs": [
    {
     "name": "stdout",
     "output_type": "stream",
     "text": [
      "i = 1\n",
      "i = 2\n",
      "i = 3\n",
      "i = 4\n",
      "i = 5\n",
      "i = 6\n",
      "i = 7\n",
      "i = 8\n",
      "i = 9\n",
      "i = 10\n"
     ]
    }
   ],
   "source": [
    "for i = 1:10\n",
    "    println(\"i = $i\")\n",
    "end"
   ]
  },
  {
   "cell_type": "code",
   "execution_count": 130,
   "metadata": {
    "collapsed": true
   },
   "outputs": [],
   "source": [
    "x = rand(10)\n",
    "y = zeros(10)\n",
    "for i = 1:10\n",
    "    y[i] = x[i] * i\n",
    "end"
   ]
  },
  {
   "cell_type": "code",
   "execution_count": 131,
   "metadata": {
    "collapsed": false
   },
   "outputs": [
    {
     "data": {
      "text/plain": [
       "10-element Array{Float64,1}:\n",
       " 0.796215 \n",
       " 0.146132 \n",
       " 0.453449 \n",
       " 0.514267 \n",
       " 0.925038 \n",
       " 0.213549 \n",
       " 0.548834 \n",
       " 0.0764831\n",
       " 0.340822 \n",
       " 0.778201 "
      ]
     },
     "execution_count": 131,
     "metadata": {},
     "output_type": "execute_result"
    }
   ],
   "source": [
    "x"
   ]
  },
  {
   "cell_type": "code",
   "execution_count": 132,
   "metadata": {
    "collapsed": false
   },
   "outputs": [
    {
     "data": {
      "text/plain": [
       "10-element Array{Float64,1}:\n",
       " 0.796215\n",
       " 0.292264\n",
       " 1.36035 \n",
       " 2.05707 \n",
       " 4.62519 \n",
       " 1.28129 \n",
       " 3.84183 \n",
       " 0.611865\n",
       " 3.0674  \n",
       " 7.78201 "
      ]
     },
     "execution_count": 132,
     "metadata": {},
     "output_type": "execute_result"
    }
   ],
   "source": [
    "y"
   ]
  },
  {
   "cell_type": "code",
   "execution_count": 133,
   "metadata": {
    "collapsed": false
   },
   "outputs": [
    {
     "name": "stdout",
     "output_type": "stream",
     "text": [
      "sin(0.0) = 0.0\n",
      "sin(0.5235987755982988) = 0.49999999999999994\n",
      "sin(0.7853981633974483) = 0.7071067811865475\n",
      "sin(1.0471975511965976) = 0.8660254037844386\n",
      "sin(1.5707963267948966) = 1.0\n"
     ]
    }
   ],
   "source": [
    "for x in [0; pi/6; pi/4; pi/3; pi/2]\n",
    "    println(\"sin($x) = $(sin(x))\")\n",
    "end"
   ]
  },
  {
   "cell_type": "code",
   "execution_count": 134,
   "metadata": {
    "collapsed": false
   },
   "outputs": [
    {
     "name": "stdout",
     "output_type": "stream",
     "text": [
      "3 6 9 12 15 18 "
     ]
    }
   ],
   "source": [
    "for i = 3:3:20\n",
    "    print(\"$i \")\n",
    "end"
   ]
  },
  {
   "cell_type": "code",
   "execution_count": 79,
   "metadata": {
    "collapsed": false
   },
   "outputs": [
    {
     "name": "stdout",
     "output_type": "stream",
     "text": [
      "x: a    Tipo: String\n",
      "x: 0    Tipo: Int64\n",
      "x: 3.14    Tipo: Float64\n",
      "x: e = 2.7182818284590...    Tipo: Irrational{:e}\n",
      "x: 3//4    Tipo: Rational{Int64}\n",
      "x: im    Tipo: Complex{Bool}\n",
      "x: [1.0,1.0]    Tipo: Array{Float64,1}\n",
      "x: [1.0 1.0; 1.0 1.0]    Tipo: Array{Float64,2}\n"
     ]
    }
   ],
   "source": [
    "for x in Any[\"a\", 0, 3.14, e, 3//4, im, ones(2), ones(2,2)]\n",
    "    println(\"x: $x    Tipo: $(typeof(x))\")\n",
    "end"
   ]
  },
  {
   "cell_type": "code",
   "execution_count": 80,
   "metadata": {
    "collapsed": false
   },
   "outputs": [
    {
     "ename": "LoadError",
     "evalue": "LoadError: ArgumentError: invalid index: 3.0\nwhile loading In[80], in expression starting on line 3",
     "output_type": "error",
     "traceback": [
      "LoadError: ArgumentError: invalid index: 3.0\nwhile loading In[80], in expression starting on line 3",
      "",
      " in setindex!(::Array{Float64,1}, ::Int64, ::Float64) at ./array.jl:415"
     ]
    }
   ],
   "source": [
    "n = 6\n",
    "v = ones(n)\n",
    "v[n/2] = 2\n",
    "v"
   ]
  },
  {
   "cell_type": "code",
   "execution_count": 81,
   "metadata": {
    "collapsed": false
   },
   "outputs": [
    {
     "data": {
      "text/plain": [
       "3.0"
      ]
     },
     "execution_count": 81,
     "metadata": {},
     "output_type": "execute_result"
    }
   ],
   "source": [
    "n/2"
   ]
  },
  {
   "cell_type": "code",
   "execution_count": 82,
   "metadata": {
    "collapsed": false
   },
   "outputs": [
    {
     "data": {
      "text/plain": [
       "3"
      ]
     },
     "execution_count": 82,
     "metadata": {},
     "output_type": "execute_result"
    }
   ],
   "source": [
    "div(n,2)"
   ]
  },
  {
   "cell_type": "code",
   "execution_count": 83,
   "metadata": {
    "collapsed": false,
    "scrolled": true
   },
   "outputs": [
    {
     "data": {
      "text/plain": [
       "3"
      ]
     },
     "execution_count": 83,
     "metadata": {},
     "output_type": "execute_result"
    }
   ],
   "source": [
    "round(Int, n/2)"
   ]
  },
  {
   "cell_type": "code",
   "execution_count": 84,
   "metadata": {
    "collapsed": false,
    "scrolled": true
   },
   "outputs": [
    {
     "data": {
      "text/plain": [
       "2"
      ]
     },
     "execution_count": 84,
     "metadata": {},
     "output_type": "execute_result"
    }
   ],
   "source": [
    "10 % 4"
   ]
  },
  {
   "cell_type": "markdown",
   "metadata": {},
   "source": [
    "# Fatorial\n",
    "$$ n! = n(n-1)\\dots2. 1 $$"
   ]
  },
  {
   "cell_type": "code",
   "execution_count": 85,
   "metadata": {
    "collapsed": false
   },
   "outputs": [
    {
     "data": {
      "text/plain": [
       "fatorial (generic function with 1 method)"
      ]
     },
     "execution_count": 85,
     "metadata": {},
     "output_type": "execute_result"
    }
   ],
   "source": [
    "function fatorial(n)\n",
    "    resultado = 1\n",
    "    for i = 1:n\n",
    "        resultado = resultado * i\n",
    "    end\n",
    "    return resultado\n",
    "end"
   ]
  },
  {
   "cell_type": "code",
   "execution_count": 86,
   "metadata": {
    "collapsed": false
   },
   "outputs": [
    {
     "data": {
      "text/plain": [
       "24"
      ]
     },
     "execution_count": 86,
     "metadata": {},
     "output_type": "execute_result"
    }
   ],
   "source": [
    "fatorial(4)"
   ]
  },
  {
   "cell_type": "code",
   "execution_count": 87,
   "metadata": {
    "collapsed": false
   },
   "outputs": [
    {
     "data": {
      "text/plain": [
       "120"
      ]
     },
     "execution_count": 87,
     "metadata": {},
     "output_type": "execute_result"
    }
   ],
   "source": [
    "fatorial(5)"
   ]
  },
  {
   "cell_type": "code",
   "execution_count": 88,
   "metadata": {
    "collapsed": false,
    "scrolled": true
   },
   "outputs": [
    {
     "data": {
      "text/plain": [
       "1"
      ]
     },
     "execution_count": 88,
     "metadata": {},
     "output_type": "execute_result"
    }
   ],
   "source": [
    "fatorial(0)"
   ]
  },
  {
   "cell_type": "markdown",
   "metadata": {},
   "source": [
    "## Exercícios\n",
    "\n",
    "- Faça uma função `soma1(n)` que calcula a soma $1 + 2 + 3 + \\dots + n$, usando `for`. (O valor exato é `n(n+1)/2`).\n",
    "- Faça uma função `soma2(n)` que calcula a soma $1^2 + 2^2 + \\dots + n^2$, usando `for`. (O valor exato é `n(n+1)(2n+1)/6`)."
   ]
  },
  {
   "cell_type": "code",
   "execution_count": 89,
   "metadata": {
    "collapsed": false
   },
   "outputs": [
    {
     "data": {
      "text/plain": [
       "sinal (generic function with 1 method)"
      ]
     },
     "execution_count": 89,
     "metadata": {},
     "output_type": "execute_result"
    }
   ],
   "source": [
    "function sinal(x)\n",
    "    if x > 0\n",
    "        return 1\n",
    "    elseif x < 0\n",
    "        return -1\n",
    "    else\n",
    "        return 0\n",
    "    end\n",
    "end"
   ]
  },
  {
   "cell_type": "code",
   "execution_count": 90,
   "metadata": {
    "collapsed": false
   },
   "outputs": [
    {
     "data": {
      "text/plain": [
       "1"
      ]
     },
     "execution_count": 90,
     "metadata": {},
     "output_type": "execute_result"
    }
   ],
   "source": [
    "sinal(3.2)"
   ]
  },
  {
   "cell_type": "code",
   "execution_count": 91,
   "metadata": {
    "collapsed": false
   },
   "outputs": [
    {
     "data": {
      "text/plain": [
       "-1"
      ]
     },
     "execution_count": 91,
     "metadata": {},
     "output_type": "execute_result"
    }
   ],
   "source": [
    "sinal(-1.2)"
   ]
  },
  {
   "cell_type": "code",
   "execution_count": 92,
   "metadata": {
    "collapsed": false
   },
   "outputs": [
    {
     "data": {
      "text/plain": [
       "0"
      ]
     },
     "execution_count": 92,
     "metadata": {},
     "output_type": "execute_result"
    }
   ],
   "source": [
    "sinal(0.0)"
   ]
  },
  {
   "cell_type": "code",
   "execution_count": 93,
   "metadata": {
    "collapsed": false
   },
   "outputs": [
    {
     "data": {
      "text/plain": [
       "bhaskara (generic function with 1 method)"
      ]
     },
     "execution_count": 93,
     "metadata": {},
     "output_type": "execute_result"
    }
   ],
   "source": [
    "function bhaskara(a, b, c)\n",
    "    Δ = b^2 - 4a*c\n",
    "    if Δ < 0\n",
    "        error(\"Nos reais não tem solução\")\n",
    "    end\n",
    "    return (-b + sqrt(Δ))/2a, (-b - sqrt(Δ))/2a\n",
    "end"
   ]
  },
  {
   "cell_type": "code",
   "execution_count": 94,
   "metadata": {
    "collapsed": false
   },
   "outputs": [
    {
     "data": {
      "text/plain": [
       "(-2.0,-3.0)"
      ]
     },
     "execution_count": 94,
     "metadata": {},
     "output_type": "execute_result"
    }
   ],
   "source": [
    "bhaskara(1, 5, 6)"
   ]
  },
  {
   "cell_type": "code",
   "execution_count": 95,
   "metadata": {
    "collapsed": false
   },
   "outputs": [
    {
     "ename": "LoadError",
     "evalue": "LoadError: Nos reais não tem solução\nwhile loading In[95], in expression starting on line 1",
     "output_type": "error",
     "traceback": [
      "LoadError: Nos reais não tem solução\nwhile loading In[95], in expression starting on line 1",
      "",
      " in bhaskara(::Int64, ::Int64, ::Int64) at ./In[93]:4"
     ]
    }
   ],
   "source": [
    "bhaskara(1, 0, 1)"
   ]
  },
  {
   "cell_type": "code",
   "execution_count": 96,
   "metadata": {
    "collapsed": false
   },
   "outputs": [
    {
     "data": {
      "text/plain": [
       "(1.0,-1.0)"
      ]
     },
     "execution_count": 96,
     "metadata": {},
     "output_type": "execute_result"
    }
   ],
   "source": [
    "bhaskara(1, 0, -1)"
   ]
  },
  {
   "cell_type": "markdown",
   "metadata": {},
   "source": [
    "## Exercícios\n",
    "\n",
    "- Faça uma função `primo(n)` que retorna se o número `n` é primo ou não. Lembrando que `n % p` é o resto da divisão de `n` por `p`."
   ]
  },
  {
   "cell_type": "code",
   "execution_count": 97,
   "metadata": {
    "collapsed": false
   },
   "outputs": [
    {
     "data": {
      "text/plain": [
       "ordem (generic function with 1 method)"
      ]
     },
     "execution_count": 97,
     "metadata": {},
     "output_type": "execute_result"
    }
   ],
   "source": [
    "function ordem(N) # ordem(12) = 1, ordem(500) = 2\n",
    "    n = 0\n",
    "    while N > 10\n",
    "        n = n + 1\n",
    "        N = N/10\n",
    "    end\n",
    "    return n\n",
    "end"
   ]
  },
  {
   "cell_type": "code",
   "execution_count": 98,
   "metadata": {
    "collapsed": false
   },
   "outputs": [
    {
     "data": {
      "text/plain": [
       "1"
      ]
     },
     "execution_count": 98,
     "metadata": {},
     "output_type": "execute_result"
    }
   ],
   "source": [
    "ordem(12)"
   ]
  },
  {
   "cell_type": "code",
   "execution_count": 99,
   "metadata": {
    "collapsed": false
   },
   "outputs": [
    {
     "data": {
      "text/plain": [
       "2"
      ]
     },
     "execution_count": 99,
     "metadata": {},
     "output_type": "execute_result"
    }
   ],
   "source": [
    "ordem(500)"
   ]
  },
  {
   "cell_type": "code",
   "execution_count": 100,
   "metadata": {
    "collapsed": false
   },
   "outputs": [
    {
     "data": {
      "text/plain": [
       "0"
      ]
     },
     "execution_count": 100,
     "metadata": {},
     "output_type": "execute_result"
    }
   ],
   "source": [
    "ordem(-1) # Não funciona"
   ]
  },
  {
   "cell_type": "markdown",
   "metadata": {},
   "source": [
    "## Exercícios\n",
    "\n",
    "- Faça uma função `collatz(n)` que calcula uma sequência\n",
    "$$ a_{n+1} = \\left\\{\\begin{array}{ll}\n",
    "a_n/2, & \\mbox{se $a_n$ é par} \\\\\n",
    "3a_n + 1, & \\mbox{se $a_n$ é ímpar}.\n",
    "\\end{array}\\right.$$\n",
    "começando de $a_0 = n$, e parando quando $a_n = 1$.\n",
    "Imprima cada elemento da sequência."
   ]
  },
  {
   "cell_type": "markdown",
   "metadata": {},
   "source": [
    "## Operadores lógicos"
   ]
  },
  {
   "cell_type": "code",
   "execution_count": 166,
   "metadata": {
    "collapsed": false
   },
   "outputs": [
    {
     "data": {
      "text/plain": [
       "true"
      ]
     },
     "execution_count": 166,
     "metadata": {},
     "output_type": "execute_result"
    }
   ],
   "source": [
    "true"
   ]
  },
  {
   "cell_type": "code",
   "execution_count": 167,
   "metadata": {
    "collapsed": false
   },
   "outputs": [
    {
     "data": {
      "text/plain": [
       "true"
      ]
     },
     "execution_count": 167,
     "metadata": {},
     "output_type": "execute_result"
    }
   ],
   "source": [
    "true || false"
   ]
  },
  {
   "cell_type": "code",
   "execution_count": 168,
   "metadata": {
    "collapsed": false
   },
   "outputs": [
    {
     "data": {
      "text/plain": [
       "false"
      ]
     },
     "execution_count": 168,
     "metadata": {},
     "output_type": "execute_result"
    }
   ],
   "source": [
    "true && false"
   ]
  },
  {
   "cell_type": "code",
   "execution_count": 169,
   "metadata": {
    "collapsed": false
   },
   "outputs": [
    {
     "name": "stdout",
     "output_type": "stream",
     "text": [
      "Ok\n"
     ]
    }
   ],
   "source": [
    "if 1 > 0 && \"a\" in [\"a\", \"b\"]\n",
    "    println(\"Ok\")\n",
    "end"
   ]
  },
  {
   "cell_type": "code",
   "execution_count": 171,
   "metadata": {
    "collapsed": false
   },
   "outputs": [
    {
     "data": {
      "text/plain": [
       "fib (generic function with 1 method)"
      ]
     },
     "execution_count": 171,
     "metadata": {},
     "output_type": "execute_result"
    }
   ],
   "source": [
    "function fib(n)\n",
    "    if (n == 1 || n == 2)\n",
    "        return 1\n",
    "    else\n",
    "        return fib(n-1) + fib(n-2)\n",
    "    end\n",
    "end"
   ]
  },
  {
   "cell_type": "code",
   "execution_count": 172,
   "metadata": {
    "collapsed": false
   },
   "outputs": [
    {
     "data": {
      "text/plain": [
       "1"
      ]
     },
     "execution_count": 172,
     "metadata": {},
     "output_type": "execute_result"
    }
   ],
   "source": [
    "fib(1)"
   ]
  },
  {
   "cell_type": "code",
   "execution_count": 173,
   "metadata": {
    "collapsed": false
   },
   "outputs": [
    {
     "data": {
      "text/plain": [
       "1"
      ]
     },
     "execution_count": 173,
     "metadata": {},
     "output_type": "execute_result"
    }
   ],
   "source": [
    "fib(2)"
   ]
  },
  {
   "cell_type": "code",
   "execution_count": 175,
   "metadata": {
    "collapsed": false
   },
   "outputs": [
    {
     "data": {
      "text/plain": [
       "2"
      ]
     },
     "execution_count": 175,
     "metadata": {},
     "output_type": "execute_result"
    }
   ],
   "source": [
    "fib(3)"
   ]
  },
  {
   "cell_type": "code",
   "execution_count": 176,
   "metadata": {
    "collapsed": false
   },
   "outputs": [
    {
     "data": {
      "text/plain": [
       "5"
      ]
     },
     "execution_count": 176,
     "metadata": {},
     "output_type": "execute_result"
    }
   ],
   "source": [
    "fib(5)"
   ]
  },
  {
   "cell_type": "code",
   "execution_count": 178,
   "metadata": {
    "collapsed": false
   },
   "outputs": [
    {
     "data": {
      "text/plain": [
       "false"
      ]
     },
     "execution_count": 178,
     "metadata": {},
     "output_type": "execute_result"
    }
   ],
   "source": [
    "!true"
   ]
  },
  {
   "cell_type": "markdown",
   "metadata": {},
   "source": [
    "## !(a && b) = !a || !b"
   ]
  },
  {
   "cell_type": "code",
   "execution_count": 216,
   "metadata": {
    "collapsed": false
   },
   "outputs": [
    {
     "name": "stdout",
     "output_type": "stream",
     "text": [
      "Fim, x = 5.916196541010944, n = 8\n"
     ]
    }
   ],
   "source": [
    "x = 0\n",
    "n = 0\n",
    "\n",
    "while !(x > 5 || n == 10)\n",
    "    x = x + rand()\n",
    "    n = n + 1\n",
    "end\n",
    "println(\"Fim, x = $x, n = $n\")"
   ]
  },
  {
   "cell_type": "code",
   "execution_count": 221,
   "metadata": {
    "collapsed": false
   },
   "outputs": [
    {
     "name": "stdout",
     "output_type": "stream",
     "text": [
      "Fim, x = 5.0185272613344, n = 9\n"
     ]
    }
   ],
   "source": [
    "n = 0\n",
    "x = 0\n",
    "\n",
    "while x <= 5 && n < 10\n",
    "    x = x + rand()\n",
    "    n = n + 1\n",
    "end\n",
    "println(\"Fim, x = $x, n = $n\")"
   ]
  },
  {
   "cell_type": "code",
   "execution_count": 222,
   "metadata": {
    "collapsed": false
   },
   "outputs": [
    {
     "data": {
      "text/plain": [
       "imprime_se_positivo (generic function with 1 method)"
      ]
     },
     "execution_count": 222,
     "metadata": {},
     "output_type": "execute_result"
    }
   ],
   "source": [
    "## Curto circuito\n",
    "function imprime_se_positivo(x)\n",
    "    x > 0 && println(\"x positivo\")\n",
    "end"
   ]
  },
  {
   "cell_type": "code",
   "execution_count": 223,
   "metadata": {
    "collapsed": false
   },
   "outputs": [
    {
     "name": "stdout",
     "output_type": "stream",
     "text": [
      "x positivo\n"
     ]
    }
   ],
   "source": [
    "imprime_se_positivo(1)"
   ]
  },
  {
   "cell_type": "code",
   "execution_count": 224,
   "metadata": {
    "collapsed": false
   },
   "outputs": [
    {
     "data": {
      "text/plain": [
       "false"
      ]
     },
     "execution_count": 224,
     "metadata": {},
     "output_type": "execute_result"
    }
   ],
   "source": [
    "imprime_se_positivo(0)"
   ]
  },
  {
   "cell_type": "code",
   "execution_count": 225,
   "metadata": {
    "collapsed": false
   },
   "outputs": [
    {
     "data": {
      "text/plain": [
       "\"ok\""
      ]
     },
     "execution_count": 225,
     "metadata": {},
     "output_type": "execute_result"
    }
   ],
   "source": [
    "## Operador ternário\n",
    "1 > 0 ? \"ok\" : \"nao\""
   ]
  },
  {
   "cell_type": "code",
   "execution_count": 226,
   "metadata": {
    "collapsed": false
   },
   "outputs": [
    {
     "data": {
      "text/plain": [
       "maximo (generic function with 1 method)"
      ]
     },
     "execution_count": 226,
     "metadata": {},
     "output_type": "execute_result"
    }
   ],
   "source": [
    "maximo(a, b) = a > b ? a : b"
   ]
  },
  {
   "cell_type": "code",
   "execution_count": 230,
   "metadata": {
    "collapsed": false
   },
   "outputs": [
    {
     "data": {
      "text/plain": [
       "3"
      ]
     },
     "execution_count": 230,
     "metadata": {},
     "output_type": "execute_result"
    }
   ],
   "source": [
    "maximo(2, 3)"
   ]
  },
  {
   "cell_type": "code",
   "execution_count": 231,
   "metadata": {
    "collapsed": false
   },
   "outputs": [
    {
     "data": {
      "text/plain": [
       "5"
      ]
     },
     "execution_count": 231,
     "metadata": {},
     "output_type": "execute_result"
    }
   ],
   "source": [
    "maximo(5, 3)"
   ]
  },
  {
   "cell_type": "markdown",
   "metadata": {},
   "source": [
    "## Arquivos"
   ]
  },
  {
   "cell_type": "code",
   "execution_count": 135,
   "metadata": {
    "collapsed": false
   },
   "outputs": [
    {
     "name": "stdout",
     "output_type": "stream",
     "text": [
      "# Este é um arquivo de exemplo\n",
      "\n",
      "\"\"\"\n",
      "    y = aprox_log(x)\n",
      "\n",
      "Retorna um valor aproximado para `log(x)`, utilizando\n",
      "a expansão\n",
      "\n",
      "$$ \\ln(x) = 2\\bigg(\\frac{x-1}{x+1} + \\frac{1}{3}\\bigg(\\frac{x-1}{x+1}\\bigg)^3\n",
      "+ \\frac{1}{5}\\bigg(\\frac{x-1}{x+1}\\bigg)^5 + \\dots\\bigg)\n",
      "\"\"\"\n",
      "function aprox_log(x)\n",
      "    y = (x-1)/(x+1)\n",
      "    return 2*(y + y^3/3 + y^5/5)\n",
      "end"
     ]
    }
   ],
   "source": [
    ";cat exemplo.jl"
   ]
  },
  {
   "cell_type": "code",
   "execution_count": 136,
   "metadata": {
    "collapsed": false,
    "scrolled": true
   },
   "outputs": [
    {
     "ename": "LoadError",
     "evalue": "LoadError: UndefVarError: aprox_log not defined\nwhile loading In[136], in expression starting on line 1",
     "output_type": "error",
     "traceback": [
      "LoadError: UndefVarError: aprox_log not defined\nwhile loading In[136], in expression starting on line 1",
      ""
     ]
    }
   ],
   "source": [
    "aprox_log(2)"
   ]
  },
  {
   "cell_type": "code",
   "execution_count": 162,
   "metadata": {
    "collapsed": false
   },
   "outputs": [
    {
     "name": "stderr",
     "output_type": "stream",
     "text": [
      "WARNING: Method definition aprox_log(Any) in module Main at /home/abel/projetos/smne-2016-julia/exemplo.jl:15 overwritten at /home/abel/projetos/smne-2016-julia/exemplo.jl:14.\n",
      "WARNING: replacing docs for 'aprox_log :: Tuple{Any}' in module 'Main'.\n"
     ]
    },
    {
     "data": {
      "text/plain": [
       "aprox_log"
      ]
     },
     "execution_count": 162,
     "metadata": {},
     "output_type": "execute_result"
    }
   ],
   "source": [
    "include(\"exemplo.jl\")"
   ]
  },
  {
   "cell_type": "code",
   "execution_count": 163,
   "metadata": {
    "collapsed": false,
    "scrolled": true
   },
   "outputs": [
    {
     "data": {
      "text/plain": [
       "0.6930041152263374"
      ]
     },
     "execution_count": 163,
     "metadata": {},
     "output_type": "execute_result"
    }
   ],
   "source": [
    "aprox_log(2)"
   ]
  },
  {
   "cell_type": "code",
   "execution_count": 164,
   "metadata": {
    "collapsed": false
   },
   "outputs": [
    {
     "name": "stdout",
     "output_type": "stream",
     "text": [
      "search:\n",
      "\n"
     ]
    },
    {
     "data": {
      "text/markdown": [
       "```\n",
       "y = aprox_log(x)\n",
       "```\n",
       "\n",
       "Retorna um valor aproximado para `log(x)`, utilizando a expansão\n",
       "\n",
       "ln(x) = 2(z + z^3/3 + z^5/5 + ...)\n",
       "\n",
       "onde z = (x-1)/(x+1).\n"
      ],
      "text/plain": [
       "```\n",
       "y = aprox_log(x)\n",
       "```\n",
       "\n",
       "Retorna um valor aproximado para `log(x)`, utilizando a expansão\n",
       "\n",
       "ln(x) = 2(z + z^3/3 + z^5/5 + ...)\n",
       "\n",
       "onde z = (x-1)/(x+1).\n"
      ]
     },
     "execution_count": 164,
     "metadata": {},
     "output_type": "execute_result"
    }
   ],
   "source": [
    "?aprox_log"
   ]
  },
  {
   "cell_type": "code",
   "execution_count": 165,
   "metadata": {
    "collapsed": false
   },
   "outputs": [
    {
     "data": {
      "text/plain": [
       "0.6931471805599453"
      ]
     },
     "execution_count": 165,
     "metadata": {},
     "output_type": "execute_result"
    }
   ],
   "source": [
    "log(2)"
   ]
  },
  {
   "cell_type": "markdown",
   "metadata": {},
   "source": [
    "## Pacotes"
   ]
  },
  {
   "cell_type": "markdown",
   "metadata": {},
   "source": [
    "http://pkg.julialang.org/ ou busque no google."
   ]
  },
  {
   "cell_type": "markdown",
   "metadata": {},
   "source": [
    "### Instalação de pacotes"
   ]
  },
  {
   "cell_type": "code",
   "execution_count": 105,
   "metadata": {
    "collapsed": false
   },
   "outputs": [
    {
     "ename": "LoadError",
     "evalue": "LoadError: Não rode\nwhile loading In[105], in expression starting on line 2",
     "output_type": "error",
     "traceback": [
      "LoadError: Não rode\nwhile loading In[105], in expression starting on line 2",
      "",
      " in error(::String) at ./error.jl:21"
     ]
    }
   ],
   "source": [
    "# Não rode pois leva um tempo\n",
    "error(\"Não rode\")\n",
    "Pkg.add(\"Plots\")\n",
    "Pkg.clone(\"https://github.com/abelsiqueira/NLPModels.jl\")\n",
    "Pkg.build(\"NLPModels.jl\")"
   ]
  },
  {
   "cell_type": "markdown",
   "metadata": {},
   "source": [
    "Fazer um pacote dá bastante mais trabalho. Ele exige uma hierarquia\n",
    "específica do diretório. Só a criação decente de um pacote já seria\n",
    "uma aula.\n",
    "\n",
    "Veja http://abelsiqueira.github.io/blog/test-driven-development-in-julia/\n",
    "e http://abelsiqueira.github.io/blog/automated-testing/\n",
    "para mais informações, ou o próprio help."
   ]
  },
  {
   "cell_type": "markdown",
   "metadata": {},
   "source": [
    "## Plots"
   ]
  },
  {
   "cell_type": "code",
   "execution_count": 106,
   "metadata": {
    "collapsed": false
   },
   "outputs": [
    {
     "name": "stderr",
     "output_type": "stream",
     "text": [
      "WARNING: using Plots.w in module Main conflicts with an existing identifier.\n",
      "WARNING: using Plots.h in module Main conflicts with an existing identifier.\n"
     ]
    },
    {
     "data": {
      "text/plain": [
       "Plots.GRBackend()"
      ]
     },
     "execution_count": 106,
     "metadata": {},
     "output_type": "execute_result"
    }
   ],
   "source": [
    "using Plots\n",
    "gr()"
   ]
  },
  {
   "cell_type": "code",
   "execution_count": 107,
   "metadata": {
    "collapsed": false
   },
   "outputs": [
    {
     "data": {
      "text/html": [
       "<?xml version=\"1.0\" encoding=\"utf-8\"?>\n",
       "<svg xmlns=\"http://www.w3.org/2000/svg\" xmlns:xlink=\"http://www.w3.org/1999/xlink\" width=\"600\" height=\"400\" viewBox=\"0 0 600 400\">\n",
       "<defs>\n",
       "  <clipPath id=\"clip00\">\n",
       "    <rect x=\"0\" y=\"0\" width=\"600\" height=\"400\"/>\n",
       "  </clipPath>\n",
       "</defs>\n",
       "<polygon clip-path=\"url(#clip00)\" points=\"\n",
       "0,400 600,400 600,0 0,0 \n",
       "  \" fill=\"#ffffff\" fill-opacity=\"1\"/>\n",
       "<defs>\n",
       "  <clipPath id=\"clip01\">\n",
       "    <rect x=\"120\" y=\"0\" width=\"421\" height=\"400\"/>\n",
       "  </clipPath>\n",
       "</defs>\n",
       "<polygon clip-path=\"url(#clip00)\" points=\"\n",
       "30.6037,384.952 596.063,384.952 596.063,3.93701 30.6037,3.93701 \n",
       "  \" fill=\"#ffffff\" fill-opacity=\"1\"/>\n",
       "<defs>\n",
       "  <clipPath id=\"clip02\">\n",
       "    <rect x=\"30\" y=\"3\" width=\"566\" height=\"382\"/>\n",
       "  </clipPath>\n",
       "</defs>\n",
       "<polyline clip-path=\"url(#clip02)\" style=\"stroke:#00002d; stroke-width:0.8; stroke-opacity:0.5; fill:none\" stroke-dasharray=\"1, 2\" points=\"\n",
       "  30.6037,379.237 30.6037,9.65223 \n",
       "  \"/>\n",
       "<polyline clip-path=\"url(#clip02)\" style=\"stroke:#00002d; stroke-width:0.8; stroke-opacity:0.5; fill:none\" stroke-dasharray=\"1, 2\" points=\"\n",
       "  171.969,379.237 171.969,9.65223 \n",
       "  \"/>\n",
       "<polyline clip-path=\"url(#clip02)\" style=\"stroke:#00002d; stroke-width:0.8; stroke-opacity:0.5; fill:none\" stroke-dasharray=\"1, 2\" points=\"\n",
       "  313.333,379.237 313.333,9.65223 \n",
       "  \"/>\n",
       "<polyline clip-path=\"url(#clip02)\" style=\"stroke:#00002d; stroke-width:0.8; stroke-opacity:0.5; fill:none\" stroke-dasharray=\"1, 2\" points=\"\n",
       "  454.698,379.237 454.698,9.65223 \n",
       "  \"/>\n",
       "<polyline clip-path=\"url(#clip02)\" style=\"stroke:#00002d; stroke-width:0.8; stroke-opacity:0.5; fill:none\" stroke-dasharray=\"1, 2\" points=\"\n",
       "  596.063,379.237 596.063,9.65223 \n",
       "  \"/>\n",
       "<polyline clip-path=\"url(#clip02)\" style=\"stroke:#00002d; stroke-width:0.8; stroke-opacity:0.5; fill:none\" stroke-dasharray=\"1, 2\" points=\"\n",
       "  39.0856,384.952 587.581,384.952 \n",
       "  \"/>\n",
       "<polyline clip-path=\"url(#clip02)\" style=\"stroke:#00002d; stroke-width:0.8; stroke-opacity:0.5; fill:none\" stroke-dasharray=\"1, 2\" points=\"\n",
       "  39.0856,289.698 587.581,289.698 \n",
       "  \"/>\n",
       "<polyline clip-path=\"url(#clip02)\" style=\"stroke:#00002d; stroke-width:0.8; stroke-opacity:0.5; fill:none\" stroke-dasharray=\"1, 2\" points=\"\n",
       "  39.0856,194.444 587.581,194.444 \n",
       "  \"/>\n",
       "<polyline clip-path=\"url(#clip02)\" style=\"stroke:#00002d; stroke-width:0.8; stroke-opacity:0.5; fill:none\" stroke-dasharray=\"1, 2\" points=\"\n",
       "  39.0856,99.1907 587.581,99.1907 \n",
       "  \"/>\n",
       "<polyline clip-path=\"url(#clip02)\" style=\"stroke:#00002d; stroke-width:0.8; stroke-opacity:0.5; fill:none\" stroke-dasharray=\"1, 2\" points=\"\n",
       "  39.0856,3.93701 587.581,3.93701 \n",
       "  \"/>\n",
       "<polyline clip-path=\"url(#clip02)\" style=\"stroke:#00002d; stroke-width:0.8; stroke-opacity:1; fill:none\" points=\"\n",
       "  30.6037,384.952 596.063,384.952 \n",
       "  \"/>\n",
       "<polyline clip-path=\"url(#clip02)\" style=\"stroke:#00002d; stroke-width:0.8; stroke-opacity:1; fill:none\" points=\"\n",
       "  30.6037,384.952 30.6037,379.237 \n",
       "  \"/>\n",
       "<polyline clip-path=\"url(#clip02)\" style=\"stroke:#00002d; stroke-width:0.8; stroke-opacity:1; fill:none\" points=\"\n",
       "  171.969,384.952 171.969,379.237 \n",
       "  \"/>\n",
       "<polyline clip-path=\"url(#clip02)\" style=\"stroke:#00002d; stroke-width:0.8; stroke-opacity:1; fill:none\" points=\"\n",
       "  313.333,384.952 313.333,379.237 \n",
       "  \"/>\n",
       "<polyline clip-path=\"url(#clip02)\" style=\"stroke:#00002d; stroke-width:0.8; stroke-opacity:1; fill:none\" points=\"\n",
       "  454.698,384.952 454.698,379.237 \n",
       "  \"/>\n",
       "<polyline clip-path=\"url(#clip02)\" style=\"stroke:#00002d; stroke-width:0.8; stroke-opacity:1; fill:none\" points=\"\n",
       "  596.063,384.952 596.063,379.237 \n",
       "  \"/>\n",
       "<polyline clip-path=\"url(#clip02)\" style=\"stroke:#00002d; stroke-width:0.8; stroke-opacity:1; fill:none\" points=\"\n",
       "  30.6037,384.952 30.6037,3.93701 \n",
       "  \"/>\n",
       "<polyline clip-path=\"url(#clip02)\" style=\"stroke:#00002d; stroke-width:0.8; stroke-opacity:1; fill:none\" points=\"\n",
       "  30.6037,384.952 39.0856,384.952 \n",
       "  \"/>\n",
       "<polyline clip-path=\"url(#clip02)\" style=\"stroke:#00002d; stroke-width:0.8; stroke-opacity:1; fill:none\" points=\"\n",
       "  30.6037,289.698 39.0856,289.698 \n",
       "  \"/>\n",
       "<polyline clip-path=\"url(#clip02)\" style=\"stroke:#00002d; stroke-width:0.8; stroke-opacity:1; fill:none\" points=\"\n",
       "  30.6037,194.444 39.0856,194.444 \n",
       "  \"/>\n",
       "<polyline clip-path=\"url(#clip02)\" style=\"stroke:#00002d; stroke-width:0.8; stroke-opacity:1; fill:none\" points=\"\n",
       "  30.6037,99.1907 39.0856,99.1907 \n",
       "  \"/>\n",
       "<polyline clip-path=\"url(#clip02)\" style=\"stroke:#00002d; stroke-width:0.8; stroke-opacity:1; fill:none\" points=\"\n",
       "  30.6037,3.93701 39.0856,3.93701 \n",
       "  \"/>\n",
       "<g clip-path=\"url(#clip00)\">\n",
       "<text style=\"fill:#00002d; fill-opacity:1; font-family:Arial,Helvetica Neue,Helvetica,sans-serif; font-size:12; text-anchor:middle;\" transform=\"rotate(0, 30.6037, 396.952)\" x=\"30.6037\" y=\"396.952\">1.0</text>\n",
       "</g>\n",
       "<g clip-path=\"url(#clip00)\">\n",
       "<text style=\"fill:#00002d; fill-opacity:1; font-family:Arial,Helvetica Neue,Helvetica,sans-serif; font-size:12; text-anchor:middle;\" transform=\"rotate(0, 171.969, 396.952)\" x=\"171.969\" y=\"396.952\">1.5</text>\n",
       "</g>\n",
       "<g clip-path=\"url(#clip00)\">\n",
       "<text style=\"fill:#00002d; fill-opacity:1; font-family:Arial,Helvetica Neue,Helvetica,sans-serif; font-size:12; text-anchor:middle;\" transform=\"rotate(0, 313.333, 396.952)\" x=\"313.333\" y=\"396.952\">2.0</text>\n",
       "</g>\n",
       "<g clip-path=\"url(#clip00)\">\n",
       "<text style=\"fill:#00002d; fill-opacity:1; font-family:Arial,Helvetica Neue,Helvetica,sans-serif; font-size:12; text-anchor:middle;\" transform=\"rotate(0, 454.698, 396.952)\" x=\"454.698\" y=\"396.952\">2.5</text>\n",
       "</g>\n",
       "<g clip-path=\"url(#clip00)\">\n",
       "<text style=\"fill:#00002d; fill-opacity:1; font-family:Arial,Helvetica Neue,Helvetica,sans-serif; font-size:12; text-anchor:middle;\" transform=\"rotate(0, 596.063, 396.952)\" x=\"596.063\" y=\"396.952\">3.0</text>\n",
       "</g>\n",
       "<g clip-path=\"url(#clip00)\">\n",
       "<text style=\"fill:#00002d; fill-opacity:1; font-family:Arial,Helvetica Neue,Helvetica,sans-serif; font-size:12; text-anchor:end;\" transform=\"rotate(0, 29.4037, 389.452)\" x=\"29.4037\" y=\"389.452\">1.0</text>\n",
       "</g>\n",
       "<g clip-path=\"url(#clip00)\">\n",
       "<text style=\"fill:#00002d; fill-opacity:1; font-family:Arial,Helvetica Neue,Helvetica,sans-serif; font-size:12; text-anchor:end;\" transform=\"rotate(0, 29.4037, 294.198)\" x=\"29.4037\" y=\"294.198\">1.5</text>\n",
       "</g>\n",
       "<g clip-path=\"url(#clip00)\">\n",
       "<text style=\"fill:#00002d; fill-opacity:1; font-family:Arial,Helvetica Neue,Helvetica,sans-serif; font-size:12; text-anchor:end;\" transform=\"rotate(0, 29.4037, 198.944)\" x=\"29.4037\" y=\"198.944\">2.0</text>\n",
       "</g>\n",
       "<g clip-path=\"url(#clip00)\">\n",
       "<text style=\"fill:#00002d; fill-opacity:1; font-family:Arial,Helvetica Neue,Helvetica,sans-serif; font-size:12; text-anchor:end;\" transform=\"rotate(0, 29.4037, 103.691)\" x=\"29.4037\" y=\"103.691\">2.5</text>\n",
       "</g>\n",
       "<g clip-path=\"url(#clip00)\">\n",
       "<text style=\"fill:#00002d; fill-opacity:1; font-family:Arial,Helvetica Neue,Helvetica,sans-serif; font-size:12; text-anchor:end;\" transform=\"rotate(0, 29.4037, 8.43701)\" x=\"29.4037\" y=\"8.43701\">3.0</text>\n",
       "</g>\n",
       "<polyline clip-path=\"url(#clip02)\" style=\"stroke:#0099ff; stroke-width:0.8; stroke-opacity:1; fill:none\" points=\"\n",
       "  30.6037,3.93701 313.333,384.952 596.063,194.444 \n",
       "  \"/>\n",
       "<polygon clip-path=\"url(#clip00)\" points=\"\n",
       "505.547,55.057 578.063,55.057 578.063,24.817 505.547,24.817 \n",
       "  \" fill=\"#ffffff\" fill-opacity=\"1\"/>\n",
       "<polyline clip-path=\"url(#clip00)\" style=\"stroke:#00002d; stroke-width:0.8; stroke-opacity:1; fill:none\" points=\"\n",
       "  505.547,55.057 578.063,55.057 578.063,24.817 505.547,24.817 505.547,55.057 \n",
       "  \"/>\n",
       "<polyline clip-path=\"url(#clip00)\" style=\"stroke:#0099ff; stroke-width:0.8; stroke-opacity:1; fill:none\" points=\"\n",
       "  511.547,39.937 547.547,39.937 \n",
       "  \"/>\n",
       "<g clip-path=\"url(#clip00)\">\n",
       "<text style=\"fill:#00002d; fill-opacity:1; font-family:Arial,Helvetica Neue,Helvetica,sans-serif; font-size:12; text-anchor:start;\" transform=\"rotate(0, 553.547, 44.437)\" x=\"553.547\" y=\"44.437\">y1</text>\n",
       "</g>\n",
       "</svg>\n"
      ]
     },
     "execution_count": 107,
     "metadata": {},
     "output_type": "execute_result"
    }
   ],
   "source": [
    "plot([1; 2; 3], [3; 1; 2])"
   ]
  },
  {
   "cell_type": "code",
   "execution_count": 108,
   "metadata": {
    "collapsed": false
   },
   "outputs": [
    {
     "data": {
      "text/html": [
       "<?xml version=\"1.0\" encoding=\"utf-8\"?>\n",
       "<svg xmlns=\"http://www.w3.org/2000/svg\" xmlns:xlink=\"http://www.w3.org/1999/xlink\" width=\"600\" height=\"400\" viewBox=\"0 0 600 400\">\n",
       "<defs>\n",
       "  <clipPath id=\"clip00\">\n",
       "    <rect x=\"0\" y=\"0\" width=\"600\" height=\"400\"/>\n",
       "  </clipPath>\n",
       "</defs>\n",
       "<polygon clip-path=\"url(#clip00)\" points=\"\n",
       "0,400 600,400 600,0 0,0 \n",
       "  \" fill=\"#ffffff\" fill-opacity=\"1\"/>\n",
       "<defs>\n",
       "  <clipPath id=\"clip01\">\n",
       "    <rect x=\"120\" y=\"0\" width=\"421\" height=\"400\"/>\n",
       "  </clipPath>\n",
       "</defs>\n",
       "<polygon clip-path=\"url(#clip00)\" points=\"\n",
       "30.6037,384.952 596.063,384.952 596.063,3.93701 30.6037,3.93701 \n",
       "  \" fill=\"#ffffff\" fill-opacity=\"1\"/>\n",
       "<defs>\n",
       "  <clipPath id=\"clip02\">\n",
       "    <rect x=\"30\" y=\"3\" width=\"566\" height=\"382\"/>\n",
       "  </clipPath>\n",
       "</defs>\n",
       "<polyline clip-path=\"url(#clip02)\" style=\"stroke:#00002d; stroke-width:0.8; stroke-opacity:0.5; fill:none\" stroke-dasharray=\"1, 2\" points=\"\n",
       "  30.6037,379.237 30.6037,9.65223 \n",
       "  \"/>\n",
       "<polyline clip-path=\"url(#clip02)\" style=\"stroke:#00002d; stroke-width:0.8; stroke-opacity:0.5; fill:none\" stroke-dasharray=\"1, 2\" points=\"\n",
       "  143.696,379.237 143.696,9.65223 \n",
       "  \"/>\n",
       "<polyline clip-path=\"url(#clip02)\" style=\"stroke:#00002d; stroke-width:0.8; stroke-opacity:0.5; fill:none\" stroke-dasharray=\"1, 2\" points=\"\n",
       "  256.787,379.237 256.787,9.65223 \n",
       "  \"/>\n",
       "<polyline clip-path=\"url(#clip02)\" style=\"stroke:#00002d; stroke-width:0.8; stroke-opacity:0.5; fill:none\" stroke-dasharray=\"1, 2\" points=\"\n",
       "  369.879,379.237 369.879,9.65223 \n",
       "  \"/>\n",
       "<polyline clip-path=\"url(#clip02)\" style=\"stroke:#00002d; stroke-width:0.8; stroke-opacity:0.5; fill:none\" stroke-dasharray=\"1, 2\" points=\"\n",
       "  482.971,379.237 482.971,9.65223 \n",
       "  \"/>\n",
       "<polyline clip-path=\"url(#clip02)\" style=\"stroke:#00002d; stroke-width:0.8; stroke-opacity:0.5; fill:none\" stroke-dasharray=\"1, 2\" points=\"\n",
       "  596.063,379.237 596.063,9.65223 \n",
       "  \"/>\n",
       "<polyline clip-path=\"url(#clip02)\" style=\"stroke:#00002d; stroke-width:0.8; stroke-opacity:0.5; fill:none\" stroke-dasharray=\"1, 2\" points=\"\n",
       "  39.0856,384.952 587.581,384.952 \n",
       "  \"/>\n",
       "<polyline clip-path=\"url(#clip02)\" style=\"stroke:#00002d; stroke-width:0.8; stroke-opacity:0.5; fill:none\" stroke-dasharray=\"1, 2\" points=\"\n",
       "  39.0856,308.749 587.581,308.749 \n",
       "  \"/>\n",
       "<polyline clip-path=\"url(#clip02)\" style=\"stroke:#00002d; stroke-width:0.8; stroke-opacity:0.5; fill:none\" stroke-dasharray=\"1, 2\" points=\"\n",
       "  39.0856,232.546 587.581,232.546 \n",
       "  \"/>\n",
       "<polyline clip-path=\"url(#clip02)\" style=\"stroke:#00002d; stroke-width:0.8; stroke-opacity:0.5; fill:none\" stroke-dasharray=\"1, 2\" points=\"\n",
       "  39.0856,156.343 587.581,156.343 \n",
       "  \"/>\n",
       "<polyline clip-path=\"url(#clip02)\" style=\"stroke:#00002d; stroke-width:0.8; stroke-opacity:0.5; fill:none\" stroke-dasharray=\"1, 2\" points=\"\n",
       "  39.0856,80.14 587.581,80.14 \n",
       "  \"/>\n",
       "<polyline clip-path=\"url(#clip02)\" style=\"stroke:#00002d; stroke-width:0.8; stroke-opacity:0.5; fill:none\" stroke-dasharray=\"1, 2\" points=\"\n",
       "  39.0856,3.93701 587.581,3.93701 \n",
       "  \"/>\n",
       "<polyline clip-path=\"url(#clip02)\" style=\"stroke:#00002d; stroke-width:0.8; stroke-opacity:1; fill:none\" points=\"\n",
       "  30.6037,384.952 596.063,384.952 \n",
       "  \"/>\n",
       "<polyline clip-path=\"url(#clip02)\" style=\"stroke:#00002d; stroke-width:0.8; stroke-opacity:1; fill:none\" points=\"\n",
       "  30.6037,384.952 30.6037,379.237 \n",
       "  \"/>\n",
       "<polyline clip-path=\"url(#clip02)\" style=\"stroke:#00002d; stroke-width:0.8; stroke-opacity:1; fill:none\" points=\"\n",
       "  143.696,384.952 143.696,379.237 \n",
       "  \"/>\n",
       "<polyline clip-path=\"url(#clip02)\" style=\"stroke:#00002d; stroke-width:0.8; stroke-opacity:1; fill:none\" points=\"\n",
       "  256.787,384.952 256.787,379.237 \n",
       "  \"/>\n",
       "<polyline clip-path=\"url(#clip02)\" style=\"stroke:#00002d; stroke-width:0.8; stroke-opacity:1; fill:none\" points=\"\n",
       "  369.879,384.952 369.879,379.237 \n",
       "  \"/>\n",
       "<polyline clip-path=\"url(#clip02)\" style=\"stroke:#00002d; stroke-width:0.8; stroke-opacity:1; fill:none\" points=\"\n",
       "  482.971,384.952 482.971,379.237 \n",
       "  \"/>\n",
       "<polyline clip-path=\"url(#clip02)\" style=\"stroke:#00002d; stroke-width:0.8; stroke-opacity:1; fill:none\" points=\"\n",
       "  596.063,384.952 596.063,379.237 \n",
       "  \"/>\n",
       "<polyline clip-path=\"url(#clip02)\" style=\"stroke:#00002d; stroke-width:0.8; stroke-opacity:1; fill:none\" points=\"\n",
       "  30.6037,384.952 30.6037,3.93701 \n",
       "  \"/>\n",
       "<polyline clip-path=\"url(#clip02)\" style=\"stroke:#00002d; stroke-width:0.8; stroke-opacity:1; fill:none\" points=\"\n",
       "  30.6037,384.952 39.0856,384.952 \n",
       "  \"/>\n",
       "<polyline clip-path=\"url(#clip02)\" style=\"stroke:#00002d; stroke-width:0.8; stroke-opacity:1; fill:none\" points=\"\n",
       "  30.6037,308.749 39.0856,308.749 \n",
       "  \"/>\n",
       "<polyline clip-path=\"url(#clip02)\" style=\"stroke:#00002d; stroke-width:0.8; stroke-opacity:1; fill:none\" points=\"\n",
       "  30.6037,232.546 39.0856,232.546 \n",
       "  \"/>\n",
       "<polyline clip-path=\"url(#clip02)\" style=\"stroke:#00002d; stroke-width:0.8; stroke-opacity:1; fill:none\" points=\"\n",
       "  30.6037,156.343 39.0856,156.343 \n",
       "  \"/>\n",
       "<polyline clip-path=\"url(#clip02)\" style=\"stroke:#00002d; stroke-width:0.8; stroke-opacity:1; fill:none\" points=\"\n",
       "  30.6037,80.14 39.0856,80.14 \n",
       "  \"/>\n",
       "<polyline clip-path=\"url(#clip02)\" style=\"stroke:#00002d; stroke-width:0.8; stroke-opacity:1; fill:none\" points=\"\n",
       "  30.6037,3.93701 39.0856,3.93701 \n",
       "  \"/>\n",
       "<g clip-path=\"url(#clip00)\">\n",
       "<text style=\"fill:#00002d; fill-opacity:1; font-family:Arial,Helvetica Neue,Helvetica,sans-serif; font-size:12; text-anchor:middle;\" transform=\"rotate(0, 30.6037, 396.952)\" x=\"30.6037\" y=\"396.952\">0.0</text>\n",
       "</g>\n",
       "<g clip-path=\"url(#clip00)\">\n",
       "<text style=\"fill:#00002d; fill-opacity:1; font-family:Arial,Helvetica Neue,Helvetica,sans-serif; font-size:12; text-anchor:middle;\" transform=\"rotate(0, 143.696, 396.952)\" x=\"143.696\" y=\"396.952\">0.2</text>\n",
       "</g>\n",
       "<g clip-path=\"url(#clip00)\">\n",
       "<text style=\"fill:#00002d; fill-opacity:1; font-family:Arial,Helvetica Neue,Helvetica,sans-serif; font-size:12; text-anchor:middle;\" transform=\"rotate(0, 256.787, 396.952)\" x=\"256.787\" y=\"396.952\">0.4</text>\n",
       "</g>\n",
       "<g clip-path=\"url(#clip00)\">\n",
       "<text style=\"fill:#00002d; fill-opacity:1; font-family:Arial,Helvetica Neue,Helvetica,sans-serif; font-size:12; text-anchor:middle;\" transform=\"rotate(0, 369.879, 396.952)\" x=\"369.879\" y=\"396.952\">0.6</text>\n",
       "</g>\n",
       "<g clip-path=\"url(#clip00)\">\n",
       "<text style=\"fill:#00002d; fill-opacity:1; font-family:Arial,Helvetica Neue,Helvetica,sans-serif; font-size:12; text-anchor:middle;\" transform=\"rotate(0, 482.971, 396.952)\" x=\"482.971\" y=\"396.952\">0.8</text>\n",
       "</g>\n",
       "<g clip-path=\"url(#clip00)\">\n",
       "<text style=\"fill:#00002d; fill-opacity:1; font-family:Arial,Helvetica Neue,Helvetica,sans-serif; font-size:12; text-anchor:middle;\" transform=\"rotate(0, 596.063, 396.952)\" x=\"596.063\" y=\"396.952\">1.0</text>\n",
       "</g>\n",
       "<g clip-path=\"url(#clip00)\">\n",
       "<text style=\"fill:#00002d; fill-opacity:1; font-family:Arial,Helvetica Neue,Helvetica,sans-serif; font-size:12; text-anchor:end;\" transform=\"rotate(0, 29.4037, 389.452)\" x=\"29.4037\" y=\"389.452\">0.0</text>\n",
       "</g>\n",
       "<g clip-path=\"url(#clip00)\">\n",
       "<text style=\"fill:#00002d; fill-opacity:1; font-family:Arial,Helvetica Neue,Helvetica,sans-serif; font-size:12; text-anchor:end;\" transform=\"rotate(0, 29.4037, 313.249)\" x=\"29.4037\" y=\"313.249\">0.2</text>\n",
       "</g>\n",
       "<g clip-path=\"url(#clip00)\">\n",
       "<text style=\"fill:#00002d; fill-opacity:1; font-family:Arial,Helvetica Neue,Helvetica,sans-serif; font-size:12; text-anchor:end;\" transform=\"rotate(0, 29.4037, 237.046)\" x=\"29.4037\" y=\"237.046\">0.4</text>\n",
       "</g>\n",
       "<g clip-path=\"url(#clip00)\">\n",
       "<text style=\"fill:#00002d; fill-opacity:1; font-family:Arial,Helvetica Neue,Helvetica,sans-serif; font-size:12; text-anchor:end;\" transform=\"rotate(0, 29.4037, 160.843)\" x=\"29.4037\" y=\"160.843\">0.6</text>\n",
       "</g>\n",
       "<g clip-path=\"url(#clip00)\">\n",
       "<text style=\"fill:#00002d; fill-opacity:1; font-family:Arial,Helvetica Neue,Helvetica,sans-serif; font-size:12; text-anchor:end;\" transform=\"rotate(0, 29.4037, 84.64)\" x=\"29.4037\" y=\"84.64\">0.8</text>\n",
       "</g>\n",
       "<g clip-path=\"url(#clip00)\">\n",
       "<text style=\"fill:#00002d; fill-opacity:1; font-family:Arial,Helvetica Neue,Helvetica,sans-serif; font-size:12; text-anchor:end;\" transform=\"rotate(0, 29.4037, 8.43701)\" x=\"29.4037\" y=\"8.43701\">1.0</text>\n",
       "</g>\n",
       "<polyline clip-path=\"url(#clip02)\" style=\"stroke:#0099ff; stroke-width:0.8; stroke-opacity:1; fill:none\" points=\"\n",
       "  30.6037,384.952 36.3154,384.913 42.0271,384.796 47.7388,384.602 53.4505,384.33 59.1622,383.98 64.8739,383.552 70.5856,383.047 76.2974,382.464 82.0091,381.803 \n",
       "  87.7208,381.064 93.4325,380.248 99.1442,379.354 104.856,378.382 110.568,377.332 116.279,376.205 121.991,375 127.703,373.717 133.414,372.356 139.126,370.918 \n",
       "  144.838,369.402 150.55,367.808 156.261,366.136 161.973,364.387 167.685,362.56 173.396,360.655 179.108,358.672 184.82,356.612 190.532,354.474 196.243,352.258 \n",
       "  201.955,349.964 207.667,347.593 213.378,345.144 219.09,342.617 224.802,340.012 230.514,337.33 236.225,334.57 241.937,331.732 247.649,328.816 253.36,325.823 \n",
       "  259.072,322.752 264.784,319.603 270.496,316.376 276.207,313.072 281.919,309.69 287.631,306.23 293.342,302.692 299.054,299.077 304.766,295.384 310.477,291.613 \n",
       "  316.189,287.764 321.901,283.838 327.613,279.834 333.324,275.752 339.036,271.592 344.748,267.355 350.459,263.04 356.171,258.647 361.883,254.176 367.595,249.628 \n",
       "  373.306,245.002 379.018,240.298 384.73,235.516 390.441,230.657 396.153,225.719 401.865,220.705 407.577,215.612 413.288,210.442 419,205.193 424.712,199.868 \n",
       "  430.423,194.464 436.135,188.982 441.847,183.423 447.559,177.786 453.27,172.072 458.982,166.279 464.694,160.409 470.405,154.461 476.117,148.436 481.829,142.332 \n",
       "  487.54,136.151 493.252,129.892 498.964,123.556 504.676,117.141 510.387,110.649 516.099,104.079 521.811,97.4316 527.522,90.7062 533.234,83.9031 538.946,77.0222 \n",
       "  544.658,70.0636 550.369,63.0272 556.081,55.913 561.793,48.7211 567.504,41.4515 573.216,34.1041 578.928,26.6789 584.64,19.176 590.351,11.5954 596.063,3.93701 \n",
       "  \n",
       "  \"/>\n",
       "<polygon clip-path=\"url(#clip00)\" points=\"\n",
       "505.547,55.057 578.063,55.057 578.063,24.817 505.547,24.817 \n",
       "  \" fill=\"#ffffff\" fill-opacity=\"1\"/>\n",
       "<polyline clip-path=\"url(#clip00)\" style=\"stroke:#00002d; stroke-width:0.8; stroke-opacity:1; fill:none\" points=\"\n",
       "  505.547,55.057 578.063,55.057 578.063,24.817 505.547,24.817 505.547,55.057 \n",
       "  \"/>\n",
       "<polyline clip-path=\"url(#clip00)\" style=\"stroke:#0099ff; stroke-width:0.8; stroke-opacity:1; fill:none\" points=\"\n",
       "  511.547,39.937 547.547,39.937 \n",
       "  \"/>\n",
       "<g clip-path=\"url(#clip00)\">\n",
       "<text style=\"fill:#00002d; fill-opacity:1; font-family:Arial,Helvetica Neue,Helvetica,sans-serif; font-size:12; text-anchor:start;\" transform=\"rotate(0, 553.547, 44.437)\" x=\"553.547\" y=\"44.437\">y1</text>\n",
       "</g>\n",
       "</svg>\n"
      ]
     },
     "execution_count": 108,
     "metadata": {},
     "output_type": "execute_result"
    }
   ],
   "source": [
    "x = linspace(0, 1, 100)\n",
    "y = x.^2\n",
    "plot(x, y)"
   ]
  },
  {
   "cell_type": "code",
   "execution_count": 109,
   "metadata": {
    "collapsed": false
   },
   "outputs": [
    {
     "data": {
      "text/html": [
       "<?xml version=\"1.0\" encoding=\"utf-8\"?>\n",
       "<svg xmlns=\"http://www.w3.org/2000/svg\" xmlns:xlink=\"http://www.w3.org/1999/xlink\" width=\"600\" height=\"400\" viewBox=\"0 0 600 400\">\n",
       "<defs>\n",
       "  <clipPath id=\"clip00\">\n",
       "    <rect x=\"0\" y=\"0\" width=\"600\" height=\"400\"/>\n",
       "  </clipPath>\n",
       "</defs>\n",
       "<polygon clip-path=\"url(#clip00)\" points=\"\n",
       "0,400 600,400 600,0 0,0 \n",
       "  \" fill=\"#ffffff\" fill-opacity=\"1\"/>\n",
       "<defs>\n",
       "  <clipPath id=\"clip01\">\n",
       "    <rect x=\"120\" y=\"0\" width=\"421\" height=\"400\"/>\n",
       "  </clipPath>\n",
       "</defs>\n",
       "<polygon clip-path=\"url(#clip00)\" points=\"\n",
       "30.6037,384.952 596.063,384.952 596.063,3.93701 30.6037,3.93701 \n",
       "  \" fill=\"#ffffff\" fill-opacity=\"1\"/>\n",
       "<defs>\n",
       "  <clipPath id=\"clip02\">\n",
       "    <rect x=\"30\" y=\"3\" width=\"566\" height=\"382\"/>\n",
       "  </clipPath>\n",
       "</defs>\n",
       "<polyline clip-path=\"url(#clip02)\" style=\"stroke:#00002d; stroke-width:0.8; stroke-opacity:0.5; fill:none\" stroke-dasharray=\"1, 2\" points=\"\n",
       "  46.6072,379.237 46.6072,9.65223 \n",
       "  \"/>\n",
       "<polyline clip-path=\"url(#clip02)\" style=\"stroke:#00002d; stroke-width:0.8; stroke-opacity:0.5; fill:none\" stroke-dasharray=\"1, 2\" points=\"\n",
       "  313.333,379.237 313.333,9.65223 \n",
       "  \"/>\n",
       "<polyline clip-path=\"url(#clip02)\" style=\"stroke:#00002d; stroke-width:0.8; stroke-opacity:0.5; fill:none\" stroke-dasharray=\"1, 2\" points=\"\n",
       "  580.059,379.237 580.059,9.65223 \n",
       "  \"/>\n",
       "<polyline clip-path=\"url(#clip02)\" style=\"stroke:#00002d; stroke-width:0.8; stroke-opacity:0.5; fill:none\" stroke-dasharray=\"1, 2\" points=\"\n",
       "  39.0856,374.168 587.581,374.168 \n",
       "  \"/>\n",
       "<polyline clip-path=\"url(#clip02)\" style=\"stroke:#00002d; stroke-width:0.8; stroke-opacity:0.5; fill:none\" stroke-dasharray=\"1, 2\" points=\"\n",
       "  39.0856,194.444 587.581,194.444 \n",
       "  \"/>\n",
       "<polyline clip-path=\"url(#clip02)\" style=\"stroke:#00002d; stroke-width:0.8; stroke-opacity:0.5; fill:none\" stroke-dasharray=\"1, 2\" points=\"\n",
       "  39.0856,14.7204 587.581,14.7204 \n",
       "  \"/>\n",
       "<polyline clip-path=\"url(#clip02)\" style=\"stroke:#00002d; stroke-width:0.8; stroke-opacity:1; fill:none\" points=\"\n",
       "  30.6037,384.952 596.063,384.952 \n",
       "  \"/>\n",
       "<polyline clip-path=\"url(#clip02)\" style=\"stroke:#00002d; stroke-width:0.8; stroke-opacity:1; fill:none\" points=\"\n",
       "  46.6072,384.952 46.6072,379.237 \n",
       "  \"/>\n",
       "<polyline clip-path=\"url(#clip02)\" style=\"stroke:#00002d; stroke-width:0.8; stroke-opacity:1; fill:none\" points=\"\n",
       "  313.333,384.952 313.333,379.237 \n",
       "  \"/>\n",
       "<polyline clip-path=\"url(#clip02)\" style=\"stroke:#00002d; stroke-width:0.8; stroke-opacity:1; fill:none\" points=\"\n",
       "  580.059,384.952 580.059,379.237 \n",
       "  \"/>\n",
       "<polyline clip-path=\"url(#clip02)\" style=\"stroke:#00002d; stroke-width:0.8; stroke-opacity:1; fill:none\" points=\"\n",
       "  30.6037,384.952 30.6037,3.93701 \n",
       "  \"/>\n",
       "<polyline clip-path=\"url(#clip02)\" style=\"stroke:#00002d; stroke-width:0.8; stroke-opacity:1; fill:none\" points=\"\n",
       "  30.6037,374.168 39.0856,374.168 \n",
       "  \"/>\n",
       "<polyline clip-path=\"url(#clip02)\" style=\"stroke:#00002d; stroke-width:0.8; stroke-opacity:1; fill:none\" points=\"\n",
       "  30.6037,194.444 39.0856,194.444 \n",
       "  \"/>\n",
       "<polyline clip-path=\"url(#clip02)\" style=\"stroke:#00002d; stroke-width:0.8; stroke-opacity:1; fill:none\" points=\"\n",
       "  30.6037,14.7204 39.0856,14.7204 \n",
       "  \"/>\n",
       "<g clip-path=\"url(#clip00)\">\n",
       "<text style=\"fill:#00002d; fill-opacity:1; font-family:Arial,Helvetica Neue,Helvetica,sans-serif; font-size:12; text-anchor:middle;\" transform=\"rotate(0, 46.6072, 396.952)\" x=\"46.6072\" y=\"396.952\">0.0</text>\n",
       "</g>\n",
       "<g clip-path=\"url(#clip00)\">\n",
       "<text style=\"fill:#00002d; fill-opacity:1; font-family:Arial,Helvetica Neue,Helvetica,sans-serif; font-size:12; text-anchor:middle;\" transform=\"rotate(0, 313.333, 396.952)\" x=\"313.333\" y=\"396.952\">0.5</text>\n",
       "</g>\n",
       "<g clip-path=\"url(#clip00)\">\n",
       "<text style=\"fill:#00002d; fill-opacity:1; font-family:Arial,Helvetica Neue,Helvetica,sans-serif; font-size:12; text-anchor:middle;\" transform=\"rotate(0, 580.059, 396.952)\" x=\"580.059\" y=\"396.952\">1.0</text>\n",
       "</g>\n",
       "<g clip-path=\"url(#clip00)\">\n",
       "<text style=\"fill:#00002d; fill-opacity:1; font-family:Arial,Helvetica Neue,Helvetica,sans-serif; font-size:12; text-anchor:end;\" transform=\"rotate(0, 29.4037, 378.668)\" x=\"29.4037\" y=\"378.668\">0.0</text>\n",
       "</g>\n",
       "<g clip-path=\"url(#clip00)\">\n",
       "<text style=\"fill:#00002d; fill-opacity:1; font-family:Arial,Helvetica Neue,Helvetica,sans-serif; font-size:12; text-anchor:end;\" transform=\"rotate(0, 29.4037, 198.944)\" x=\"29.4037\" y=\"198.944\">0.5</text>\n",
       "</g>\n",
       "<g clip-path=\"url(#clip00)\">\n",
       "<text style=\"fill:#00002d; fill-opacity:1; font-family:Arial,Helvetica Neue,Helvetica,sans-serif; font-size:12; text-anchor:end;\" transform=\"rotate(0, 29.4037, 19.2204)\" x=\"29.4037\" y=\"19.2204\">1.0</text>\n",
       "</g>\n",
       "<circle clip-path=\"url(#clip02)\" style=\"fill:#00002d; stroke:none; fill-opacity:1\" cx=\"46.6072\" cy=\"374.168\" r=\"3\"/>\n",
       "<circle clip-path=\"url(#clip02)\" style=\"fill:#0099ff; stroke:none; fill-opacity:1\" cx=\"46.6072\" cy=\"374.168\" r=\"2\"/>\n",
       "<circle clip-path=\"url(#clip02)\" style=\"fill:#00002d; stroke:none; fill-opacity:1\" cx=\"51.9956\" cy=\"374.132\" r=\"3\"/>\n",
       "<circle clip-path=\"url(#clip02)\" style=\"fill:#0099ff; stroke:none; fill-opacity:1\" cx=\"51.9956\" cy=\"374.132\" r=\"2\"/>\n",
       "<circle clip-path=\"url(#clip02)\" style=\"fill:#00002d; stroke:none; fill-opacity:1\" cx=\"57.3841\" cy=\"374.022\" r=\"3\"/>\n",
       "<circle clip-path=\"url(#clip02)\" style=\"fill:#0099ff; stroke:none; fill-opacity:1\" cx=\"57.3841\" cy=\"374.022\" r=\"2\"/>\n",
       "<circle clip-path=\"url(#clip02)\" style=\"fill:#00002d; stroke:none; fill-opacity:1\" cx=\"62.7725\" cy=\"373.838\" r=\"3\"/>\n",
       "<circle clip-path=\"url(#clip02)\" style=\"fill:#0099ff; stroke:none; fill-opacity:1\" cx=\"62.7725\" cy=\"373.838\" r=\"2\"/>\n",
       "<circle clip-path=\"url(#clip02)\" style=\"fill:#00002d; stroke:none; fill-opacity:1\" cx=\"68.1609\" cy=\"373.582\" r=\"3\"/>\n",
       "<circle clip-path=\"url(#clip02)\" style=\"fill:#0099ff; stroke:none; fill-opacity:1\" cx=\"68.1609\" cy=\"373.582\" r=\"2\"/>\n",
       "<circle clip-path=\"url(#clip02)\" style=\"fill:#00002d; stroke:none; fill-opacity:1\" cx=\"73.5493\" cy=\"373.252\" r=\"3\"/>\n",
       "<circle clip-path=\"url(#clip02)\" style=\"fill:#0099ff; stroke:none; fill-opacity:1\" cx=\"73.5493\" cy=\"373.252\" r=\"2\"/>\n",
       "<circle clip-path=\"url(#clip02)\" style=\"fill:#00002d; stroke:none; fill-opacity:1\" cx=\"78.9377\" cy=\"372.848\" r=\"3\"/>\n",
       "<circle clip-path=\"url(#clip02)\" style=\"fill:#0099ff; stroke:none; fill-opacity:1\" cx=\"78.9377\" cy=\"372.848\" r=\"2\"/>\n",
       "<circle clip-path=\"url(#clip02)\" style=\"fill:#00002d; stroke:none; fill-opacity:1\" cx=\"84.3261\" cy=\"372.371\" r=\"3\"/>\n",
       "<circle clip-path=\"url(#clip02)\" style=\"fill:#0099ff; stroke:none; fill-opacity:1\" cx=\"84.3261\" cy=\"372.371\" r=\"2\"/>\n",
       "<circle clip-path=\"url(#clip02)\" style=\"fill:#00002d; stroke:none; fill-opacity:1\" cx=\"89.7145\" cy=\"371.821\" r=\"3\"/>\n",
       "<circle clip-path=\"url(#clip02)\" style=\"fill:#0099ff; stroke:none; fill-opacity:1\" cx=\"89.7145\" cy=\"371.821\" r=\"2\"/>\n",
       "<circle clip-path=\"url(#clip02)\" style=\"fill:#00002d; stroke:none; fill-opacity:1\" cx=\"95.1029\" cy=\"371.198\" r=\"3\"/>\n",
       "<circle clip-path=\"url(#clip02)\" style=\"fill:#0099ff; stroke:none; fill-opacity:1\" cx=\"95.1029\" cy=\"371.198\" r=\"2\"/>\n",
       "<circle clip-path=\"url(#clip02)\" style=\"fill:#00002d; stroke:none; fill-opacity:1\" cx=\"100.491\" cy=\"370.501\" r=\"3\"/>\n",
       "<circle clip-path=\"url(#clip02)\" style=\"fill:#0099ff; stroke:none; fill-opacity:1\" cx=\"100.491\" cy=\"370.501\" r=\"2\"/>\n",
       "<circle clip-path=\"url(#clip02)\" style=\"fill:#00002d; stroke:none; fill-opacity:1\" cx=\"105.88\" cy=\"369.731\" r=\"3\"/>\n",
       "<circle clip-path=\"url(#clip02)\" style=\"fill:#0099ff; stroke:none; fill-opacity:1\" cx=\"105.88\" cy=\"369.731\" r=\"2\"/>\n",
       "<circle clip-path=\"url(#clip02)\" style=\"fill:#00002d; stroke:none; fill-opacity:1\" cx=\"111.268\" cy=\"368.887\" r=\"3\"/>\n",
       "<circle clip-path=\"url(#clip02)\" style=\"fill:#0099ff; stroke:none; fill-opacity:1\" cx=\"111.268\" cy=\"368.887\" r=\"2\"/>\n",
       "<circle clip-path=\"url(#clip02)\" style=\"fill:#00002d; stroke:none; fill-opacity:1\" cx=\"116.657\" cy=\"367.97\" r=\"3\"/>\n",
       "<circle clip-path=\"url(#clip02)\" style=\"fill:#0099ff; stroke:none; fill-opacity:1\" cx=\"116.657\" cy=\"367.97\" r=\"2\"/>\n",
       "<circle clip-path=\"url(#clip02)\" style=\"fill:#00002d; stroke:none; fill-opacity:1\" cx=\"122.045\" cy=\"366.98\" r=\"3\"/>\n",
       "<circle clip-path=\"url(#clip02)\" style=\"fill:#0099ff; stroke:none; fill-opacity:1\" cx=\"122.045\" cy=\"366.98\" r=\"2\"/>\n",
       "<circle clip-path=\"url(#clip02)\" style=\"fill:#00002d; stroke:none; fill-opacity:1\" cx=\"127.433\" cy=\"365.917\" r=\"3\"/>\n",
       "<circle clip-path=\"url(#clip02)\" style=\"fill:#0099ff; stroke:none; fill-opacity:1\" cx=\"127.433\" cy=\"365.917\" r=\"2\"/>\n",
       "<circle clip-path=\"url(#clip02)\" style=\"fill:#00002d; stroke:none; fill-opacity:1\" cx=\"132.822\" cy=\"364.78\" r=\"3\"/>\n",
       "<circle clip-path=\"url(#clip02)\" style=\"fill:#0099ff; stroke:none; fill-opacity:1\" cx=\"132.822\" cy=\"364.78\" r=\"2\"/>\n",
       "<circle clip-path=\"url(#clip02)\" style=\"fill:#00002d; stroke:none; fill-opacity:1\" cx=\"138.21\" cy=\"363.569\" r=\"3\"/>\n",
       "<circle clip-path=\"url(#clip02)\" style=\"fill:#0099ff; stroke:none; fill-opacity:1\" cx=\"138.21\" cy=\"363.569\" r=\"2\"/>\n",
       "<circle clip-path=\"url(#clip02)\" style=\"fill:#00002d; stroke:none; fill-opacity:1\" cx=\"143.599\" cy=\"362.286\" r=\"3\"/>\n",
       "<circle clip-path=\"url(#clip02)\" style=\"fill:#0099ff; stroke:none; fill-opacity:1\" cx=\"143.599\" cy=\"362.286\" r=\"2\"/>\n",
       "<circle clip-path=\"url(#clip02)\" style=\"fill:#00002d; stroke:none; fill-opacity:1\" cx=\"148.987\" cy=\"360.929\" r=\"3\"/>\n",
       "<circle clip-path=\"url(#clip02)\" style=\"fill:#0099ff; stroke:none; fill-opacity:1\" cx=\"148.987\" cy=\"360.929\" r=\"2\"/>\n",
       "<circle clip-path=\"url(#clip02)\" style=\"fill:#00002d; stroke:none; fill-opacity:1\" cx=\"154.375\" cy=\"359.499\" r=\"3\"/>\n",
       "<circle clip-path=\"url(#clip02)\" style=\"fill:#0099ff; stroke:none; fill-opacity:1\" cx=\"154.375\" cy=\"359.499\" r=\"2\"/>\n",
       "<circle clip-path=\"url(#clip02)\" style=\"fill:#00002d; stroke:none; fill-opacity:1\" cx=\"159.764\" cy=\"357.995\" r=\"3\"/>\n",
       "<circle clip-path=\"url(#clip02)\" style=\"fill:#0099ff; stroke:none; fill-opacity:1\" cx=\"159.764\" cy=\"357.995\" r=\"2\"/>\n",
       "<circle clip-path=\"url(#clip02)\" style=\"fill:#00002d; stroke:none; fill-opacity:1\" cx=\"165.152\" cy=\"356.418\" r=\"3\"/>\n",
       "<circle clip-path=\"url(#clip02)\" style=\"fill:#0099ff; stroke:none; fill-opacity:1\" cx=\"165.152\" cy=\"356.418\" r=\"2\"/>\n",
       "<circle clip-path=\"url(#clip02)\" style=\"fill:#00002d; stroke:none; fill-opacity:1\" cx=\"170.541\" cy=\"354.768\" r=\"3\"/>\n",
       "<circle clip-path=\"url(#clip02)\" style=\"fill:#0099ff; stroke:none; fill-opacity:1\" cx=\"170.541\" cy=\"354.768\" r=\"2\"/>\n",
       "<circle clip-path=\"url(#clip02)\" style=\"fill:#00002d; stroke:none; fill-opacity:1\" cx=\"175.929\" cy=\"353.044\" r=\"3\"/>\n",
       "<circle clip-path=\"url(#clip02)\" style=\"fill:#0099ff; stroke:none; fill-opacity:1\" cx=\"175.929\" cy=\"353.044\" r=\"2\"/>\n",
       "<circle clip-path=\"url(#clip02)\" style=\"fill:#00002d; stroke:none; fill-opacity:1\" cx=\"181.317\" cy=\"351.247\" r=\"3\"/>\n",
       "<circle clip-path=\"url(#clip02)\" style=\"fill:#0099ff; stroke:none; fill-opacity:1\" cx=\"181.317\" cy=\"351.247\" r=\"2\"/>\n",
       "<circle clip-path=\"url(#clip02)\" style=\"fill:#00002d; stroke:none; fill-opacity:1\" cx=\"186.706\" cy=\"349.376\" r=\"3\"/>\n",
       "<circle clip-path=\"url(#clip02)\" style=\"fill:#0099ff; stroke:none; fill-opacity:1\" cx=\"186.706\" cy=\"349.376\" r=\"2\"/>\n",
       "<circle clip-path=\"url(#clip02)\" style=\"fill:#00002d; stroke:none; fill-opacity:1\" cx=\"192.094\" cy=\"347.433\" r=\"3\"/>\n",
       "<circle clip-path=\"url(#clip02)\" style=\"fill:#0099ff; stroke:none; fill-opacity:1\" cx=\"192.094\" cy=\"347.433\" r=\"2\"/>\n",
       "<circle clip-path=\"url(#clip02)\" style=\"fill:#00002d; stroke:none; fill-opacity:1\" cx=\"197.483\" cy=\"345.416\" r=\"3\"/>\n",
       "<circle clip-path=\"url(#clip02)\" style=\"fill:#0099ff; stroke:none; fill-opacity:1\" cx=\"197.483\" cy=\"345.416\" r=\"2\"/>\n",
       "<circle clip-path=\"url(#clip02)\" style=\"fill:#00002d; stroke:none; fill-opacity:1\" cx=\"202.871\" cy=\"343.325\" r=\"3\"/>\n",
       "<circle clip-path=\"url(#clip02)\" style=\"fill:#0099ff; stroke:none; fill-opacity:1\" cx=\"202.871\" cy=\"343.325\" r=\"2\"/>\n",
       "<circle clip-path=\"url(#clip02)\" style=\"fill:#00002d; stroke:none; fill-opacity:1\" cx=\"208.259\" cy=\"341.161\" r=\"3\"/>\n",
       "<circle clip-path=\"url(#clip02)\" style=\"fill:#0099ff; stroke:none; fill-opacity:1\" cx=\"208.259\" cy=\"341.161\" r=\"2\"/>\n",
       "<circle clip-path=\"url(#clip02)\" style=\"fill:#00002d; stroke:none; fill-opacity:1\" cx=\"213.648\" cy=\"338.924\" r=\"3\"/>\n",
       "<circle clip-path=\"url(#clip02)\" style=\"fill:#0099ff; stroke:none; fill-opacity:1\" cx=\"213.648\" cy=\"338.924\" r=\"2\"/>\n",
       "<circle clip-path=\"url(#clip02)\" style=\"fill:#00002d; stroke:none; fill-opacity:1\" cx=\"219.036\" cy=\"336.614\" r=\"3\"/>\n",
       "<circle clip-path=\"url(#clip02)\" style=\"fill:#0099ff; stroke:none; fill-opacity:1\" cx=\"219.036\" cy=\"336.614\" r=\"2\"/>\n",
       "<circle clip-path=\"url(#clip02)\" style=\"fill:#00002d; stroke:none; fill-opacity:1\" cx=\"224.425\" cy=\"334.23\" r=\"3\"/>\n",
       "<circle clip-path=\"url(#clip02)\" style=\"fill:#0099ff; stroke:none; fill-opacity:1\" cx=\"224.425\" cy=\"334.23\" r=\"2\"/>\n",
       "<circle clip-path=\"url(#clip02)\" style=\"fill:#00002d; stroke:none; fill-opacity:1\" cx=\"229.813\" cy=\"331.773\" r=\"3\"/>\n",
       "<circle clip-path=\"url(#clip02)\" style=\"fill:#0099ff; stroke:none; fill-opacity:1\" cx=\"229.813\" cy=\"331.773\" r=\"2\"/>\n",
       "<circle clip-path=\"url(#clip02)\" style=\"fill:#00002d; stroke:none; fill-opacity:1\" cx=\"235.201\" cy=\"329.242\" r=\"3\"/>\n",
       "<circle clip-path=\"url(#clip02)\" style=\"fill:#0099ff; stroke:none; fill-opacity:1\" cx=\"235.201\" cy=\"329.242\" r=\"2\"/>\n",
       "<circle clip-path=\"url(#clip02)\" style=\"fill:#00002d; stroke:none; fill-opacity:1\" cx=\"240.59\" cy=\"326.638\" r=\"3\"/>\n",
       "<circle clip-path=\"url(#clip02)\" style=\"fill:#0099ff; stroke:none; fill-opacity:1\" cx=\"240.59\" cy=\"326.638\" r=\"2\"/>\n",
       "<circle clip-path=\"url(#clip02)\" style=\"fill:#00002d; stroke:none; fill-opacity:1\" cx=\"245.978\" cy=\"323.961\" r=\"3\"/>\n",
       "<circle clip-path=\"url(#clip02)\" style=\"fill:#0099ff; stroke:none; fill-opacity:1\" cx=\"245.978\" cy=\"323.961\" r=\"2\"/>\n",
       "<circle clip-path=\"url(#clip02)\" style=\"fill:#00002d; stroke:none; fill-opacity:1\" cx=\"251.367\" cy=\"321.21\" r=\"3\"/>\n",
       "<circle clip-path=\"url(#clip02)\" style=\"fill:#0099ff; stroke:none; fill-opacity:1\" cx=\"251.367\" cy=\"321.21\" r=\"2\"/>\n",
       "<circle clip-path=\"url(#clip02)\" style=\"fill:#00002d; stroke:none; fill-opacity:1\" cx=\"256.755\" cy=\"318.386\" r=\"3\"/>\n",
       "<circle clip-path=\"url(#clip02)\" style=\"fill:#0099ff; stroke:none; fill-opacity:1\" cx=\"256.755\" cy=\"318.386\" r=\"2\"/>\n",
       "<circle clip-path=\"url(#clip02)\" style=\"fill:#00002d; stroke:none; fill-opacity:1\" cx=\"262.143\" cy=\"315.489\" r=\"3\"/>\n",
       "<circle clip-path=\"url(#clip02)\" style=\"fill:#0099ff; stroke:none; fill-opacity:1\" cx=\"262.143\" cy=\"315.489\" r=\"2\"/>\n",
       "<circle clip-path=\"url(#clip02)\" style=\"fill:#00002d; stroke:none; fill-opacity:1\" cx=\"267.532\" cy=\"312.518\" r=\"3\"/>\n",
       "<circle clip-path=\"url(#clip02)\" style=\"fill:#0099ff; stroke:none; fill-opacity:1\" cx=\"267.532\" cy=\"312.518\" r=\"2\"/>\n",
       "<circle clip-path=\"url(#clip02)\" style=\"fill:#00002d; stroke:none; fill-opacity:1\" cx=\"272.92\" cy=\"309.474\" r=\"3\"/>\n",
       "<circle clip-path=\"url(#clip02)\" style=\"fill:#0099ff; stroke:none; fill-opacity:1\" cx=\"272.92\" cy=\"309.474\" r=\"2\"/>\n",
       "<circle clip-path=\"url(#clip02)\" style=\"fill:#00002d; stroke:none; fill-opacity:1\" cx=\"278.309\" cy=\"306.357\" r=\"3\"/>\n",
       "<circle clip-path=\"url(#clip02)\" style=\"fill:#0099ff; stroke:none; fill-opacity:1\" cx=\"278.309\" cy=\"306.357\" r=\"2\"/>\n",
       "<circle clip-path=\"url(#clip02)\" style=\"fill:#00002d; stroke:none; fill-opacity:1\" cx=\"283.697\" cy=\"303.166\" r=\"3\"/>\n",
       "<circle clip-path=\"url(#clip02)\" style=\"fill:#0099ff; stroke:none; fill-opacity:1\" cx=\"283.697\" cy=\"303.166\" r=\"2\"/>\n",
       "<circle clip-path=\"url(#clip02)\" style=\"fill:#00002d; stroke:none; fill-opacity:1\" cx=\"289.086\" cy=\"299.902\" r=\"3\"/>\n",
       "<circle clip-path=\"url(#clip02)\" style=\"fill:#0099ff; stroke:none; fill-opacity:1\" cx=\"289.086\" cy=\"299.902\" r=\"2\"/>\n",
       "<circle clip-path=\"url(#clip02)\" style=\"fill:#00002d; stroke:none; fill-opacity:1\" cx=\"294.474\" cy=\"296.565\" r=\"3\"/>\n",
       "<circle clip-path=\"url(#clip02)\" style=\"fill:#0099ff; stroke:none; fill-opacity:1\" cx=\"294.474\" cy=\"296.565\" r=\"2\"/>\n",
       "<circle clip-path=\"url(#clip02)\" style=\"fill:#00002d; stroke:none; fill-opacity:1\" cx=\"299.862\" cy=\"293.154\" r=\"3\"/>\n",
       "<circle clip-path=\"url(#clip02)\" style=\"fill:#0099ff; stroke:none; fill-opacity:1\" cx=\"299.862\" cy=\"293.154\" r=\"2\"/>\n",
       "<circle clip-path=\"url(#clip02)\" style=\"fill:#00002d; stroke:none; fill-opacity:1\" cx=\"305.251\" cy=\"289.67\" r=\"3\"/>\n",
       "<circle clip-path=\"url(#clip02)\" style=\"fill:#0099ff; stroke:none; fill-opacity:1\" cx=\"305.251\" cy=\"289.67\" r=\"2\"/>\n",
       "<circle clip-path=\"url(#clip02)\" style=\"fill:#00002d; stroke:none; fill-opacity:1\" cx=\"310.639\" cy=\"286.113\" r=\"3\"/>\n",
       "<circle clip-path=\"url(#clip02)\" style=\"fill:#0099ff; stroke:none; fill-opacity:1\" cx=\"310.639\" cy=\"286.113\" r=\"2\"/>\n",
       "<circle clip-path=\"url(#clip02)\" style=\"fill:#00002d; stroke:none; fill-opacity:1\" cx=\"316.028\" cy=\"282.482\" r=\"3\"/>\n",
       "<circle clip-path=\"url(#clip02)\" style=\"fill:#0099ff; stroke:none; fill-opacity:1\" cx=\"316.028\" cy=\"282.482\" r=\"2\"/>\n",
       "<circle clip-path=\"url(#clip02)\" style=\"fill:#00002d; stroke:none; fill-opacity:1\" cx=\"321.416\" cy=\"278.778\" r=\"3\"/>\n",
       "<circle clip-path=\"url(#clip02)\" style=\"fill:#0099ff; stroke:none; fill-opacity:1\" cx=\"321.416\" cy=\"278.778\" r=\"2\"/>\n",
       "<circle clip-path=\"url(#clip02)\" style=\"fill:#00002d; stroke:none; fill-opacity:1\" cx=\"326.804\" cy=\"275\" r=\"3\"/>\n",
       "<circle clip-path=\"url(#clip02)\" style=\"fill:#0099ff; stroke:none; fill-opacity:1\" cx=\"326.804\" cy=\"275\" r=\"2\"/>\n",
       "<circle clip-path=\"url(#clip02)\" style=\"fill:#00002d; stroke:none; fill-opacity:1\" cx=\"332.193\" cy=\"271.149\" r=\"3\"/>\n",
       "<circle clip-path=\"url(#clip02)\" style=\"fill:#0099ff; stroke:none; fill-opacity:1\" cx=\"332.193\" cy=\"271.149\" r=\"2\"/>\n",
       "<circle clip-path=\"url(#clip02)\" style=\"fill:#00002d; stroke:none; fill-opacity:1\" cx=\"337.581\" cy=\"267.225\" r=\"3\"/>\n",
       "<circle clip-path=\"url(#clip02)\" style=\"fill:#0099ff; stroke:none; fill-opacity:1\" cx=\"337.581\" cy=\"267.225\" r=\"2\"/>\n",
       "<circle clip-path=\"url(#clip02)\" style=\"fill:#00002d; stroke:none; fill-opacity:1\" cx=\"342.97\" cy=\"263.228\" r=\"3\"/>\n",
       "<circle clip-path=\"url(#clip02)\" style=\"fill:#0099ff; stroke:none; fill-opacity:1\" cx=\"342.97\" cy=\"263.228\" r=\"2\"/>\n",
       "<circle clip-path=\"url(#clip02)\" style=\"fill:#00002d; stroke:none; fill-opacity:1\" cx=\"348.358\" cy=\"259.157\" r=\"3\"/>\n",
       "<circle clip-path=\"url(#clip02)\" style=\"fill:#0099ff; stroke:none; fill-opacity:1\" cx=\"348.358\" cy=\"259.157\" r=\"2\"/>\n",
       "<circle clip-path=\"url(#clip02)\" style=\"fill:#00002d; stroke:none; fill-opacity:1\" cx=\"353.746\" cy=\"255.013\" r=\"3\"/>\n",
       "<circle clip-path=\"url(#clip02)\" style=\"fill:#0099ff; stroke:none; fill-opacity:1\" cx=\"353.746\" cy=\"255.013\" r=\"2\"/>\n",
       "<circle clip-path=\"url(#clip02)\" style=\"fill:#00002d; stroke:none; fill-opacity:1\" cx=\"359.135\" cy=\"250.795\" r=\"3\"/>\n",
       "<circle clip-path=\"url(#clip02)\" style=\"fill:#0099ff; stroke:none; fill-opacity:1\" cx=\"359.135\" cy=\"250.795\" r=\"2\"/>\n",
       "<circle clip-path=\"url(#clip02)\" style=\"fill:#00002d; stroke:none; fill-opacity:1\" cx=\"364.523\" cy=\"246.504\" r=\"3\"/>\n",
       "<circle clip-path=\"url(#clip02)\" style=\"fill:#0099ff; stroke:none; fill-opacity:1\" cx=\"364.523\" cy=\"246.504\" r=\"2\"/>\n",
       "<circle clip-path=\"url(#clip02)\" style=\"fill:#00002d; stroke:none; fill-opacity:1\" cx=\"369.912\" cy=\"242.14\" r=\"3\"/>\n",
       "<circle clip-path=\"url(#clip02)\" style=\"fill:#0099ff; stroke:none; fill-opacity:1\" cx=\"369.912\" cy=\"242.14\" r=\"2\"/>\n",
       "<circle clip-path=\"url(#clip02)\" style=\"fill:#00002d; stroke:none; fill-opacity:1\" cx=\"375.3\" cy=\"237.702\" r=\"3\"/>\n",
       "<circle clip-path=\"url(#clip02)\" style=\"fill:#0099ff; stroke:none; fill-opacity:1\" cx=\"375.3\" cy=\"237.702\" r=\"2\"/>\n",
       "<circle clip-path=\"url(#clip02)\" style=\"fill:#00002d; stroke:none; fill-opacity:1\" cx=\"380.688\" cy=\"233.191\" r=\"3\"/>\n",
       "<circle clip-path=\"url(#clip02)\" style=\"fill:#0099ff; stroke:none; fill-opacity:1\" cx=\"380.688\" cy=\"233.191\" r=\"2\"/>\n",
       "<circle clip-path=\"url(#clip02)\" style=\"fill:#00002d; stroke:none; fill-opacity:1\" cx=\"386.077\" cy=\"228.607\" r=\"3\"/>\n",
       "<circle clip-path=\"url(#clip02)\" style=\"fill:#0099ff; stroke:none; fill-opacity:1\" cx=\"386.077\" cy=\"228.607\" r=\"2\"/>\n",
       "<circle clip-path=\"url(#clip02)\" style=\"fill:#00002d; stroke:none; fill-opacity:1\" cx=\"391.465\" cy=\"223.949\" r=\"3\"/>\n",
       "<circle clip-path=\"url(#clip02)\" style=\"fill:#0099ff; stroke:none; fill-opacity:1\" cx=\"391.465\" cy=\"223.949\" r=\"2\"/>\n",
       "<circle clip-path=\"url(#clip02)\" style=\"fill:#00002d; stroke:none; fill-opacity:1\" cx=\"396.854\" cy=\"219.218\" r=\"3\"/>\n",
       "<circle clip-path=\"url(#clip02)\" style=\"fill:#0099ff; stroke:none; fill-opacity:1\" cx=\"396.854\" cy=\"219.218\" r=\"2\"/>\n",
       "<circle clip-path=\"url(#clip02)\" style=\"fill:#00002d; stroke:none; fill-opacity:1\" cx=\"402.242\" cy=\"214.414\" r=\"3\"/>\n",
       "<circle clip-path=\"url(#clip02)\" style=\"fill:#0099ff; stroke:none; fill-opacity:1\" cx=\"402.242\" cy=\"214.414\" r=\"2\"/>\n",
       "<circle clip-path=\"url(#clip02)\" style=\"fill:#00002d; stroke:none; fill-opacity:1\" cx=\"407.63\" cy=\"209.536\" r=\"3\"/>\n",
       "<circle clip-path=\"url(#clip02)\" style=\"fill:#0099ff; stroke:none; fill-opacity:1\" cx=\"407.63\" cy=\"209.536\" r=\"2\"/>\n",
       "<circle clip-path=\"url(#clip02)\" style=\"fill:#00002d; stroke:none; fill-opacity:1\" cx=\"413.019\" cy=\"204.585\" r=\"3\"/>\n",
       "<circle clip-path=\"url(#clip02)\" style=\"fill:#0099ff; stroke:none; fill-opacity:1\" cx=\"413.019\" cy=\"204.585\" r=\"2\"/>\n",
       "<circle clip-path=\"url(#clip02)\" style=\"fill:#00002d; stroke:none; fill-opacity:1\" cx=\"418.407\" cy=\"199.561\" r=\"3\"/>\n",
       "<circle clip-path=\"url(#clip02)\" style=\"fill:#0099ff; stroke:none; fill-opacity:1\" cx=\"418.407\" cy=\"199.561\" r=\"2\"/>\n",
       "<circle clip-path=\"url(#clip02)\" style=\"fill:#00002d; stroke:none; fill-opacity:1\" cx=\"423.796\" cy=\"194.463\" r=\"3\"/>\n",
       "<circle clip-path=\"url(#clip02)\" style=\"fill:#0099ff; stroke:none; fill-opacity:1\" cx=\"423.796\" cy=\"194.463\" r=\"2\"/>\n",
       "<circle clip-path=\"url(#clip02)\" style=\"fill:#00002d; stroke:none; fill-opacity:1\" cx=\"429.184\" cy=\"189.292\" r=\"3\"/>\n",
       "<circle clip-path=\"url(#clip02)\" style=\"fill:#0099ff; stroke:none; fill-opacity:1\" cx=\"429.184\" cy=\"189.292\" r=\"2\"/>\n",
       "<circle clip-path=\"url(#clip02)\" style=\"fill:#00002d; stroke:none; fill-opacity:1\" cx=\"434.572\" cy=\"184.047\" r=\"3\"/>\n",
       "<circle clip-path=\"url(#clip02)\" style=\"fill:#0099ff; stroke:none; fill-opacity:1\" cx=\"434.572\" cy=\"184.047\" r=\"2\"/>\n",
       "<circle clip-path=\"url(#clip02)\" style=\"fill:#00002d; stroke:none; fill-opacity:1\" cx=\"439.961\" cy=\"178.729\" r=\"3\"/>\n",
       "<circle clip-path=\"url(#clip02)\" style=\"fill:#0099ff; stroke:none; fill-opacity:1\" cx=\"439.961\" cy=\"178.729\" r=\"2\"/>\n",
       "<circle clip-path=\"url(#clip02)\" style=\"fill:#00002d; stroke:none; fill-opacity:1\" cx=\"445.349\" cy=\"173.338\" r=\"3\"/>\n",
       "<circle clip-path=\"url(#clip02)\" style=\"fill:#0099ff; stroke:none; fill-opacity:1\" cx=\"445.349\" cy=\"173.338\" r=\"2\"/>\n",
       "<circle clip-path=\"url(#clip02)\" style=\"fill:#00002d; stroke:none; fill-opacity:1\" cx=\"450.738\" cy=\"167.874\" r=\"3\"/>\n",
       "<circle clip-path=\"url(#clip02)\" style=\"fill:#0099ff; stroke:none; fill-opacity:1\" cx=\"450.738\" cy=\"167.874\" r=\"2\"/>\n",
       "<circle clip-path=\"url(#clip02)\" style=\"fill:#00002d; stroke:none; fill-opacity:1\" cx=\"456.126\" cy=\"162.336\" r=\"3\"/>\n",
       "<circle clip-path=\"url(#clip02)\" style=\"fill:#0099ff; stroke:none; fill-opacity:1\" cx=\"456.126\" cy=\"162.336\" r=\"2\"/>\n",
       "<circle clip-path=\"url(#clip02)\" style=\"fill:#00002d; stroke:none; fill-opacity:1\" cx=\"461.514\" cy=\"156.725\" r=\"3\"/>\n",
       "<circle clip-path=\"url(#clip02)\" style=\"fill:#0099ff; stroke:none; fill-opacity:1\" cx=\"461.514\" cy=\"156.725\" r=\"2\"/>\n",
       "<circle clip-path=\"url(#clip02)\" style=\"fill:#00002d; stroke:none; fill-opacity:1\" cx=\"466.903\" cy=\"151.04\" r=\"3\"/>\n",
       "<circle clip-path=\"url(#clip02)\" style=\"fill:#0099ff; stroke:none; fill-opacity:1\" cx=\"466.903\" cy=\"151.04\" r=\"2\"/>\n",
       "<circle clip-path=\"url(#clip02)\" style=\"fill:#00002d; stroke:none; fill-opacity:1\" cx=\"472.291\" cy=\"145.282\" r=\"3\"/>\n",
       "<circle clip-path=\"url(#clip02)\" style=\"fill:#0099ff; stroke:none; fill-opacity:1\" cx=\"472.291\" cy=\"145.282\" r=\"2\"/>\n",
       "<circle clip-path=\"url(#clip02)\" style=\"fill:#00002d; stroke:none; fill-opacity:1\" cx=\"477.68\" cy=\"139.451\" r=\"3\"/>\n",
       "<circle clip-path=\"url(#clip02)\" style=\"fill:#0099ff; stroke:none; fill-opacity:1\" cx=\"477.68\" cy=\"139.451\" r=\"2\"/>\n",
       "<circle clip-path=\"url(#clip02)\" style=\"fill:#00002d; stroke:none; fill-opacity:1\" cx=\"483.068\" cy=\"133.546\" r=\"3\"/>\n",
       "<circle clip-path=\"url(#clip02)\" style=\"fill:#0099ff; stroke:none; fill-opacity:1\" cx=\"483.068\" cy=\"133.546\" r=\"2\"/>\n",
       "<circle clip-path=\"url(#clip02)\" style=\"fill:#00002d; stroke:none; fill-opacity:1\" cx=\"488.457\" cy=\"127.568\" r=\"3\"/>\n",
       "<circle clip-path=\"url(#clip02)\" style=\"fill:#0099ff; stroke:none; fill-opacity:1\" cx=\"488.457\" cy=\"127.568\" r=\"2\"/>\n",
       "<circle clip-path=\"url(#clip02)\" style=\"fill:#00002d; stroke:none; fill-opacity:1\" cx=\"493.845\" cy=\"121.517\" r=\"3\"/>\n",
       "<circle clip-path=\"url(#clip02)\" style=\"fill:#0099ff; stroke:none; fill-opacity:1\" cx=\"493.845\" cy=\"121.517\" r=\"2\"/>\n",
       "<circle clip-path=\"url(#clip02)\" style=\"fill:#00002d; stroke:none; fill-opacity:1\" cx=\"499.233\" cy=\"115.392\" r=\"3\"/>\n",
       "<circle clip-path=\"url(#clip02)\" style=\"fill:#0099ff; stroke:none; fill-opacity:1\" cx=\"499.233\" cy=\"115.392\" r=\"2\"/>\n",
       "<circle clip-path=\"url(#clip02)\" style=\"fill:#00002d; stroke:none; fill-opacity:1\" cx=\"504.622\" cy=\"109.194\" r=\"3\"/>\n",
       "<circle clip-path=\"url(#clip02)\" style=\"fill:#0099ff; stroke:none; fill-opacity:1\" cx=\"504.622\" cy=\"109.194\" r=\"2\"/>\n",
       "<circle clip-path=\"url(#clip02)\" style=\"fill:#00002d; stroke:none; fill-opacity:1\" cx=\"510.01\" cy=\"102.923\" r=\"3\"/>\n",
       "<circle clip-path=\"url(#clip02)\" style=\"fill:#0099ff; stroke:none; fill-opacity:1\" cx=\"510.01\" cy=\"102.923\" r=\"2\"/>\n",
       "<circle clip-path=\"url(#clip02)\" style=\"fill:#00002d; stroke:none; fill-opacity:1\" cx=\"515.399\" cy=\"96.5782\" r=\"3\"/>\n",
       "<circle clip-path=\"url(#clip02)\" style=\"fill:#0099ff; stroke:none; fill-opacity:1\" cx=\"515.399\" cy=\"96.5782\" r=\"2\"/>\n",
       "<circle clip-path=\"url(#clip02)\" style=\"fill:#00002d; stroke:none; fill-opacity:1\" cx=\"520.787\" cy=\"90.1602\" r=\"3\"/>\n",
       "<circle clip-path=\"url(#clip02)\" style=\"fill:#0099ff; stroke:none; fill-opacity:1\" cx=\"520.787\" cy=\"90.1602\" r=\"2\"/>\n",
       "<circle clip-path=\"url(#clip02)\" style=\"fill:#00002d; stroke:none; fill-opacity:1\" cx=\"526.175\" cy=\"83.6687\" r=\"3\"/>\n",
       "<circle clip-path=\"url(#clip02)\" style=\"fill:#0099ff; stroke:none; fill-opacity:1\" cx=\"526.175\" cy=\"83.6687\" r=\"2\"/>\n",
       "<circle clip-path=\"url(#clip02)\" style=\"fill:#00002d; stroke:none; fill-opacity:1\" cx=\"531.564\" cy=\"77.104\" r=\"3\"/>\n",
       "<circle clip-path=\"url(#clip02)\" style=\"fill:#0099ff; stroke:none; fill-opacity:1\" cx=\"531.564\" cy=\"77.104\" r=\"2\"/>\n",
       "<circle clip-path=\"url(#clip02)\" style=\"fill:#00002d; stroke:none; fill-opacity:1\" cx=\"536.952\" cy=\"70.4659\" r=\"3\"/>\n",
       "<circle clip-path=\"url(#clip02)\" style=\"fill:#0099ff; stroke:none; fill-opacity:1\" cx=\"536.952\" cy=\"70.4659\" r=\"2\"/>\n",
       "<circle clip-path=\"url(#clip02)\" style=\"fill:#00002d; stroke:none; fill-opacity:1\" cx=\"542.341\" cy=\"63.7544\" r=\"3\"/>\n",
       "<circle clip-path=\"url(#clip02)\" style=\"fill:#0099ff; stroke:none; fill-opacity:1\" cx=\"542.341\" cy=\"63.7544\" r=\"2\"/>\n",
       "<circle clip-path=\"url(#clip02)\" style=\"fill:#00002d; stroke:none; fill-opacity:1\" cx=\"547.729\" cy=\"56.9696\" r=\"3\"/>\n",
       "<circle clip-path=\"url(#clip02)\" style=\"fill:#0099ff; stroke:none; fill-opacity:1\" cx=\"547.729\" cy=\"56.9696\" r=\"2\"/>\n",
       "<circle clip-path=\"url(#clip02)\" style=\"fill:#00002d; stroke:none; fill-opacity:1\" cx=\"553.117\" cy=\"50.1115\" r=\"3\"/>\n",
       "<circle clip-path=\"url(#clip02)\" style=\"fill:#0099ff; stroke:none; fill-opacity:1\" cx=\"553.117\" cy=\"50.1115\" r=\"2\"/>\n",
       "<circle clip-path=\"url(#clip02)\" style=\"fill:#00002d; stroke:none; fill-opacity:1\" cx=\"558.506\" cy=\"43.18\" r=\"3\"/>\n",
       "<circle clip-path=\"url(#clip02)\" style=\"fill:#0099ff; stroke:none; fill-opacity:1\" cx=\"558.506\" cy=\"43.18\" r=\"2\"/>\n",
       "<circle clip-path=\"url(#clip02)\" style=\"fill:#00002d; stroke:none; fill-opacity:1\" cx=\"563.894\" cy=\"36.1751\" r=\"3\"/>\n",
       "<circle clip-path=\"url(#clip02)\" style=\"fill:#0099ff; stroke:none; fill-opacity:1\" cx=\"563.894\" cy=\"36.1751\" r=\"2\"/>\n",
       "<circle clip-path=\"url(#clip02)\" style=\"fill:#00002d; stroke:none; fill-opacity:1\" cx=\"569.283\" cy=\"29.0969\" r=\"3\"/>\n",
       "<circle clip-path=\"url(#clip02)\" style=\"fill:#0099ff; stroke:none; fill-opacity:1\" cx=\"569.283\" cy=\"29.0969\" r=\"2\"/>\n",
       "<circle clip-path=\"url(#clip02)\" style=\"fill:#00002d; stroke:none; fill-opacity:1\" cx=\"574.671\" cy=\"21.9453\" r=\"3\"/>\n",
       "<circle clip-path=\"url(#clip02)\" style=\"fill:#0099ff; stroke:none; fill-opacity:1\" cx=\"574.671\" cy=\"21.9453\" r=\"2\"/>\n",
       "<circle clip-path=\"url(#clip02)\" style=\"fill:#00002d; stroke:none; fill-opacity:1\" cx=\"580.059\" cy=\"14.7204\" r=\"3\"/>\n",
       "<circle clip-path=\"url(#clip02)\" style=\"fill:#0099ff; stroke:none; fill-opacity:1\" cx=\"580.059\" cy=\"14.7204\" r=\"2\"/>\n",
       "<polygon clip-path=\"url(#clip00)\" points=\"\n",
       "505.547,55.057 578.063,55.057 578.063,24.817 505.547,24.817 \n",
       "  \" fill=\"#ffffff\" fill-opacity=\"1\"/>\n",
       "<polyline clip-path=\"url(#clip00)\" style=\"stroke:#00002d; stroke-width:0.8; stroke-opacity:1; fill:none\" points=\"\n",
       "  505.547,55.057 578.063,55.057 578.063,24.817 505.547,24.817 505.547,55.057 \n",
       "  \"/>\n",
       "<circle clip-path=\"url(#clip00)\" style=\"fill:#00002d; stroke:none; fill-opacity:1\" cx=\"517.547\" cy=\"39.937\" r=\"7\"/>\n",
       "<circle clip-path=\"url(#clip00)\" style=\"fill:#0099ff; stroke:none; fill-opacity:1\" cx=\"517.547\" cy=\"39.937\" r=\"7\"/>\n",
       "<circle clip-path=\"url(#clip00)\" style=\"fill:#00002d; stroke:none; fill-opacity:1\" cx=\"541.547\" cy=\"39.937\" r=\"7\"/>\n",
       "<circle clip-path=\"url(#clip00)\" style=\"fill:#0099ff; stroke:none; fill-opacity:1\" cx=\"541.547\" cy=\"39.937\" r=\"7\"/>\n",
       "<g clip-path=\"url(#clip00)\">\n",
       "<text style=\"fill:#00002d; fill-opacity:1; font-family:Arial,Helvetica Neue,Helvetica,sans-serif; font-size:12; text-anchor:start;\" transform=\"rotate(0, 553.547, 44.437)\" x=\"553.547\" y=\"44.437\">y1</text>\n",
       "</g>\n",
       "</svg>\n"
      ]
     },
     "execution_count": 109,
     "metadata": {},
     "output_type": "execute_result"
    }
   ],
   "source": [
    "scatter(x, y)"
   ]
  },
  {
   "cell_type": "code",
   "execution_count": 110,
   "metadata": {
    "collapsed": false
   },
   "outputs": [
    {
     "data": {
      "text/html": [
       "<?xml version=\"1.0\" encoding=\"utf-8\"?>\n",
       "<svg xmlns=\"http://www.w3.org/2000/svg\" xmlns:xlink=\"http://www.w3.org/1999/xlink\" width=\"600\" height=\"400\" viewBox=\"0 0 600 400\">\n",
       "<defs>\n",
       "  <clipPath id=\"clip00\">\n",
       "    <rect x=\"0\" y=\"0\" width=\"600\" height=\"400\"/>\n",
       "  </clipPath>\n",
       "</defs>\n",
       "<polygon clip-path=\"url(#clip00)\" points=\"\n",
       "0,400 600,400 600,0 0,0 \n",
       "  \" fill=\"#ffffff\" fill-opacity=\"1\"/>\n",
       "<defs>\n",
       "  <clipPath id=\"clip01\">\n",
       "    <rect x=\"120\" y=\"0\" width=\"421\" height=\"400\"/>\n",
       "  </clipPath>\n",
       "</defs>\n",
       "<polygon clip-path=\"url(#clip00)\" points=\"\n",
       "30.6037,384.952 596.063,384.952 596.063,3.93701 30.6037,3.93701 \n",
       "  \" fill=\"#ffffff\" fill-opacity=\"1\"/>\n",
       "<defs>\n",
       "  <clipPath id=\"clip02\">\n",
       "    <rect x=\"30\" y=\"3\" width=\"566\" height=\"382\"/>\n",
       "  </clipPath>\n",
       "</defs>\n",
       "<polyline clip-path=\"url(#clip02)\" style=\"stroke:#00002d; stroke-width:0.8; stroke-opacity:0.5; fill:none\" stroke-dasharray=\"1, 2\" points=\"\n",
       "  46.6072,379.237 46.6072,9.65223 \n",
       "  \"/>\n",
       "<polyline clip-path=\"url(#clip02)\" style=\"stroke:#00002d; stroke-width:0.8; stroke-opacity:0.5; fill:none\" stroke-dasharray=\"1, 2\" points=\"\n",
       "  313.333,379.237 313.333,9.65223 \n",
       "  \"/>\n",
       "<polyline clip-path=\"url(#clip02)\" style=\"stroke:#00002d; stroke-width:0.8; stroke-opacity:0.5; fill:none\" stroke-dasharray=\"1, 2\" points=\"\n",
       "  580.059,379.237 580.059,9.65223 \n",
       "  \"/>\n",
       "<polyline clip-path=\"url(#clip02)\" style=\"stroke:#00002d; stroke-width:0.8; stroke-opacity:0.5; fill:none\" stroke-dasharray=\"1, 2\" points=\"\n",
       "  39.0856,374.31 587.581,374.31 \n",
       "  \"/>\n",
       "<polyline clip-path=\"url(#clip02)\" style=\"stroke:#00002d; stroke-width:0.8; stroke-opacity:0.5; fill:none\" stroke-dasharray=\"1, 2\" points=\"\n",
       "  39.0856,193.037 587.581,193.037 \n",
       "  \"/>\n",
       "<polyline clip-path=\"url(#clip02)\" style=\"stroke:#00002d; stroke-width:0.8; stroke-opacity:0.5; fill:none\" stroke-dasharray=\"1, 2\" points=\"\n",
       "  39.0856,11.7653 587.581,11.7653 \n",
       "  \"/>\n",
       "<polyline clip-path=\"url(#clip02)\" style=\"stroke:#00002d; stroke-width:0.8; stroke-opacity:1; fill:none\" points=\"\n",
       "  30.6037,384.952 596.063,384.952 \n",
       "  \"/>\n",
       "<polyline clip-path=\"url(#clip02)\" style=\"stroke:#00002d; stroke-width:0.8; stroke-opacity:1; fill:none\" points=\"\n",
       "  46.6072,384.952 46.6072,379.237 \n",
       "  \"/>\n",
       "<polyline clip-path=\"url(#clip02)\" style=\"stroke:#00002d; stroke-width:0.8; stroke-opacity:1; fill:none\" points=\"\n",
       "  313.333,384.952 313.333,379.237 \n",
       "  \"/>\n",
       "<polyline clip-path=\"url(#clip02)\" style=\"stroke:#00002d; stroke-width:0.8; stroke-opacity:1; fill:none\" points=\"\n",
       "  580.059,384.952 580.059,379.237 \n",
       "  \"/>\n",
       "<polyline clip-path=\"url(#clip02)\" style=\"stroke:#00002d; stroke-width:0.8; stroke-opacity:1; fill:none\" points=\"\n",
       "  30.6037,384.952 30.6037,3.93701 \n",
       "  \"/>\n",
       "<polyline clip-path=\"url(#clip02)\" style=\"stroke:#00002d; stroke-width:0.8; stroke-opacity:1; fill:none\" points=\"\n",
       "  30.6037,374.31 39.0856,374.31 \n",
       "  \"/>\n",
       "<polyline clip-path=\"url(#clip02)\" style=\"stroke:#00002d; stroke-width:0.8; stroke-opacity:1; fill:none\" points=\"\n",
       "  30.6037,193.037 39.0856,193.037 \n",
       "  \"/>\n",
       "<polyline clip-path=\"url(#clip02)\" style=\"stroke:#00002d; stroke-width:0.8; stroke-opacity:1; fill:none\" points=\"\n",
       "  30.6037,11.7653 39.0856,11.7653 \n",
       "  \"/>\n",
       "<g clip-path=\"url(#clip00)\">\n",
       "<text style=\"fill:#00002d; fill-opacity:1; font-family:Arial,Helvetica Neue,Helvetica,sans-serif; font-size:12; text-anchor:middle;\" transform=\"rotate(0, 46.6072, 396.952)\" x=\"46.6072\" y=\"396.952\">0.0</text>\n",
       "</g>\n",
       "<g clip-path=\"url(#clip00)\">\n",
       "<text style=\"fill:#00002d; fill-opacity:1; font-family:Arial,Helvetica Neue,Helvetica,sans-serif; font-size:12; text-anchor:middle;\" transform=\"rotate(0, 313.333, 396.952)\" x=\"313.333\" y=\"396.952\">0.5</text>\n",
       "</g>\n",
       "<g clip-path=\"url(#clip00)\">\n",
       "<text style=\"fill:#00002d; fill-opacity:1; font-family:Arial,Helvetica Neue,Helvetica,sans-serif; font-size:12; text-anchor:middle;\" transform=\"rotate(0, 580.059, 396.952)\" x=\"580.059\" y=\"396.952\">1.0</text>\n",
       "</g>\n",
       "<g clip-path=\"url(#clip00)\">\n",
       "<text style=\"fill:#00002d; fill-opacity:1; font-family:Arial,Helvetica Neue,Helvetica,sans-serif; font-size:12; text-anchor:end;\" transform=\"rotate(0, 29.4037, 378.81)\" x=\"29.4037\" y=\"378.81\">0.0</text>\n",
       "</g>\n",
       "<g clip-path=\"url(#clip00)\">\n",
       "<text style=\"fill:#00002d; fill-opacity:1; font-family:Arial,Helvetica Neue,Helvetica,sans-serif; font-size:12; text-anchor:end;\" transform=\"rotate(0, 29.4037, 197.537)\" x=\"29.4037\" y=\"197.537\">0.5</text>\n",
       "</g>\n",
       "<g clip-path=\"url(#clip00)\">\n",
       "<text style=\"fill:#00002d; fill-opacity:1; font-family:Arial,Helvetica Neue,Helvetica,sans-serif; font-size:12; text-anchor:end;\" transform=\"rotate(0, 29.4037, 16.2653)\" x=\"29.4037\" y=\"16.2653\">1.0</text>\n",
       "</g>\n",
       "<circle clip-path=\"url(#clip02)\" style=\"fill:#00002d; stroke:none; fill-opacity:1\" cx=\"46.6072\" cy=\"15.9508\" r=\"3\"/>\n",
       "<circle clip-path=\"url(#clip02)\" style=\"fill:#0099ff; stroke:none; fill-opacity:1\" cx=\"46.6072\" cy=\"15.9508\" r=\"2\"/>\n",
       "<circle clip-path=\"url(#clip02)\" style=\"fill:#00002d; stroke:none; fill-opacity:1\" cx=\"51.9956\" cy=\"272.402\" r=\"3\"/>\n",
       "<circle clip-path=\"url(#clip02)\" style=\"fill:#0099ff; stroke:none; fill-opacity:1\" cx=\"51.9956\" cy=\"272.402\" r=\"2\"/>\n",
       "<circle clip-path=\"url(#clip02)\" style=\"fill:#00002d; stroke:none; fill-opacity:1\" cx=\"57.3841\" cy=\"103.09\" r=\"3\"/>\n",
       "<circle clip-path=\"url(#clip02)\" style=\"fill:#0099ff; stroke:none; fill-opacity:1\" cx=\"57.3841\" cy=\"103.09\" r=\"2\"/>\n",
       "<circle clip-path=\"url(#clip02)\" style=\"fill:#00002d; stroke:none; fill-opacity:1\" cx=\"62.7725\" cy=\"214.823\" r=\"3\"/>\n",
       "<circle clip-path=\"url(#clip02)\" style=\"fill:#0099ff; stroke:none; fill-opacity:1\" cx=\"62.7725\" cy=\"214.823\" r=\"2\"/>\n",
       "<circle clip-path=\"url(#clip02)\" style=\"fill:#00002d; stroke:none; fill-opacity:1\" cx=\"68.1609\" cy=\"179.072\" r=\"3\"/>\n",
       "<circle clip-path=\"url(#clip02)\" style=\"fill:#0099ff; stroke:none; fill-opacity:1\" cx=\"68.1609\" cy=\"179.072\" r=\"2\"/>\n",
       "<circle clip-path=\"url(#clip02)\" style=\"fill:#00002d; stroke:none; fill-opacity:1\" cx=\"73.5493\" cy=\"109.95\" r=\"3\"/>\n",
       "<circle clip-path=\"url(#clip02)\" style=\"fill:#0099ff; stroke:none; fill-opacity:1\" cx=\"73.5493\" cy=\"109.95\" r=\"2\"/>\n",
       "<circle clip-path=\"url(#clip02)\" style=\"fill:#00002d; stroke:none; fill-opacity:1\" cx=\"78.9377\" cy=\"72.3173\" r=\"3\"/>\n",
       "<circle clip-path=\"url(#clip02)\" style=\"fill:#0099ff; stroke:none; fill-opacity:1\" cx=\"78.9377\" cy=\"72.3173\" r=\"2\"/>\n",
       "<circle clip-path=\"url(#clip02)\" style=\"fill:#00002d; stroke:none; fill-opacity:1\" cx=\"84.3261\" cy=\"226.031\" r=\"3\"/>\n",
       "<circle clip-path=\"url(#clip02)\" style=\"fill:#0099ff; stroke:none; fill-opacity:1\" cx=\"84.3261\" cy=\"226.031\" r=\"2\"/>\n",
       "<circle clip-path=\"url(#clip02)\" style=\"fill:#00002d; stroke:none; fill-opacity:1\" cx=\"89.7145\" cy=\"53.2708\" r=\"3\"/>\n",
       "<circle clip-path=\"url(#clip02)\" style=\"fill:#0099ff; stroke:none; fill-opacity:1\" cx=\"89.7145\" cy=\"53.2708\" r=\"2\"/>\n",
       "<circle clip-path=\"url(#clip02)\" style=\"fill:#00002d; stroke:none; fill-opacity:1\" cx=\"95.1029\" cy=\"339.632\" r=\"3\"/>\n",
       "<circle clip-path=\"url(#clip02)\" style=\"fill:#0099ff; stroke:none; fill-opacity:1\" cx=\"95.1029\" cy=\"339.632\" r=\"2\"/>\n",
       "<circle clip-path=\"url(#clip02)\" style=\"fill:#00002d; stroke:none; fill-opacity:1\" cx=\"100.491\" cy=\"71.0923\" r=\"3\"/>\n",
       "<circle clip-path=\"url(#clip02)\" style=\"fill:#0099ff; stroke:none; fill-opacity:1\" cx=\"100.491\" cy=\"71.0923\" r=\"2\"/>\n",
       "<circle clip-path=\"url(#clip02)\" style=\"fill:#00002d; stroke:none; fill-opacity:1\" cx=\"105.88\" cy=\"151.025\" r=\"3\"/>\n",
       "<circle clip-path=\"url(#clip02)\" style=\"fill:#0099ff; stroke:none; fill-opacity:1\" cx=\"105.88\" cy=\"151.025\" r=\"2\"/>\n",
       "<circle clip-path=\"url(#clip02)\" style=\"fill:#00002d; stroke:none; fill-opacity:1\" cx=\"111.268\" cy=\"329.167\" r=\"3\"/>\n",
       "<circle clip-path=\"url(#clip02)\" style=\"fill:#0099ff; stroke:none; fill-opacity:1\" cx=\"111.268\" cy=\"329.167\" r=\"2\"/>\n",
       "<circle clip-path=\"url(#clip02)\" style=\"fill:#00002d; stroke:none; fill-opacity:1\" cx=\"116.657\" cy=\"291.853\" r=\"3\"/>\n",
       "<circle clip-path=\"url(#clip02)\" style=\"fill:#0099ff; stroke:none; fill-opacity:1\" cx=\"116.657\" cy=\"291.853\" r=\"2\"/>\n",
       "<circle clip-path=\"url(#clip02)\" style=\"fill:#00002d; stroke:none; fill-opacity:1\" cx=\"122.045\" cy=\"329.054\" r=\"3\"/>\n",
       "<circle clip-path=\"url(#clip02)\" style=\"fill:#0099ff; stroke:none; fill-opacity:1\" cx=\"122.045\" cy=\"329.054\" r=\"2\"/>\n",
       "<circle clip-path=\"url(#clip02)\" style=\"fill:#00002d; stroke:none; fill-opacity:1\" cx=\"127.433\" cy=\"223.823\" r=\"3\"/>\n",
       "<circle clip-path=\"url(#clip02)\" style=\"fill:#0099ff; stroke:none; fill-opacity:1\" cx=\"127.433\" cy=\"223.823\" r=\"2\"/>\n",
       "<circle clip-path=\"url(#clip02)\" style=\"fill:#00002d; stroke:none; fill-opacity:1\" cx=\"132.822\" cy=\"58.2805\" r=\"3\"/>\n",
       "<circle clip-path=\"url(#clip02)\" style=\"fill:#0099ff; stroke:none; fill-opacity:1\" cx=\"132.822\" cy=\"58.2805\" r=\"2\"/>\n",
       "<circle clip-path=\"url(#clip02)\" style=\"fill:#00002d; stroke:none; fill-opacity:1\" cx=\"138.21\" cy=\"21.9157\" r=\"3\"/>\n",
       "<circle clip-path=\"url(#clip02)\" style=\"fill:#0099ff; stroke:none; fill-opacity:1\" cx=\"138.21\" cy=\"21.9157\" r=\"2\"/>\n",
       "<circle clip-path=\"url(#clip02)\" style=\"fill:#00002d; stroke:none; fill-opacity:1\" cx=\"143.599\" cy=\"331.943\" r=\"3\"/>\n",
       "<circle clip-path=\"url(#clip02)\" style=\"fill:#0099ff; stroke:none; fill-opacity:1\" cx=\"143.599\" cy=\"331.943\" r=\"2\"/>\n",
       "<circle clip-path=\"url(#clip02)\" style=\"fill:#00002d; stroke:none; fill-opacity:1\" cx=\"148.987\" cy=\"213.502\" r=\"3\"/>\n",
       "<circle clip-path=\"url(#clip02)\" style=\"fill:#0099ff; stroke:none; fill-opacity:1\" cx=\"148.987\" cy=\"213.502\" r=\"2\"/>\n",
       "<circle clip-path=\"url(#clip02)\" style=\"fill:#00002d; stroke:none; fill-opacity:1\" cx=\"154.375\" cy=\"18.4932\" r=\"3\"/>\n",
       "<circle clip-path=\"url(#clip02)\" style=\"fill:#0099ff; stroke:none; fill-opacity:1\" cx=\"154.375\" cy=\"18.4932\" r=\"2\"/>\n",
       "<circle clip-path=\"url(#clip02)\" style=\"fill:#00002d; stroke:none; fill-opacity:1\" cx=\"159.764\" cy=\"102.059\" r=\"3\"/>\n",
       "<circle clip-path=\"url(#clip02)\" style=\"fill:#0099ff; stroke:none; fill-opacity:1\" cx=\"159.764\" cy=\"102.059\" r=\"2\"/>\n",
       "<circle clip-path=\"url(#clip02)\" style=\"fill:#00002d; stroke:none; fill-opacity:1\" cx=\"165.152\" cy=\"205.76\" r=\"3\"/>\n",
       "<circle clip-path=\"url(#clip02)\" style=\"fill:#0099ff; stroke:none; fill-opacity:1\" cx=\"165.152\" cy=\"205.76\" r=\"2\"/>\n",
       "<circle clip-path=\"url(#clip02)\" style=\"fill:#00002d; stroke:none; fill-opacity:1\" cx=\"170.541\" cy=\"85.1945\" r=\"3\"/>\n",
       "<circle clip-path=\"url(#clip02)\" style=\"fill:#0099ff; stroke:none; fill-opacity:1\" cx=\"170.541\" cy=\"85.1945\" r=\"2\"/>\n",
       "<circle clip-path=\"url(#clip02)\" style=\"fill:#00002d; stroke:none; fill-opacity:1\" cx=\"175.929\" cy=\"250.531\" r=\"3\"/>\n",
       "<circle clip-path=\"url(#clip02)\" style=\"fill:#0099ff; stroke:none; fill-opacity:1\" cx=\"175.929\" cy=\"250.531\" r=\"2\"/>\n",
       "<circle clip-path=\"url(#clip02)\" style=\"fill:#00002d; stroke:none; fill-opacity:1\" cx=\"181.317\" cy=\"151.76\" r=\"3\"/>\n",
       "<circle clip-path=\"url(#clip02)\" style=\"fill:#0099ff; stroke:none; fill-opacity:1\" cx=\"181.317\" cy=\"151.76\" r=\"2\"/>\n",
       "<circle clip-path=\"url(#clip02)\" style=\"fill:#00002d; stroke:none; fill-opacity:1\" cx=\"186.706\" cy=\"133.117\" r=\"3\"/>\n",
       "<circle clip-path=\"url(#clip02)\" style=\"fill:#0099ff; stroke:none; fill-opacity:1\" cx=\"186.706\" cy=\"133.117\" r=\"2\"/>\n",
       "<circle clip-path=\"url(#clip02)\" style=\"fill:#00002d; stroke:none; fill-opacity:1\" cx=\"192.094\" cy=\"182.43\" r=\"3\"/>\n",
       "<circle clip-path=\"url(#clip02)\" style=\"fill:#0099ff; stroke:none; fill-opacity:1\" cx=\"192.094\" cy=\"182.43\" r=\"2\"/>\n",
       "<circle clip-path=\"url(#clip02)\" style=\"fill:#00002d; stroke:none; fill-opacity:1\" cx=\"197.483\" cy=\"161.576\" r=\"3\"/>\n",
       "<circle clip-path=\"url(#clip02)\" style=\"fill:#0099ff; stroke:none; fill-opacity:1\" cx=\"197.483\" cy=\"161.576\" r=\"2\"/>\n",
       "<circle clip-path=\"url(#clip02)\" style=\"fill:#00002d; stroke:none; fill-opacity:1\" cx=\"202.871\" cy=\"178.077\" r=\"3\"/>\n",
       "<circle clip-path=\"url(#clip02)\" style=\"fill:#0099ff; stroke:none; fill-opacity:1\" cx=\"202.871\" cy=\"178.077\" r=\"2\"/>\n",
       "<circle clip-path=\"url(#clip02)\" style=\"fill:#00002d; stroke:none; fill-opacity:1\" cx=\"208.259\" cy=\"85.1795\" r=\"3\"/>\n",
       "<circle clip-path=\"url(#clip02)\" style=\"fill:#0099ff; stroke:none; fill-opacity:1\" cx=\"208.259\" cy=\"85.1795\" r=\"2\"/>\n",
       "<circle clip-path=\"url(#clip02)\" style=\"fill:#00002d; stroke:none; fill-opacity:1\" cx=\"213.648\" cy=\"307.474\" r=\"3\"/>\n",
       "<circle clip-path=\"url(#clip02)\" style=\"fill:#0099ff; stroke:none; fill-opacity:1\" cx=\"213.648\" cy=\"307.474\" r=\"2\"/>\n",
       "<circle clip-path=\"url(#clip02)\" style=\"fill:#00002d; stroke:none; fill-opacity:1\" cx=\"219.036\" cy=\"135.483\" r=\"3\"/>\n",
       "<circle clip-path=\"url(#clip02)\" style=\"fill:#0099ff; stroke:none; fill-opacity:1\" cx=\"219.036\" cy=\"135.483\" r=\"2\"/>\n",
       "<circle clip-path=\"url(#clip02)\" style=\"fill:#00002d; stroke:none; fill-opacity:1\" cx=\"224.425\" cy=\"270.463\" r=\"3\"/>\n",
       "<circle clip-path=\"url(#clip02)\" style=\"fill:#0099ff; stroke:none; fill-opacity:1\" cx=\"224.425\" cy=\"270.463\" r=\"2\"/>\n",
       "<circle clip-path=\"url(#clip02)\" style=\"fill:#00002d; stroke:none; fill-opacity:1\" cx=\"229.813\" cy=\"90.5007\" r=\"3\"/>\n",
       "<circle clip-path=\"url(#clip02)\" style=\"fill:#0099ff; stroke:none; fill-opacity:1\" cx=\"229.813\" cy=\"90.5007\" r=\"2\"/>\n",
       "<circle clip-path=\"url(#clip02)\" style=\"fill:#00002d; stroke:none; fill-opacity:1\" cx=\"235.201\" cy=\"252.764\" r=\"3\"/>\n",
       "<circle clip-path=\"url(#clip02)\" style=\"fill:#0099ff; stroke:none; fill-opacity:1\" cx=\"235.201\" cy=\"252.764\" r=\"2\"/>\n",
       "<circle clip-path=\"url(#clip02)\" style=\"fill:#00002d; stroke:none; fill-opacity:1\" cx=\"240.59\" cy=\"300.665\" r=\"3\"/>\n",
       "<circle clip-path=\"url(#clip02)\" style=\"fill:#0099ff; stroke:none; fill-opacity:1\" cx=\"240.59\" cy=\"300.665\" r=\"2\"/>\n",
       "<circle clip-path=\"url(#clip02)\" style=\"fill:#00002d; stroke:none; fill-opacity:1\" cx=\"245.978\" cy=\"121.206\" r=\"3\"/>\n",
       "<circle clip-path=\"url(#clip02)\" style=\"fill:#0099ff; stroke:none; fill-opacity:1\" cx=\"245.978\" cy=\"121.206\" r=\"2\"/>\n",
       "<circle clip-path=\"url(#clip02)\" style=\"fill:#00002d; stroke:none; fill-opacity:1\" cx=\"251.367\" cy=\"347.772\" r=\"3\"/>\n",
       "<circle clip-path=\"url(#clip02)\" style=\"fill:#0099ff; stroke:none; fill-opacity:1\" cx=\"251.367\" cy=\"347.772\" r=\"2\"/>\n",
       "<circle clip-path=\"url(#clip02)\" style=\"fill:#00002d; stroke:none; fill-opacity:1\" cx=\"256.755\" cy=\"42.545\" r=\"3\"/>\n",
       "<circle clip-path=\"url(#clip02)\" style=\"fill:#0099ff; stroke:none; fill-opacity:1\" cx=\"256.755\" cy=\"42.545\" r=\"2\"/>\n",
       "<circle clip-path=\"url(#clip02)\" style=\"fill:#00002d; stroke:none; fill-opacity:1\" cx=\"262.143\" cy=\"212.089\" r=\"3\"/>\n",
       "<circle clip-path=\"url(#clip02)\" style=\"fill:#0099ff; stroke:none; fill-opacity:1\" cx=\"262.143\" cy=\"212.089\" r=\"2\"/>\n",
       "<circle clip-path=\"url(#clip02)\" style=\"fill:#00002d; stroke:none; fill-opacity:1\" cx=\"267.532\" cy=\"148.178\" r=\"3\"/>\n",
       "<circle clip-path=\"url(#clip02)\" style=\"fill:#0099ff; stroke:none; fill-opacity:1\" cx=\"267.532\" cy=\"148.178\" r=\"2\"/>\n",
       "<circle clip-path=\"url(#clip02)\" style=\"fill:#00002d; stroke:none; fill-opacity:1\" cx=\"272.92\" cy=\"149.339\" r=\"3\"/>\n",
       "<circle clip-path=\"url(#clip02)\" style=\"fill:#0099ff; stroke:none; fill-opacity:1\" cx=\"272.92\" cy=\"149.339\" r=\"2\"/>\n",
       "<circle clip-path=\"url(#clip02)\" style=\"fill:#00002d; stroke:none; fill-opacity:1\" cx=\"278.309\" cy=\"90.1919\" r=\"3\"/>\n",
       "<circle clip-path=\"url(#clip02)\" style=\"fill:#0099ff; stroke:none; fill-opacity:1\" cx=\"278.309\" cy=\"90.1919\" r=\"2\"/>\n",
       "<circle clip-path=\"url(#clip02)\" style=\"fill:#00002d; stroke:none; fill-opacity:1\" cx=\"283.697\" cy=\"263.627\" r=\"3\"/>\n",
       "<circle clip-path=\"url(#clip02)\" style=\"fill:#0099ff; stroke:none; fill-opacity:1\" cx=\"283.697\" cy=\"263.627\" r=\"2\"/>\n",
       "<circle clip-path=\"url(#clip02)\" style=\"fill:#00002d; stroke:none; fill-opacity:1\" cx=\"289.086\" cy=\"71.3758\" r=\"3\"/>\n",
       "<circle clip-path=\"url(#clip02)\" style=\"fill:#0099ff; stroke:none; fill-opacity:1\" cx=\"289.086\" cy=\"71.3758\" r=\"2\"/>\n",
       "<circle clip-path=\"url(#clip02)\" style=\"fill:#00002d; stroke:none; fill-opacity:1\" cx=\"294.474\" cy=\"328.348\" r=\"3\"/>\n",
       "<circle clip-path=\"url(#clip02)\" style=\"fill:#0099ff; stroke:none; fill-opacity:1\" cx=\"294.474\" cy=\"328.348\" r=\"2\"/>\n",
       "<circle clip-path=\"url(#clip02)\" style=\"fill:#00002d; stroke:none; fill-opacity:1\" cx=\"299.862\" cy=\"91.5629\" r=\"3\"/>\n",
       "<circle clip-path=\"url(#clip02)\" style=\"fill:#0099ff; stroke:none; fill-opacity:1\" cx=\"299.862\" cy=\"91.5629\" r=\"2\"/>\n",
       "<circle clip-path=\"url(#clip02)\" style=\"fill:#00002d; stroke:none; fill-opacity:1\" cx=\"305.251\" cy=\"218.221\" r=\"3\"/>\n",
       "<circle clip-path=\"url(#clip02)\" style=\"fill:#0099ff; stroke:none; fill-opacity:1\" cx=\"305.251\" cy=\"218.221\" r=\"2\"/>\n",
       "<circle clip-path=\"url(#clip02)\" style=\"fill:#00002d; stroke:none; fill-opacity:1\" cx=\"310.639\" cy=\"88.9107\" r=\"3\"/>\n",
       "<circle clip-path=\"url(#clip02)\" style=\"fill:#0099ff; stroke:none; fill-opacity:1\" cx=\"310.639\" cy=\"88.9107\" r=\"2\"/>\n",
       "<circle clip-path=\"url(#clip02)\" style=\"fill:#00002d; stroke:none; fill-opacity:1\" cx=\"316.028\" cy=\"170.019\" r=\"3\"/>\n",
       "<circle clip-path=\"url(#clip02)\" style=\"fill:#0099ff; stroke:none; fill-opacity:1\" cx=\"316.028\" cy=\"170.019\" r=\"2\"/>\n",
       "<circle clip-path=\"url(#clip02)\" style=\"fill:#00002d; stroke:none; fill-opacity:1\" cx=\"321.416\" cy=\"301.139\" r=\"3\"/>\n",
       "<circle clip-path=\"url(#clip02)\" style=\"fill:#0099ff; stroke:none; fill-opacity:1\" cx=\"321.416\" cy=\"301.139\" r=\"2\"/>\n",
       "<circle clip-path=\"url(#clip02)\" style=\"fill:#00002d; stroke:none; fill-opacity:1\" cx=\"326.804\" cy=\"154.004\" r=\"3\"/>\n",
       "<circle clip-path=\"url(#clip02)\" style=\"fill:#0099ff; stroke:none; fill-opacity:1\" cx=\"326.804\" cy=\"154.004\" r=\"2\"/>\n",
       "<circle clip-path=\"url(#clip02)\" style=\"fill:#00002d; stroke:none; fill-opacity:1\" cx=\"332.193\" cy=\"206.123\" r=\"3\"/>\n",
       "<circle clip-path=\"url(#clip02)\" style=\"fill:#0099ff; stroke:none; fill-opacity:1\" cx=\"332.193\" cy=\"206.123\" r=\"2\"/>\n",
       "<circle clip-path=\"url(#clip02)\" style=\"fill:#00002d; stroke:none; fill-opacity:1\" cx=\"337.581\" cy=\"308.521\" r=\"3\"/>\n",
       "<circle clip-path=\"url(#clip02)\" style=\"fill:#0099ff; stroke:none; fill-opacity:1\" cx=\"337.581\" cy=\"308.521\" r=\"2\"/>\n",
       "<circle clip-path=\"url(#clip02)\" style=\"fill:#00002d; stroke:none; fill-opacity:1\" cx=\"342.97\" cy=\"268.642\" r=\"3\"/>\n",
       "<circle clip-path=\"url(#clip02)\" style=\"fill:#0099ff; stroke:none; fill-opacity:1\" cx=\"342.97\" cy=\"268.642\" r=\"2\"/>\n",
       "<circle clip-path=\"url(#clip02)\" style=\"fill:#00002d; stroke:none; fill-opacity:1\" cx=\"348.358\" cy=\"237.603\" r=\"3\"/>\n",
       "<circle clip-path=\"url(#clip02)\" style=\"fill:#0099ff; stroke:none; fill-opacity:1\" cx=\"348.358\" cy=\"237.603\" r=\"2\"/>\n",
       "<circle clip-path=\"url(#clip02)\" style=\"fill:#00002d; stroke:none; fill-opacity:1\" cx=\"353.746\" cy=\"200.467\" r=\"3\"/>\n",
       "<circle clip-path=\"url(#clip02)\" style=\"fill:#0099ff; stroke:none; fill-opacity:1\" cx=\"353.746\" cy=\"200.467\" r=\"2\"/>\n",
       "<circle clip-path=\"url(#clip02)\" style=\"fill:#00002d; stroke:none; fill-opacity:1\" cx=\"359.135\" cy=\"104.876\" r=\"3\"/>\n",
       "<circle clip-path=\"url(#clip02)\" style=\"fill:#0099ff; stroke:none; fill-opacity:1\" cx=\"359.135\" cy=\"104.876\" r=\"2\"/>\n",
       "<circle clip-path=\"url(#clip02)\" style=\"fill:#00002d; stroke:none; fill-opacity:1\" cx=\"364.523\" cy=\"27.0806\" r=\"3\"/>\n",
       "<circle clip-path=\"url(#clip02)\" style=\"fill:#0099ff; stroke:none; fill-opacity:1\" cx=\"364.523\" cy=\"27.0806\" r=\"2\"/>\n",
       "<circle clip-path=\"url(#clip02)\" style=\"fill:#00002d; stroke:none; fill-opacity:1\" cx=\"369.912\" cy=\"166.46\" r=\"3\"/>\n",
       "<circle clip-path=\"url(#clip02)\" style=\"fill:#0099ff; stroke:none; fill-opacity:1\" cx=\"369.912\" cy=\"166.46\" r=\"2\"/>\n",
       "<circle clip-path=\"url(#clip02)\" style=\"fill:#00002d; stroke:none; fill-opacity:1\" cx=\"375.3\" cy=\"51.9161\" r=\"3\"/>\n",
       "<circle clip-path=\"url(#clip02)\" style=\"fill:#0099ff; stroke:none; fill-opacity:1\" cx=\"375.3\" cy=\"51.9161\" r=\"2\"/>\n",
       "<circle clip-path=\"url(#clip02)\" style=\"fill:#00002d; stroke:none; fill-opacity:1\" cx=\"380.688\" cy=\"86.5171\" r=\"3\"/>\n",
       "<circle clip-path=\"url(#clip02)\" style=\"fill:#0099ff; stroke:none; fill-opacity:1\" cx=\"380.688\" cy=\"86.5171\" r=\"2\"/>\n",
       "<circle clip-path=\"url(#clip02)\" style=\"fill:#00002d; stroke:none; fill-opacity:1\" cx=\"386.077\" cy=\"24.3574\" r=\"3\"/>\n",
       "<circle clip-path=\"url(#clip02)\" style=\"fill:#0099ff; stroke:none; fill-opacity:1\" cx=\"386.077\" cy=\"24.3574\" r=\"2\"/>\n",
       "<circle clip-path=\"url(#clip02)\" style=\"fill:#00002d; stroke:none; fill-opacity:1\" cx=\"391.465\" cy=\"177.938\" r=\"3\"/>\n",
       "<circle clip-path=\"url(#clip02)\" style=\"fill:#0099ff; stroke:none; fill-opacity:1\" cx=\"391.465\" cy=\"177.938\" r=\"2\"/>\n",
       "<circle clip-path=\"url(#clip02)\" style=\"fill:#00002d; stroke:none; fill-opacity:1\" cx=\"396.854\" cy=\"271.26\" r=\"3\"/>\n",
       "<circle clip-path=\"url(#clip02)\" style=\"fill:#0099ff; stroke:none; fill-opacity:1\" cx=\"396.854\" cy=\"271.26\" r=\"2\"/>\n",
       "<circle clip-path=\"url(#clip02)\" style=\"fill:#00002d; stroke:none; fill-opacity:1\" cx=\"402.242\" cy=\"250.783\" r=\"3\"/>\n",
       "<circle clip-path=\"url(#clip02)\" style=\"fill:#0099ff; stroke:none; fill-opacity:1\" cx=\"402.242\" cy=\"250.783\" r=\"2\"/>\n",
       "<circle clip-path=\"url(#clip02)\" style=\"fill:#00002d; stroke:none; fill-opacity:1\" cx=\"407.63\" cy=\"305.824\" r=\"3\"/>\n",
       "<circle clip-path=\"url(#clip02)\" style=\"fill:#0099ff; stroke:none; fill-opacity:1\" cx=\"407.63\" cy=\"305.824\" r=\"2\"/>\n",
       "<circle clip-path=\"url(#clip02)\" style=\"fill:#00002d; stroke:none; fill-opacity:1\" cx=\"413.019\" cy=\"105.472\" r=\"3\"/>\n",
       "<circle clip-path=\"url(#clip02)\" style=\"fill:#0099ff; stroke:none; fill-opacity:1\" cx=\"413.019\" cy=\"105.472\" r=\"2\"/>\n",
       "<circle clip-path=\"url(#clip02)\" style=\"fill:#00002d; stroke:none; fill-opacity:1\" cx=\"418.407\" cy=\"371.964\" r=\"3\"/>\n",
       "<circle clip-path=\"url(#clip02)\" style=\"fill:#0099ff; stroke:none; fill-opacity:1\" cx=\"418.407\" cy=\"371.964\" r=\"2\"/>\n",
       "<circle clip-path=\"url(#clip02)\" style=\"fill:#00002d; stroke:none; fill-opacity:1\" cx=\"423.796\" cy=\"106.862\" r=\"3\"/>\n",
       "<circle clip-path=\"url(#clip02)\" style=\"fill:#0099ff; stroke:none; fill-opacity:1\" cx=\"423.796\" cy=\"106.862\" r=\"2\"/>\n",
       "<circle clip-path=\"url(#clip02)\" style=\"fill:#00002d; stroke:none; fill-opacity:1\" cx=\"429.184\" cy=\"314.636\" r=\"3\"/>\n",
       "<circle clip-path=\"url(#clip02)\" style=\"fill:#0099ff; stroke:none; fill-opacity:1\" cx=\"429.184\" cy=\"314.636\" r=\"2\"/>\n",
       "<circle clip-path=\"url(#clip02)\" style=\"fill:#00002d; stroke:none; fill-opacity:1\" cx=\"434.572\" cy=\"25.2531\" r=\"3\"/>\n",
       "<circle clip-path=\"url(#clip02)\" style=\"fill:#0099ff; stroke:none; fill-opacity:1\" cx=\"434.572\" cy=\"25.2531\" r=\"2\"/>\n",
       "<circle clip-path=\"url(#clip02)\" style=\"fill:#00002d; stroke:none; fill-opacity:1\" cx=\"439.961\" cy=\"309.987\" r=\"3\"/>\n",
       "<circle clip-path=\"url(#clip02)\" style=\"fill:#0099ff; stroke:none; fill-opacity:1\" cx=\"439.961\" cy=\"309.987\" r=\"2\"/>\n",
       "<circle clip-path=\"url(#clip02)\" style=\"fill:#00002d; stroke:none; fill-opacity:1\" cx=\"445.349\" cy=\"18.2047\" r=\"3\"/>\n",
       "<circle clip-path=\"url(#clip02)\" style=\"fill:#0099ff; stroke:none; fill-opacity:1\" cx=\"445.349\" cy=\"18.2047\" r=\"2\"/>\n",
       "<circle clip-path=\"url(#clip02)\" style=\"fill:#00002d; stroke:none; fill-opacity:1\" cx=\"450.738\" cy=\"349.214\" r=\"3\"/>\n",
       "<circle clip-path=\"url(#clip02)\" style=\"fill:#0099ff; stroke:none; fill-opacity:1\" cx=\"450.738\" cy=\"349.214\" r=\"2\"/>\n",
       "<circle clip-path=\"url(#clip02)\" style=\"fill:#00002d; stroke:none; fill-opacity:1\" cx=\"456.126\" cy=\"65.3046\" r=\"3\"/>\n",
       "<circle clip-path=\"url(#clip02)\" style=\"fill:#0099ff; stroke:none; fill-opacity:1\" cx=\"456.126\" cy=\"65.3046\" r=\"2\"/>\n",
       "<circle clip-path=\"url(#clip02)\" style=\"fill:#00002d; stroke:none; fill-opacity:1\" cx=\"461.514\" cy=\"258.615\" r=\"3\"/>\n",
       "<circle clip-path=\"url(#clip02)\" style=\"fill:#0099ff; stroke:none; fill-opacity:1\" cx=\"461.514\" cy=\"258.615\" r=\"2\"/>\n",
       "<circle clip-path=\"url(#clip02)\" style=\"fill:#00002d; stroke:none; fill-opacity:1\" cx=\"466.903\" cy=\"185.137\" r=\"3\"/>\n",
       "<circle clip-path=\"url(#clip02)\" style=\"fill:#0099ff; stroke:none; fill-opacity:1\" cx=\"466.903\" cy=\"185.137\" r=\"2\"/>\n",
       "<circle clip-path=\"url(#clip02)\" style=\"fill:#00002d; stroke:none; fill-opacity:1\" cx=\"472.291\" cy=\"244.244\" r=\"3\"/>\n",
       "<circle clip-path=\"url(#clip02)\" style=\"fill:#0099ff; stroke:none; fill-opacity:1\" cx=\"472.291\" cy=\"244.244\" r=\"2\"/>\n",
       "<circle clip-path=\"url(#clip02)\" style=\"fill:#00002d; stroke:none; fill-opacity:1\" cx=\"477.68\" cy=\"189.22\" r=\"3\"/>\n",
       "<circle clip-path=\"url(#clip02)\" style=\"fill:#0099ff; stroke:none; fill-opacity:1\" cx=\"477.68\" cy=\"189.22\" r=\"2\"/>\n",
       "<circle clip-path=\"url(#clip02)\" style=\"fill:#00002d; stroke:none; fill-opacity:1\" cx=\"483.068\" cy=\"334.669\" r=\"3\"/>\n",
       "<circle clip-path=\"url(#clip02)\" style=\"fill:#0099ff; stroke:none; fill-opacity:1\" cx=\"483.068\" cy=\"334.669\" r=\"2\"/>\n",
       "<circle clip-path=\"url(#clip02)\" style=\"fill:#00002d; stroke:none; fill-opacity:1\" cx=\"488.457\" cy=\"287.266\" r=\"3\"/>\n",
       "<circle clip-path=\"url(#clip02)\" style=\"fill:#0099ff; stroke:none; fill-opacity:1\" cx=\"488.457\" cy=\"287.266\" r=\"2\"/>\n",
       "<circle clip-path=\"url(#clip02)\" style=\"fill:#00002d; stroke:none; fill-opacity:1\" cx=\"493.845\" cy=\"195.869\" r=\"3\"/>\n",
       "<circle clip-path=\"url(#clip02)\" style=\"fill:#0099ff; stroke:none; fill-opacity:1\" cx=\"493.845\" cy=\"195.869\" r=\"2\"/>\n",
       "<circle clip-path=\"url(#clip02)\" style=\"fill:#00002d; stroke:none; fill-opacity:1\" cx=\"499.233\" cy=\"363.784\" r=\"3\"/>\n",
       "<circle clip-path=\"url(#clip02)\" style=\"fill:#0099ff; stroke:none; fill-opacity:1\" cx=\"499.233\" cy=\"363.784\" r=\"2\"/>\n",
       "<circle clip-path=\"url(#clip02)\" style=\"fill:#00002d; stroke:none; fill-opacity:1\" cx=\"504.622\" cy=\"37.3562\" r=\"3\"/>\n",
       "<circle clip-path=\"url(#clip02)\" style=\"fill:#0099ff; stroke:none; fill-opacity:1\" cx=\"504.622\" cy=\"37.3562\" r=\"2\"/>\n",
       "<circle clip-path=\"url(#clip02)\" style=\"fill:#00002d; stroke:none; fill-opacity:1\" cx=\"510.01\" cy=\"358.931\" r=\"3\"/>\n",
       "<circle clip-path=\"url(#clip02)\" style=\"fill:#0099ff; stroke:none; fill-opacity:1\" cx=\"510.01\" cy=\"358.931\" r=\"2\"/>\n",
       "<circle clip-path=\"url(#clip02)\" style=\"fill:#00002d; stroke:none; fill-opacity:1\" cx=\"515.399\" cy=\"355.598\" r=\"3\"/>\n",
       "<circle clip-path=\"url(#clip02)\" style=\"fill:#0099ff; stroke:none; fill-opacity:1\" cx=\"515.399\" cy=\"355.598\" r=\"2\"/>\n",
       "<circle clip-path=\"url(#clip02)\" style=\"fill:#00002d; stroke:none; fill-opacity:1\" cx=\"520.787\" cy=\"220.942\" r=\"3\"/>\n",
       "<circle clip-path=\"url(#clip02)\" style=\"fill:#0099ff; stroke:none; fill-opacity:1\" cx=\"520.787\" cy=\"220.942\" r=\"2\"/>\n",
       "<circle clip-path=\"url(#clip02)\" style=\"fill:#00002d; stroke:none; fill-opacity:1\" cx=\"526.175\" cy=\"374.168\" r=\"3\"/>\n",
       "<circle clip-path=\"url(#clip02)\" style=\"fill:#0099ff; stroke:none; fill-opacity:1\" cx=\"526.175\" cy=\"374.168\" r=\"2\"/>\n",
       "<circle clip-path=\"url(#clip02)\" style=\"fill:#00002d; stroke:none; fill-opacity:1\" cx=\"531.564\" cy=\"14.7204\" r=\"3\"/>\n",
       "<circle clip-path=\"url(#clip02)\" style=\"fill:#0099ff; stroke:none; fill-opacity:1\" cx=\"531.564\" cy=\"14.7204\" r=\"2\"/>\n",
       "<circle clip-path=\"url(#clip02)\" style=\"fill:#00002d; stroke:none; fill-opacity:1\" cx=\"536.952\" cy=\"147.111\" r=\"3\"/>\n",
       "<circle clip-path=\"url(#clip02)\" style=\"fill:#0099ff; stroke:none; fill-opacity:1\" cx=\"536.952\" cy=\"147.111\" r=\"2\"/>\n",
       "<circle clip-path=\"url(#clip02)\" style=\"fill:#00002d; stroke:none; fill-opacity:1\" cx=\"542.341\" cy=\"54.144\" r=\"3\"/>\n",
       "<circle clip-path=\"url(#clip02)\" style=\"fill:#0099ff; stroke:none; fill-opacity:1\" cx=\"542.341\" cy=\"54.144\" r=\"2\"/>\n",
       "<circle clip-path=\"url(#clip02)\" style=\"fill:#00002d; stroke:none; fill-opacity:1\" cx=\"547.729\" cy=\"195.118\" r=\"3\"/>\n",
       "<circle clip-path=\"url(#clip02)\" style=\"fill:#0099ff; stroke:none; fill-opacity:1\" cx=\"547.729\" cy=\"195.118\" r=\"2\"/>\n",
       "<circle clip-path=\"url(#clip02)\" style=\"fill:#00002d; stroke:none; fill-opacity:1\" cx=\"553.117\" cy=\"21.7364\" r=\"3\"/>\n",
       "<circle clip-path=\"url(#clip02)\" style=\"fill:#0099ff; stroke:none; fill-opacity:1\" cx=\"553.117\" cy=\"21.7364\" r=\"2\"/>\n",
       "<circle clip-path=\"url(#clip02)\" style=\"fill:#00002d; stroke:none; fill-opacity:1\" cx=\"558.506\" cy=\"285.773\" r=\"3\"/>\n",
       "<circle clip-path=\"url(#clip02)\" style=\"fill:#0099ff; stroke:none; fill-opacity:1\" cx=\"558.506\" cy=\"285.773\" r=\"2\"/>\n",
       "<circle clip-path=\"url(#clip02)\" style=\"fill:#00002d; stroke:none; fill-opacity:1\" cx=\"563.894\" cy=\"178.78\" r=\"3\"/>\n",
       "<circle clip-path=\"url(#clip02)\" style=\"fill:#0099ff; stroke:none; fill-opacity:1\" cx=\"563.894\" cy=\"178.78\" r=\"2\"/>\n",
       "<circle clip-path=\"url(#clip02)\" style=\"fill:#00002d; stroke:none; fill-opacity:1\" cx=\"569.283\" cy=\"240.286\" r=\"3\"/>\n",
       "<circle clip-path=\"url(#clip02)\" style=\"fill:#0099ff; stroke:none; fill-opacity:1\" cx=\"569.283\" cy=\"240.286\" r=\"2\"/>\n",
       "<circle clip-path=\"url(#clip02)\" style=\"fill:#00002d; stroke:none; fill-opacity:1\" cx=\"574.671\" cy=\"88.4118\" r=\"3\"/>\n",
       "<circle clip-path=\"url(#clip02)\" style=\"fill:#0099ff; stroke:none; fill-opacity:1\" cx=\"574.671\" cy=\"88.4118\" r=\"2\"/>\n",
       "<circle clip-path=\"url(#clip02)\" style=\"fill:#00002d; stroke:none; fill-opacity:1\" cx=\"580.059\" cy=\"369.649\" r=\"3\"/>\n",
       "<circle clip-path=\"url(#clip02)\" style=\"fill:#0099ff; stroke:none; fill-opacity:1\" cx=\"580.059\" cy=\"369.649\" r=\"2\"/>\n",
       "<polygon clip-path=\"url(#clip00)\" points=\"\n",
       "505.547,55.057 578.063,55.057 578.063,24.817 505.547,24.817 \n",
       "  \" fill=\"#ffffff\" fill-opacity=\"1\"/>\n",
       "<polyline clip-path=\"url(#clip00)\" style=\"stroke:#00002d; stroke-width:0.8; stroke-opacity:1; fill:none\" points=\"\n",
       "  505.547,55.057 578.063,55.057 578.063,24.817 505.547,24.817 505.547,55.057 \n",
       "  \"/>\n",
       "<circle clip-path=\"url(#clip00)\" style=\"fill:#00002d; stroke:none; fill-opacity:1\" cx=\"517.547\" cy=\"39.937\" r=\"7\"/>\n",
       "<circle clip-path=\"url(#clip00)\" style=\"fill:#0099ff; stroke:none; fill-opacity:1\" cx=\"517.547\" cy=\"39.937\" r=\"7\"/>\n",
       "<circle clip-path=\"url(#clip00)\" style=\"fill:#00002d; stroke:none; fill-opacity:1\" cx=\"541.547\" cy=\"39.937\" r=\"7\"/>\n",
       "<circle clip-path=\"url(#clip00)\" style=\"fill:#0099ff; stroke:none; fill-opacity:1\" cx=\"541.547\" cy=\"39.937\" r=\"7\"/>\n",
       "<g clip-path=\"url(#clip00)\">\n",
       "<text style=\"fill:#00002d; fill-opacity:1; font-family:Arial,Helvetica Neue,Helvetica,sans-serif; font-size:12; text-anchor:start;\" transform=\"rotate(0, 553.547, 44.437)\" x=\"553.547\" y=\"44.437\">y1</text>\n",
       "</g>\n",
       "</svg>\n"
      ]
     },
     "execution_count": 110,
     "metadata": {},
     "output_type": "execute_result"
    }
   ],
   "source": [
    "scatter(x, rand(100))"
   ]
  },
  {
   "cell_type": "code",
   "execution_count": 111,
   "metadata": {
    "collapsed": false
   },
   "outputs": [
    {
     "name": "stderr",
     "output_type": "stream",
     "text": [
      "WARNING: Method definition f(Any) in module Main at In[54]:1 overwritten at In[111]:1.\n"
     ]
    },
    {
     "data": {
      "text/html": [
       "<?xml version=\"1.0\" encoding=\"utf-8\"?>\n",
       "<svg xmlns=\"http://www.w3.org/2000/svg\" xmlns:xlink=\"http://www.w3.org/1999/xlink\" width=\"600\" height=\"400\" viewBox=\"0 0 600 400\">\n",
       "<defs>\n",
       "  <clipPath id=\"clip00\">\n",
       "    <rect x=\"0\" y=\"0\" width=\"600\" height=\"400\"/>\n",
       "  </clipPath>\n",
       "</defs>\n",
       "<polygon clip-path=\"url(#clip00)\" points=\"\n",
       "0,400 600,400 600,0 0,0 \n",
       "  \" fill=\"#ffffff\" fill-opacity=\"1\"/>\n",
       "<defs>\n",
       "  <clipPath id=\"clip01\">\n",
       "    <rect x=\"120\" y=\"0\" width=\"421\" height=\"400\"/>\n",
       "  </clipPath>\n",
       "</defs>\n",
       "<polygon clip-path=\"url(#clip00)\" points=\"\n",
       "39.4926,384.952 596.063,384.952 596.063,3.93701 39.4926,3.93701 \n",
       "  \" fill=\"#ffffff\" fill-opacity=\"1\"/>\n",
       "<defs>\n",
       "  <clipPath id=\"clip02\">\n",
       "    <rect x=\"39\" y=\"3\" width=\"557\" height=\"382\"/>\n",
       "  </clipPath>\n",
       "</defs>\n",
       "<polyline clip-path=\"url(#clip02)\" style=\"stroke:#00002d; stroke-width:0.8; stroke-opacity:0.5; fill:none\" stroke-dasharray=\"1, 2\" points=\"\n",
       "  39.4926,379.237 39.4926,9.65223 \n",
       "  \"/>\n",
       "<polyline clip-path=\"url(#clip02)\" style=\"stroke:#00002d; stroke-width:0.8; stroke-opacity:0.5; fill:none\" stroke-dasharray=\"1, 2\" points=\"\n",
       "  260.945,379.237 260.945,9.65223 \n",
       "  \"/>\n",
       "<polyline clip-path=\"url(#clip02)\" style=\"stroke:#00002d; stroke-width:0.8; stroke-opacity:0.5; fill:none\" stroke-dasharray=\"1, 2\" points=\"\n",
       "  482.397,379.237 482.397,9.65223 \n",
       "  \"/>\n",
       "<polyline clip-path=\"url(#clip02)\" style=\"stroke:#00002d; stroke-width:0.8; stroke-opacity:0.5; fill:none\" stroke-dasharray=\"1, 2\" points=\"\n",
       "  47.8411,289.71 587.714,289.71 \n",
       "  \"/>\n",
       "<polyline clip-path=\"url(#clip02)\" style=\"stroke:#00002d; stroke-width:0.8; stroke-opacity:0.5; fill:none\" stroke-dasharray=\"1, 2\" points=\"\n",
       "  47.8411,194.444 587.714,194.444 \n",
       "  \"/>\n",
       "<polyline clip-path=\"url(#clip02)\" style=\"stroke:#00002d; stroke-width:0.8; stroke-opacity:0.5; fill:none\" stroke-dasharray=\"1, 2\" points=\"\n",
       "  47.8411,99.1787 587.714,99.1787 \n",
       "  \"/>\n",
       "<polyline clip-path=\"url(#clip02)\" style=\"stroke:#00002d; stroke-width:0.8; stroke-opacity:1; fill:none\" points=\"\n",
       "  39.4926,384.952 596.063,384.952 \n",
       "  \"/>\n",
       "<polyline clip-path=\"url(#clip02)\" style=\"stroke:#00002d; stroke-width:0.8; stroke-opacity:1; fill:none\" points=\"\n",
       "  39.4926,384.952 39.4926,379.237 \n",
       "  \"/>\n",
       "<polyline clip-path=\"url(#clip02)\" style=\"stroke:#00002d; stroke-width:0.8; stroke-opacity:1; fill:none\" points=\"\n",
       "  260.945,384.952 260.945,379.237 \n",
       "  \"/>\n",
       "<polyline clip-path=\"url(#clip02)\" style=\"stroke:#00002d; stroke-width:0.8; stroke-opacity:1; fill:none\" points=\"\n",
       "  482.397,384.952 482.397,379.237 \n",
       "  \"/>\n",
       "<polyline clip-path=\"url(#clip02)\" style=\"stroke:#00002d; stroke-width:0.8; stroke-opacity:1; fill:none\" points=\"\n",
       "  39.4926,384.952 39.4926,3.93701 \n",
       "  \"/>\n",
       "<polyline clip-path=\"url(#clip02)\" style=\"stroke:#00002d; stroke-width:0.8; stroke-opacity:1; fill:none\" points=\"\n",
       "  39.4926,289.71 47.8411,289.71 \n",
       "  \"/>\n",
       "<polyline clip-path=\"url(#clip02)\" style=\"stroke:#00002d; stroke-width:0.8; stroke-opacity:1; fill:none\" points=\"\n",
       "  39.4926,194.444 47.8411,194.444 \n",
       "  \"/>\n",
       "<polyline clip-path=\"url(#clip02)\" style=\"stroke:#00002d; stroke-width:0.8; stroke-opacity:1; fill:none\" points=\"\n",
       "  39.4926,99.1787 47.8411,99.1787 \n",
       "  \"/>\n",
       "<g clip-path=\"url(#clip00)\">\n",
       "<text style=\"fill:#00002d; fill-opacity:1; font-family:Arial,Helvetica Neue,Helvetica,sans-serif; font-size:12; text-anchor:middle;\" transform=\"rotate(0, 39.4926, 396.952)\" x=\"39.4926\" y=\"396.952\">0</text>\n",
       "</g>\n",
       "<g clip-path=\"url(#clip00)\">\n",
       "<text style=\"fill:#00002d; fill-opacity:1; font-family:Arial,Helvetica Neue,Helvetica,sans-serif; font-size:12; text-anchor:middle;\" transform=\"rotate(0, 260.945, 396.952)\" x=\"260.945\" y=\"396.952\">5</text>\n",
       "</g>\n",
       "<g clip-path=\"url(#clip00)\">\n",
       "<text style=\"fill:#00002d; fill-opacity:1; font-family:Arial,Helvetica Neue,Helvetica,sans-serif; font-size:12; text-anchor:middle;\" transform=\"rotate(0, 482.397, 396.952)\" x=\"482.397\" y=\"396.952\">10</text>\n",
       "</g>\n",
       "<g clip-path=\"url(#clip00)\">\n",
       "<text style=\"fill:#00002d; fill-opacity:1; font-family:Arial,Helvetica Neue,Helvetica,sans-serif; font-size:12; text-anchor:end;\" transform=\"rotate(0, 38.2926, 294.21)\" x=\"38.2926\" y=\"294.21\">-0.5</text>\n",
       "</g>\n",
       "<g clip-path=\"url(#clip00)\">\n",
       "<text style=\"fill:#00002d; fill-opacity:1; font-family:Arial,Helvetica Neue,Helvetica,sans-serif; font-size:12; text-anchor:end;\" transform=\"rotate(0, 38.2926, 198.944)\" x=\"38.2926\" y=\"198.944\">0.0</text>\n",
       "</g>\n",
       "<g clip-path=\"url(#clip00)\">\n",
       "<text style=\"fill:#00002d; fill-opacity:1; font-family:Arial,Helvetica Neue,Helvetica,sans-serif; font-size:12; text-anchor:end;\" transform=\"rotate(0, 38.2926, 103.679)\" x=\"38.2926\" y=\"103.679\">0.5</text>\n",
       "</g>\n",
       "<polyline clip-path=\"url(#clip02)\" style=\"stroke:#0099ff; stroke-width:0.8; stroke-opacity:1; fill:none\" points=\"\n",
       "  39.4926,194.444 45.1145,170.325 50.7364,146.593 56.3583,123.631 61.9803,101.809 67.6022,81.4769 73.2241,62.9627 78.846,46.5642 84.468,32.5451 90.0899,21.131 \n",
       "  95.7118,12.5056 101.334,6.80763 106.956,4.12883 112.578,4.51229 118.199,7.95183 123.821,14.3921 129.443,23.7295 135.065,35.8137 140.687,50.4504 146.309,67.404 \n",
       "  151.931,86.4017 157.553,107.138 163.175,129.279 168.797,152.468 174.419,176.333 180.041,200.49 185.663,224.549 191.284,248.123 196.906,270.834 202.528,292.316 \n",
       "  208.15,312.223 213.772,330.235 219.394,346.062 225.016,359.449 230.638,370.182 236.26,378.087 241.882,383.037 247.504,384.952 253.126,383.802 258.748,379.605 \n",
       "  264.37,372.429 269.991,362.389 275.613,349.647 281.235,334.407 286.857,316.916 292.479,297.454 298.101,276.334 303.723,253.897 309.345,230.503 314.967,206.529 \n",
       "  320.589,182.36 326.211,158.386 331.833,134.992 337.455,112.555 343.076,91.4354 348.698,71.9732 354.32,54.4816 359.942,39.2421 365.564,26.4999 371.186,16.4599 \n",
       "  376.808,9.28381 382.43,5.08699 388.052,3.93701 393.674,5.85236 399.296,10.8022 404.918,18.707 410.54,29.4394 416.161,42.8268 421.783,58.6538 427.405,76.6657 \n",
       "  433.027,96.5728 438.649,118.055 444.271,140.766 449.893,164.34 455.515,188.399 461.137,212.556 466.759,236.421 472.381,259.61 478.003,281.751 483.625,302.487 \n",
       "  489.246,321.485 494.868,338.438 500.49,353.075 506.112,365.159 511.734,374.497 517.356,380.937 522.978,384.377 528.6,384.76 534.222,382.081 539.844,376.383 \n",
       "  545.466,367.758 551.088,356.344 556.71,342.325 562.331,325.926 567.953,307.412 573.575,287.08 579.197,265.258 584.819,242.296 590.441,218.564 596.063,194.444 \n",
       "  \n",
       "  \"/>\n",
       "<polygon clip-path=\"url(#clip00)\" points=\"\n",
       "505.547,55.057 578.063,55.057 578.063,24.817 505.547,24.817 \n",
       "  \" fill=\"#ffffff\" fill-opacity=\"1\"/>\n",
       "<polyline clip-path=\"url(#clip00)\" style=\"stroke:#00002d; stroke-width:0.8; stroke-opacity:1; fill:none\" points=\"\n",
       "  505.547,55.057 578.063,55.057 578.063,24.817 505.547,24.817 505.547,55.057 \n",
       "  \"/>\n",
       "<polyline clip-path=\"url(#clip00)\" style=\"stroke:#0099ff; stroke-width:0.8; stroke-opacity:1; fill:none\" points=\"\n",
       "  511.547,39.937 547.547,39.937 \n",
       "  \"/>\n",
       "<g clip-path=\"url(#clip00)\">\n",
       "<text style=\"fill:#00002d; fill-opacity:1; font-family:Arial,Helvetica Neue,Helvetica,sans-serif; font-size:12; text-anchor:start;\" transform=\"rotate(0, 553.547, 44.437)\" x=\"553.547\" y=\"44.437\">y1</text>\n",
       "</g>\n",
       "</svg>\n"
      ]
     },
     "execution_count": 111,
     "metadata": {},
     "output_type": "execute_result"
    }
   ],
   "source": [
    "f(x) = sin(x)\n",
    "plot(f, 0, 4pi)"
   ]
  },
  {
   "cell_type": "code",
   "execution_count": 112,
   "metadata": {
    "collapsed": false
   },
   "outputs": [
    {
     "data": {
      "text/html": [
       "<?xml version=\"1.0\" encoding=\"utf-8\"?>\n",
       "<svg xmlns=\"http://www.w3.org/2000/svg\" xmlns:xlink=\"http://www.w3.org/1999/xlink\" width=\"600\" height=\"400\" viewBox=\"0 0 600 400\">\n",
       "<defs>\n",
       "  <clipPath id=\"clip00\">\n",
       "    <rect x=\"0\" y=\"0\" width=\"600\" height=\"400\"/>\n",
       "  </clipPath>\n",
       "</defs>\n",
       "<polygon clip-path=\"url(#clip00)\" points=\"\n",
       "0,400 600,400 600,0 0,0 \n",
       "  \" fill=\"#ffffff\" fill-opacity=\"1\"/>\n",
       "<defs>\n",
       "  <clipPath id=\"clip01\">\n",
       "    <rect x=\"120\" y=\"0\" width=\"421\" height=\"400\"/>\n",
       "  </clipPath>\n",
       "</defs>\n",
       "<polygon clip-path=\"url(#clip00)\" points=\"\n",
       "12.8259,384.952 596.063,384.952 596.063,3.93701 12.8259,3.93701 \n",
       "  \" fill=\"#ffffff\" fill-opacity=\"1\"/>\n",
       "<defs>\n",
       "  <clipPath id=\"clip02\">\n",
       "    <rect x=\"12\" y=\"3\" width=\"584\" height=\"382\"/>\n",
       "  </clipPath>\n",
       "</defs>\n",
       "<polyline clip-path=\"url(#clip02)\" style=\"stroke:#00002d; stroke-width:0.8; stroke-opacity:0.5; fill:none\" stroke-dasharray=\"1, 2\" points=\"\n",
       "  12.8259,379.237 12.8259,9.65223 \n",
       "  \"/>\n",
       "<polyline clip-path=\"url(#clip02)\" style=\"stroke:#00002d; stroke-width:0.8; stroke-opacity:0.5; fill:none\" stroke-dasharray=\"1, 2\" points=\"\n",
       "  158.635,379.237 158.635,9.65223 \n",
       "  \"/>\n",
       "<polyline clip-path=\"url(#clip02)\" style=\"stroke:#00002d; stroke-width:0.8; stroke-opacity:0.5; fill:none\" stroke-dasharray=\"1, 2\" points=\"\n",
       "  304.444,379.237 304.444,9.65223 \n",
       "  \"/>\n",
       "<polyline clip-path=\"url(#clip02)\" style=\"stroke:#00002d; stroke-width:0.8; stroke-opacity:0.5; fill:none\" stroke-dasharray=\"1, 2\" points=\"\n",
       "  450.254,379.237 450.254,9.65223 \n",
       "  \"/>\n",
       "<polyline clip-path=\"url(#clip02)\" style=\"stroke:#00002d; stroke-width:0.8; stroke-opacity:0.5; fill:none\" stroke-dasharray=\"1, 2\" points=\"\n",
       "  596.063,379.237 596.063,9.65223 \n",
       "  \"/>\n",
       "<polyline clip-path=\"url(#clip02)\" style=\"stroke:#00002d; stroke-width:0.8; stroke-opacity:0.5; fill:none\" stroke-dasharray=\"1, 2\" points=\"\n",
       "  21.5745,282.481 587.314,282.481 \n",
       "  \"/>\n",
       "<polyline clip-path=\"url(#clip02)\" style=\"stroke:#00002d; stroke-width:0.8; stroke-opacity:0.5; fill:none\" stroke-dasharray=\"1, 2\" points=\"\n",
       "  21.5745,120.375 587.314,120.375 \n",
       "  \"/>\n",
       "<polyline clip-path=\"url(#clip02)\" style=\"stroke:#00002d; stroke-width:0.8; stroke-opacity:1; fill:none\" points=\"\n",
       "  12.8259,384.952 596.063,384.952 \n",
       "  \"/>\n",
       "<polyline clip-path=\"url(#clip02)\" style=\"stroke:#00002d; stroke-width:0.8; stroke-opacity:1; fill:none\" points=\"\n",
       "  12.8259,384.952 12.8259,379.237 \n",
       "  \"/>\n",
       "<polyline clip-path=\"url(#clip02)\" style=\"stroke:#00002d; stroke-width:0.8; stroke-opacity:1; fill:none\" points=\"\n",
       "  158.635,384.952 158.635,379.237 \n",
       "  \"/>\n",
       "<polyline clip-path=\"url(#clip02)\" style=\"stroke:#00002d; stroke-width:0.8; stroke-opacity:1; fill:none\" points=\"\n",
       "  304.444,384.952 304.444,379.237 \n",
       "  \"/>\n",
       "<polyline clip-path=\"url(#clip02)\" style=\"stroke:#00002d; stroke-width:0.8; stroke-opacity:1; fill:none\" points=\"\n",
       "  450.254,384.952 450.254,379.237 \n",
       "  \"/>\n",
       "<polyline clip-path=\"url(#clip02)\" style=\"stroke:#00002d; stroke-width:0.8; stroke-opacity:1; fill:none\" points=\"\n",
       "  596.063,384.952 596.063,379.237 \n",
       "  \"/>\n",
       "<polyline clip-path=\"url(#clip02)\" style=\"stroke:#00002d; stroke-width:0.8; stroke-opacity:1; fill:none\" points=\"\n",
       "  12.8259,384.952 12.8259,3.93701 \n",
       "  \"/>\n",
       "<polyline clip-path=\"url(#clip02)\" style=\"stroke:#00002d; stroke-width:0.8; stroke-opacity:1; fill:none\" points=\"\n",
       "  12.8259,282.481 21.5745,282.481 \n",
       "  \"/>\n",
       "<polyline clip-path=\"url(#clip02)\" style=\"stroke:#00002d; stroke-width:0.8; stroke-opacity:1; fill:none\" points=\"\n",
       "  12.8259,120.375 21.5745,120.375 \n",
       "  \"/>\n",
       "<g clip-path=\"url(#clip00)\">\n",
       "<text style=\"fill:#00002d; fill-opacity:1; font-family:Arial,Helvetica Neue,Helvetica,sans-serif; font-size:12; text-anchor:middle;\" transform=\"rotate(0, 12.8259, 396.952)\" x=\"12.8259\" y=\"396.952\">-1.0</text>\n",
       "</g>\n",
       "<g clip-path=\"url(#clip00)\">\n",
       "<text style=\"fill:#00002d; fill-opacity:1; font-family:Arial,Helvetica Neue,Helvetica,sans-serif; font-size:12; text-anchor:middle;\" transform=\"rotate(0, 158.635, 396.952)\" x=\"158.635\" y=\"396.952\">-0.5</text>\n",
       "</g>\n",
       "<g clip-path=\"url(#clip00)\">\n",
       "<text style=\"fill:#00002d; fill-opacity:1; font-family:Arial,Helvetica Neue,Helvetica,sans-serif; font-size:12; text-anchor:middle;\" transform=\"rotate(0, 304.444, 396.952)\" x=\"304.444\" y=\"396.952\">0.0</text>\n",
       "</g>\n",
       "<g clip-path=\"url(#clip00)\">\n",
       "<text style=\"fill:#00002d; fill-opacity:1; font-family:Arial,Helvetica Neue,Helvetica,sans-serif; font-size:12; text-anchor:middle;\" transform=\"rotate(0, 450.254, 396.952)\" x=\"450.254\" y=\"396.952\">0.5</text>\n",
       "</g>\n",
       "<g clip-path=\"url(#clip00)\">\n",
       "<text style=\"fill:#00002d; fill-opacity:1; font-family:Arial,Helvetica Neue,Helvetica,sans-serif; font-size:12; text-anchor:middle;\" transform=\"rotate(0, 596.063, 396.952)\" x=\"596.063\" y=\"396.952\">1.0</text>\n",
       "</g>\n",
       "<g clip-path=\"url(#clip00)\">\n",
       "<text style=\"fill:#00002d; fill-opacity:1; font-family:Arial,Helvetica Neue,Helvetica,sans-serif; font-size:12; text-anchor:end;\" transform=\"rotate(0, 11.6259, 286.981)\" x=\"11.6259\" y=\"286.981\">1</text>\n",
       "</g>\n",
       "<g clip-path=\"url(#clip00)\">\n",
       "<text style=\"fill:#00002d; fill-opacity:1; font-family:Arial,Helvetica Neue,Helvetica,sans-serif; font-size:12; text-anchor:end;\" transform=\"rotate(0, 11.6259, 124.875)\" x=\"11.6259\" y=\"124.875\">2</text>\n",
       "</g>\n",
       "<polyline clip-path=\"url(#clip02)\" style=\"stroke:#0099ff; stroke-width:0.8; stroke-opacity:1; fill:none\" points=\"\n",
       "  12.8259,384.952 18.7172,383.735 24.6085,382.493 30.4997,381.226 36.391,379.933 42.2823,378.613 48.1736,377.267 54.0649,375.893 59.9562,374.491 65.8475,373.061 \n",
       "  71.7387,371.601 77.63,370.112 83.5213,368.592 89.4126,367.041 95.3039,365.458 101.195,363.844 107.086,362.196 112.978,360.514 118.869,358.799 124.76,357.048 \n",
       "  130.652,355.261 136.543,353.439 142.434,351.578 148.325,349.68 154.217,347.744 160.108,345.767 165.999,343.751 171.891,341.693 177.782,339.593 183.673,337.45 \n",
       "  189.564,335.264 195.456,333.033 201.347,330.756 207.238,328.433 213.13,326.063 219.021,323.644 224.912,321.176 230.803,318.657 236.695,316.087 242.586,313.465 \n",
       "  248.477,310.789 254.369,308.059 260.26,305.273 266.151,302.429 272.042,299.528 277.934,296.568 283.825,293.547 289.716,290.465 295.608,287.32 301.499,284.11 \n",
       "  307.39,280.835 313.281,277.494 319.173,274.084 325.064,270.604 330.955,267.054 336.847,263.431 342.738,259.734 348.629,255.961 354.52,252.112 360.412,248.184 \n",
       "  366.303,244.176 372.194,240.086 378.085,235.913 383.977,231.654 389.868,227.309 395.759,222.875 401.651,218.35 407.542,213.733 413.433,209.022 419.324,204.215 \n",
       "  425.216,199.309 431.107,194.304 436.998,189.196 442.89,183.984 448.781,178.666 454.672,173.239 460.563,167.702 466.455,162.051 472.346,156.285 478.237,150.402 \n",
       "  484.129,144.398 490.02,138.272 495.911,132.021 501.802,125.642 507.694,119.133 513.585,112.492 519.476,105.714 525.368,98.7988 531.259,91.7422 537.15,84.5415 \n",
       "  543.041,77.1939 548.933,69.6963 554.824,62.0457 560.715,54.239 566.607,46.273 572.498,38.1444 578.389,29.8499 584.28,21.3862 590.172,12.7497 596.063,3.93701 \n",
       "  \n",
       "  \"/>\n",
       "<polygon clip-path=\"url(#clip00)\" points=\"\n",
       "505.547,55.057 578.063,55.057 578.063,24.817 505.547,24.817 \n",
       "  \" fill=\"#ffffff\" fill-opacity=\"1\"/>\n",
       "<polyline clip-path=\"url(#clip00)\" style=\"stroke:#00002d; stroke-width:0.8; stroke-opacity:1; fill:none\" points=\"\n",
       "  505.547,55.057 578.063,55.057 578.063,24.817 505.547,24.817 505.547,55.057 \n",
       "  \"/>\n",
       "<polyline clip-path=\"url(#clip00)\" style=\"stroke:#0099ff; stroke-width:0.8; stroke-opacity:1; fill:none\" points=\"\n",
       "  511.547,39.937 547.547,39.937 \n",
       "  \"/>\n",
       "<g clip-path=\"url(#clip00)\">\n",
       "<text style=\"fill:#00002d; fill-opacity:1; font-family:Arial,Helvetica Neue,Helvetica,sans-serif; font-size:12; text-anchor:start;\" transform=\"rotate(0, 553.547, 44.437)\" x=\"553.547\" y=\"44.437\">y1</text>\n",
       "</g>\n",
       "</svg>\n"
      ]
     },
     "execution_count": 112,
     "metadata": {},
     "output_type": "execute_result"
    }
   ],
   "source": [
    "plot(x->exp(x), -1, 1)"
   ]
  },
  {
   "cell_type": "code",
   "execution_count": 113,
   "metadata": {
    "collapsed": false
   },
   "outputs": [
    {
     "data": {
      "text/html": [
       "<?xml version=\"1.0\" encoding=\"utf-8\"?>\n",
       "<svg xmlns=\"http://www.w3.org/2000/svg\" xmlns:xlink=\"http://www.w3.org/1999/xlink\" width=\"600\" height=\"400\" viewBox=\"0 0 600 400\">\n",
       "<defs>\n",
       "  <clipPath id=\"clip00\">\n",
       "    <rect x=\"0\" y=\"0\" width=\"600\" height=\"400\"/>\n",
       "  </clipPath>\n",
       "</defs>\n",
       "<polygon clip-path=\"url(#clip00)\" points=\"\n",
       "0,400 600,400 600,0 0,0 \n",
       "  \" fill=\"#ffffff\" fill-opacity=\"1\"/>\n",
       "<defs>\n",
       "  <clipPath id=\"clip01\">\n",
       "    <rect x=\"120\" y=\"0\" width=\"421\" height=\"400\"/>\n",
       "  </clipPath>\n",
       "</defs>\n",
       "<polygon clip-path=\"url(#clip00)\" points=\"\n",
       "12.8259,384.952 596.063,384.952 596.063,3.93701 12.8259,3.93701 \n",
       "  \" fill=\"#ffffff\" fill-opacity=\"1\"/>\n",
       "<defs>\n",
       "  <clipPath id=\"clip02\">\n",
       "    <rect x=\"12\" y=\"3\" width=\"584\" height=\"382\"/>\n",
       "  </clipPath>\n",
       "</defs>\n",
       "<polyline clip-path=\"url(#clip02)\" style=\"stroke:#00002d; stroke-width:0.8; stroke-opacity:0.5; fill:none\" stroke-dasharray=\"1, 2\" points=\"\n",
       "  12.8259,379.237 12.8259,9.65223 \n",
       "  \"/>\n",
       "<polyline clip-path=\"url(#clip02)\" style=\"stroke:#00002d; stroke-width:0.8; stroke-opacity:0.5; fill:none\" stroke-dasharray=\"1, 2\" points=\"\n",
       "  158.635,379.237 158.635,9.65223 \n",
       "  \"/>\n",
       "<polyline clip-path=\"url(#clip02)\" style=\"stroke:#00002d; stroke-width:0.8; stroke-opacity:0.5; fill:none\" stroke-dasharray=\"1, 2\" points=\"\n",
       "  304.444,379.237 304.444,9.65223 \n",
       "  \"/>\n",
       "<polyline clip-path=\"url(#clip02)\" style=\"stroke:#00002d; stroke-width:0.8; stroke-opacity:0.5; fill:none\" stroke-dasharray=\"1, 2\" points=\"\n",
       "  450.254,379.237 450.254,9.65223 \n",
       "  \"/>\n",
       "<polyline clip-path=\"url(#clip02)\" style=\"stroke:#00002d; stroke-width:0.8; stroke-opacity:0.5; fill:none\" stroke-dasharray=\"1, 2\" points=\"\n",
       "  596.063,379.237 596.063,9.65223 \n",
       "  \"/>\n",
       "<polyline clip-path=\"url(#clip02)\" style=\"stroke:#00002d; stroke-width:0.8; stroke-opacity:0.5; fill:none\" stroke-dasharray=\"1, 2\" points=\"\n",
       "  21.5745,282.481 587.314,282.481 \n",
       "  \"/>\n",
       "<polyline clip-path=\"url(#clip02)\" style=\"stroke:#00002d; stroke-width:0.8; stroke-opacity:0.5; fill:none\" stroke-dasharray=\"1, 2\" points=\"\n",
       "  21.5745,120.375 587.314,120.375 \n",
       "  \"/>\n",
       "<polyline clip-path=\"url(#clip02)\" style=\"stroke:#00002d; stroke-width:0.8; stroke-opacity:1; fill:none\" points=\"\n",
       "  12.8259,384.952 596.063,384.952 \n",
       "  \"/>\n",
       "<polyline clip-path=\"url(#clip02)\" style=\"stroke:#00002d; stroke-width:0.8; stroke-opacity:1; fill:none\" points=\"\n",
       "  12.8259,384.952 12.8259,379.237 \n",
       "  \"/>\n",
       "<polyline clip-path=\"url(#clip02)\" style=\"stroke:#00002d; stroke-width:0.8; stroke-opacity:1; fill:none\" points=\"\n",
       "  158.635,384.952 158.635,379.237 \n",
       "  \"/>\n",
       "<polyline clip-path=\"url(#clip02)\" style=\"stroke:#00002d; stroke-width:0.8; stroke-opacity:1; fill:none\" points=\"\n",
       "  304.444,384.952 304.444,379.237 \n",
       "  \"/>\n",
       "<polyline clip-path=\"url(#clip02)\" style=\"stroke:#00002d; stroke-width:0.8; stroke-opacity:1; fill:none\" points=\"\n",
       "  450.254,384.952 450.254,379.237 \n",
       "  \"/>\n",
       "<polyline clip-path=\"url(#clip02)\" style=\"stroke:#00002d; stroke-width:0.8; stroke-opacity:1; fill:none\" points=\"\n",
       "  596.063,384.952 596.063,379.237 \n",
       "  \"/>\n",
       "<polyline clip-path=\"url(#clip02)\" style=\"stroke:#00002d; stroke-width:0.8; stroke-opacity:1; fill:none\" points=\"\n",
       "  12.8259,384.952 12.8259,3.93701 \n",
       "  \"/>\n",
       "<polyline clip-path=\"url(#clip02)\" style=\"stroke:#00002d; stroke-width:0.8; stroke-opacity:1; fill:none\" points=\"\n",
       "  12.8259,282.481 21.5745,282.481 \n",
       "  \"/>\n",
       "<polyline clip-path=\"url(#clip02)\" style=\"stroke:#00002d; stroke-width:0.8; stroke-opacity:1; fill:none\" points=\"\n",
       "  12.8259,120.375 21.5745,120.375 \n",
       "  \"/>\n",
       "<g clip-path=\"url(#clip00)\">\n",
       "<text style=\"fill:#00002d; fill-opacity:1; font-family:Arial,Helvetica Neue,Helvetica,sans-serif; font-size:12; text-anchor:middle;\" transform=\"rotate(0, 12.8259, 396.952)\" x=\"12.8259\" y=\"396.952\">-1.0</text>\n",
       "</g>\n",
       "<g clip-path=\"url(#clip00)\">\n",
       "<text style=\"fill:#00002d; fill-opacity:1; font-family:Arial,Helvetica Neue,Helvetica,sans-serif; font-size:12; text-anchor:middle;\" transform=\"rotate(0, 158.635, 396.952)\" x=\"158.635\" y=\"396.952\">-0.5</text>\n",
       "</g>\n",
       "<g clip-path=\"url(#clip00)\">\n",
       "<text style=\"fill:#00002d; fill-opacity:1; font-family:Arial,Helvetica Neue,Helvetica,sans-serif; font-size:12; text-anchor:middle;\" transform=\"rotate(0, 304.444, 396.952)\" x=\"304.444\" y=\"396.952\">0.0</text>\n",
       "</g>\n",
       "<g clip-path=\"url(#clip00)\">\n",
       "<text style=\"fill:#00002d; fill-opacity:1; font-family:Arial,Helvetica Neue,Helvetica,sans-serif; font-size:12; text-anchor:middle;\" transform=\"rotate(0, 450.254, 396.952)\" x=\"450.254\" y=\"396.952\">0.5</text>\n",
       "</g>\n",
       "<g clip-path=\"url(#clip00)\">\n",
       "<text style=\"fill:#00002d; fill-opacity:1; font-family:Arial,Helvetica Neue,Helvetica,sans-serif; font-size:12; text-anchor:middle;\" transform=\"rotate(0, 596.063, 396.952)\" x=\"596.063\" y=\"396.952\">1.0</text>\n",
       "</g>\n",
       "<g clip-path=\"url(#clip00)\">\n",
       "<text style=\"fill:#00002d; fill-opacity:1; font-family:Arial,Helvetica Neue,Helvetica,sans-serif; font-size:12; text-anchor:end;\" transform=\"rotate(0, 11.6259, 286.981)\" x=\"11.6259\" y=\"286.981\">1</text>\n",
       "</g>\n",
       "<g clip-path=\"url(#clip00)\">\n",
       "<text style=\"fill:#00002d; fill-opacity:1; font-family:Arial,Helvetica Neue,Helvetica,sans-serif; font-size:12; text-anchor:end;\" transform=\"rotate(0, 11.6259, 124.875)\" x=\"11.6259\" y=\"124.875\">2</text>\n",
       "</g>\n",
       "<polyline clip-path=\"url(#clip02)\" style=\"stroke:#0099ff; stroke-width:0.8; stroke-opacity:1; fill:none\" points=\"\n",
       "  12.8259,384.952 18.7172,383.735 24.6085,382.493 30.4997,381.226 36.391,379.933 42.2823,378.613 48.1736,377.267 54.0649,375.893 59.9562,374.491 65.8475,373.061 \n",
       "  71.7387,371.601 77.63,370.112 83.5213,368.592 89.4126,367.041 95.3039,365.458 101.195,363.844 107.086,362.196 112.978,360.514 118.869,358.799 124.76,357.048 \n",
       "  130.652,355.261 136.543,353.439 142.434,351.578 148.325,349.68 154.217,347.744 160.108,345.767 165.999,343.751 171.891,341.693 177.782,339.593 183.673,337.45 \n",
       "  189.564,335.264 195.456,333.033 201.347,330.756 207.238,328.433 213.13,326.063 219.021,323.644 224.912,321.176 230.803,318.657 236.695,316.087 242.586,313.465 \n",
       "  248.477,310.789 254.369,308.059 260.26,305.273 266.151,302.429 272.042,299.528 277.934,296.568 283.825,293.547 289.716,290.465 295.608,287.32 301.499,284.11 \n",
       "  307.39,280.835 313.281,277.494 319.173,274.084 325.064,270.604 330.955,267.054 336.847,263.431 342.738,259.734 348.629,255.961 354.52,252.112 360.412,248.184 \n",
       "  366.303,244.176 372.194,240.086 378.085,235.913 383.977,231.654 389.868,227.309 395.759,222.875 401.651,218.35 407.542,213.733 413.433,209.022 419.324,204.215 \n",
       "  425.216,199.309 431.107,194.304 436.998,189.196 442.89,183.984 448.781,178.666 454.672,173.239 460.563,167.702 466.455,162.051 472.346,156.285 478.237,150.402 \n",
       "  484.129,144.398 490.02,138.272 495.911,132.021 501.802,125.642 507.694,119.133 513.585,112.492 519.476,105.714 525.368,98.7988 531.259,91.7422 537.15,84.5415 \n",
       "  543.041,77.1939 548.933,69.6963 554.824,62.0457 560.715,54.239 566.607,46.273 572.498,38.1444 578.389,29.8499 584.28,21.3862 590.172,12.7497 596.063,3.93701 \n",
       "  \n",
       "  \"/>\n",
       "<polyline clip-path=\"url(#clip02)\" style=\"stroke:#e9746a; stroke-width:0.8; stroke-opacity:1; fill:none\" points=\"\n",
       "  12.8259,3.93701 18.7172,12.7497 24.6085,21.3862 30.4997,29.8499 36.391,38.1444 42.2823,46.273 48.1736,54.239 54.0649,62.0457 59.9562,69.6963 65.8475,77.1939 \n",
       "  71.7387,84.5415 77.63,91.7422 83.5213,98.7988 89.4126,105.714 95.3039,112.492 101.195,119.133 107.086,125.642 112.978,132.021 118.869,138.272 124.76,144.398 \n",
       "  130.652,150.402 136.543,156.285 142.434,162.051 148.325,167.702 154.217,173.239 160.108,178.666 165.999,183.984 171.891,189.196 177.782,194.304 183.673,199.309 \n",
       "  189.564,204.215 195.456,209.022 201.347,213.733 207.238,218.35 213.13,222.875 219.021,227.309 224.912,231.654 230.803,235.913 236.695,240.086 242.586,244.176 \n",
       "  248.477,248.184 254.369,252.112 260.26,255.961 266.151,259.734 272.042,263.431 277.934,267.054 283.825,270.604 289.716,274.084 295.608,277.494 301.499,280.835 \n",
       "  307.39,284.11 313.281,287.32 319.173,290.465 325.064,293.547 330.955,296.568 336.847,299.528 342.738,302.429 348.629,305.273 354.52,308.059 360.412,310.789 \n",
       "  366.303,313.465 372.194,316.087 378.085,318.657 383.977,321.176 389.868,323.644 395.759,326.063 401.651,328.433 407.542,330.756 413.433,333.033 419.324,335.264 \n",
       "  425.216,337.45 431.107,339.593 436.998,341.693 442.89,343.751 448.781,345.767 454.672,347.744 460.563,349.68 466.455,351.578 472.346,353.439 478.237,355.261 \n",
       "  484.129,357.048 490.02,358.799 495.911,360.514 501.802,362.196 507.694,363.844 513.585,365.458 519.476,367.041 525.368,368.592 531.259,370.112 537.15,371.601 \n",
       "  543.041,373.061 548.933,374.491 554.824,375.893 560.715,377.267 566.607,378.613 572.498,379.933 578.389,381.226 584.28,382.493 590.172,383.735 596.063,384.952 \n",
       "  \n",
       "  \"/>\n",
       "<polygon clip-path=\"url(#clip00)\" points=\"\n",
       "505.547,70.177 578.063,70.177 578.063,24.817 505.547,24.817 \n",
       "  \" fill=\"#ffffff\" fill-opacity=\"1\"/>\n",
       "<polyline clip-path=\"url(#clip00)\" style=\"stroke:#00002d; stroke-width:0.8; stroke-opacity:1; fill:none\" points=\"\n",
       "  505.547,70.177 578.063,70.177 578.063,24.817 505.547,24.817 505.547,70.177 \n",
       "  \"/>\n",
       "<polyline clip-path=\"url(#clip00)\" style=\"stroke:#0099ff; stroke-width:0.8; stroke-opacity:1; fill:none\" points=\"\n",
       "  511.547,39.937 547.547,39.937 \n",
       "  \"/>\n",
       "<g clip-path=\"url(#clip00)\">\n",
       "<text style=\"fill:#00002d; fill-opacity:1; font-family:Arial,Helvetica Neue,Helvetica,sans-serif; font-size:12; text-anchor:start;\" transform=\"rotate(0, 553.547, 44.437)\" x=\"553.547\" y=\"44.437\">y1</text>\n",
       "</g>\n",
       "<polyline clip-path=\"url(#clip00)\" style=\"stroke:#e9746a; stroke-width:0.8; stroke-opacity:1; fill:none\" points=\"\n",
       "  511.547,55.057 547.547,55.057 \n",
       "  \"/>\n",
       "<g clip-path=\"url(#clip00)\">\n",
       "<text style=\"fill:#00002d; fill-opacity:1; font-family:Arial,Helvetica Neue,Helvetica,sans-serif; font-size:12; text-anchor:start;\" transform=\"rotate(0, 553.547, 59.557)\" x=\"553.547\" y=\"59.557\">y2</text>\n",
       "</g>\n",
       "</svg>\n"
      ]
     },
     "execution_count": 113,
     "metadata": {},
     "output_type": "execute_result"
    }
   ],
   "source": [
    "plot!(x->exp(-x), -1, 1)"
   ]
  },
  {
   "cell_type": "code",
   "execution_count": 114,
   "metadata": {
    "collapsed": false
   },
   "outputs": [
    {
     "data": {
      "text/html": [
       "<?xml version=\"1.0\" encoding=\"utf-8\"?>\n",
       "<svg xmlns=\"http://www.w3.org/2000/svg\" xmlns:xlink=\"http://www.w3.org/1999/xlink\" width=\"600\" height=\"400\" viewBox=\"0 0 600 400\">\n",
       "<defs>\n",
       "  <clipPath id=\"clip00\">\n",
       "    <rect x=\"0\" y=\"0\" width=\"600\" height=\"400\"/>\n",
       "  </clipPath>\n",
       "</defs>\n",
       "<polygon clip-path=\"url(#clip00)\" points=\"\n",
       "0,400 600,400 600,0 0,0 \n",
       "  \" fill=\"#ffffff\" fill-opacity=\"1\"/>\n",
       "<defs>\n",
       "  <clipPath id=\"clip01\">\n",
       "    <rect x=\"120\" y=\"0\" width=\"421\" height=\"400\"/>\n",
       "  </clipPath>\n",
       "</defs>\n",
       "<polygon clip-path=\"url(#clip00)\" points=\"\n",
       "12.8259,384.952 596.063,384.952 596.063,3.93701 12.8259,3.93701 \n",
       "  \" fill=\"#ffffff\" fill-opacity=\"1\"/>\n",
       "<defs>\n",
       "  <clipPath id=\"clip02\">\n",
       "    <rect x=\"12\" y=\"3\" width=\"584\" height=\"382\"/>\n",
       "  </clipPath>\n",
       "</defs>\n",
       "<polyline clip-path=\"url(#clip02)\" style=\"stroke:#00002d; stroke-width:0.8; stroke-opacity:0.5; fill:none\" stroke-dasharray=\"1, 2\" points=\"\n",
       "  12.8259,379.237 12.8259,9.65223 \n",
       "  \"/>\n",
       "<polyline clip-path=\"url(#clip02)\" style=\"stroke:#00002d; stroke-width:0.8; stroke-opacity:0.5; fill:none\" stroke-dasharray=\"1, 2\" points=\"\n",
       "  158.635,379.237 158.635,9.65223 \n",
       "  \"/>\n",
       "<polyline clip-path=\"url(#clip02)\" style=\"stroke:#00002d; stroke-width:0.8; stroke-opacity:0.5; fill:none\" stroke-dasharray=\"1, 2\" points=\"\n",
       "  304.444,379.237 304.444,9.65223 \n",
       "  \"/>\n",
       "<polyline clip-path=\"url(#clip02)\" style=\"stroke:#00002d; stroke-width:0.8; stroke-opacity:0.5; fill:none\" stroke-dasharray=\"1, 2\" points=\"\n",
       "  450.254,379.237 450.254,9.65223 \n",
       "  \"/>\n",
       "<polyline clip-path=\"url(#clip02)\" style=\"stroke:#00002d; stroke-width:0.8; stroke-opacity:0.5; fill:none\" stroke-dasharray=\"1, 2\" points=\"\n",
       "  596.063,379.237 596.063,9.65223 \n",
       "  \"/>\n",
       "<polyline clip-path=\"url(#clip02)\" style=\"stroke:#00002d; stroke-width:0.8; stroke-opacity:0.5; fill:none\" stroke-dasharray=\"1, 2\" points=\"\n",
       "  21.5745,282.481 587.314,282.481 \n",
       "  \"/>\n",
       "<polyline clip-path=\"url(#clip02)\" style=\"stroke:#00002d; stroke-width:0.8; stroke-opacity:0.5; fill:none\" stroke-dasharray=\"1, 2\" points=\"\n",
       "  21.5745,120.375 587.314,120.375 \n",
       "  \"/>\n",
       "<polyline clip-path=\"url(#clip02)\" style=\"stroke:#00002d; stroke-width:0.8; stroke-opacity:1; fill:none\" points=\"\n",
       "  12.8259,384.952 596.063,384.952 \n",
       "  \"/>\n",
       "<polyline clip-path=\"url(#clip02)\" style=\"stroke:#00002d; stroke-width:0.8; stroke-opacity:1; fill:none\" points=\"\n",
       "  12.8259,384.952 12.8259,379.237 \n",
       "  \"/>\n",
       "<polyline clip-path=\"url(#clip02)\" style=\"stroke:#00002d; stroke-width:0.8; stroke-opacity:1; fill:none\" points=\"\n",
       "  158.635,384.952 158.635,379.237 \n",
       "  \"/>\n",
       "<polyline clip-path=\"url(#clip02)\" style=\"stroke:#00002d; stroke-width:0.8; stroke-opacity:1; fill:none\" points=\"\n",
       "  304.444,384.952 304.444,379.237 \n",
       "  \"/>\n",
       "<polyline clip-path=\"url(#clip02)\" style=\"stroke:#00002d; stroke-width:0.8; stroke-opacity:1; fill:none\" points=\"\n",
       "  450.254,384.952 450.254,379.237 \n",
       "  \"/>\n",
       "<polyline clip-path=\"url(#clip02)\" style=\"stroke:#00002d; stroke-width:0.8; stroke-opacity:1; fill:none\" points=\"\n",
       "  596.063,384.952 596.063,379.237 \n",
       "  \"/>\n",
       "<polyline clip-path=\"url(#clip02)\" style=\"stroke:#00002d; stroke-width:0.8; stroke-opacity:1; fill:none\" points=\"\n",
       "  12.8259,384.952 12.8259,3.93701 \n",
       "  \"/>\n",
       "<polyline clip-path=\"url(#clip02)\" style=\"stroke:#00002d; stroke-width:0.8; stroke-opacity:1; fill:none\" points=\"\n",
       "  12.8259,282.481 21.5745,282.481 \n",
       "  \"/>\n",
       "<polyline clip-path=\"url(#clip02)\" style=\"stroke:#00002d; stroke-width:0.8; stroke-opacity:1; fill:none\" points=\"\n",
       "  12.8259,120.375 21.5745,120.375 \n",
       "  \"/>\n",
       "<g clip-path=\"url(#clip00)\">\n",
       "<text style=\"fill:#00002d; fill-opacity:1; font-family:Arial,Helvetica Neue,Helvetica,sans-serif; font-size:12; text-anchor:middle;\" transform=\"rotate(0, 12.8259, 396.952)\" x=\"12.8259\" y=\"396.952\">-0.50</text>\n",
       "</g>\n",
       "<g clip-path=\"url(#clip00)\">\n",
       "<text style=\"fill:#00002d; fill-opacity:1; font-family:Arial,Helvetica Neue,Helvetica,sans-serif; font-size:12; text-anchor:middle;\" transform=\"rotate(0, 158.635, 396.952)\" x=\"158.635\" y=\"396.952\">-0.25</text>\n",
       "</g>\n",
       "<g clip-path=\"url(#clip00)\">\n",
       "<text style=\"fill:#00002d; fill-opacity:1; font-family:Arial,Helvetica Neue,Helvetica,sans-serif; font-size:12; text-anchor:middle;\" transform=\"rotate(0, 304.444, 396.952)\" x=\"304.444\" y=\"396.952\">0.00</text>\n",
       "</g>\n",
       "<g clip-path=\"url(#clip00)\">\n",
       "<text style=\"fill:#00002d; fill-opacity:1; font-family:Arial,Helvetica Neue,Helvetica,sans-serif; font-size:12; text-anchor:middle;\" transform=\"rotate(0, 450.254, 396.952)\" x=\"450.254\" y=\"396.952\">0.25</text>\n",
       "</g>\n",
       "<g clip-path=\"url(#clip00)\">\n",
       "<text style=\"fill:#00002d; fill-opacity:1; font-family:Arial,Helvetica Neue,Helvetica,sans-serif; font-size:12; text-anchor:middle;\" transform=\"rotate(0, 596.063, 396.952)\" x=\"596.063\" y=\"396.952\">0.50</text>\n",
       "</g>\n",
       "<g clip-path=\"url(#clip00)\">\n",
       "<text style=\"fill:#00002d; fill-opacity:1; font-family:Arial,Helvetica Neue,Helvetica,sans-serif; font-size:12; text-anchor:end;\" transform=\"rotate(0, 11.6259, 286.981)\" x=\"11.6259\" y=\"286.981\">1</text>\n",
       "</g>\n",
       "<g clip-path=\"url(#clip00)\">\n",
       "<text style=\"fill:#00002d; fill-opacity:1; font-family:Arial,Helvetica Neue,Helvetica,sans-serif; font-size:12; text-anchor:end;\" transform=\"rotate(0, 11.6259, 124.875)\" x=\"11.6259\" y=\"124.875\">2</text>\n",
       "</g>\n",
       "<polyline clip-path=\"url(#clip02)\" style=\"stroke:#0099ff; stroke-width:0.8; stroke-opacity:1; fill:none\" points=\"\n",
       "  -278.793,384.952 -267.01,383.735 -255.228,382.493 -243.445,381.226 -231.662,379.933 -219.88,378.613 -208.097,377.267 -196.315,375.893 -184.532,374.491 -172.75,373.061 \n",
       "  -160.967,371.601 -149.184,370.112 -137.402,368.592 -125.619,367.041 -113.837,365.458 -102.054,363.844 -90.2716,362.196 -78.489,360.514 -66.7064,358.799 -54.9239,357.048 \n",
       "  -43.1413,355.261 -31.3587,353.439 -19.5762,351.578 -7.7936,349.68 3.98897,347.744 15.7715,345.767 27.5541,343.751 39.3367,341.693 51.1192,339.593 62.9018,337.45 \n",
       "  74.6844,335.264 86.4669,333.033 98.2495,330.756 110.032,328.433 121.815,326.063 133.597,323.644 145.38,321.176 157.162,318.657 168.945,316.087 180.727,313.465 \n",
       "  192.51,310.789 204.293,308.059 216.075,305.273 227.858,302.429 239.64,299.528 251.423,296.568 263.205,293.547 274.988,290.465 286.771,287.32 298.553,284.11 \n",
       "  310.336,280.835 322.118,277.494 333.901,274.084 345.683,270.604 357.466,267.054 369.249,263.431 381.031,259.734 392.814,255.961 404.596,252.112 416.379,248.184 \n",
       "  428.161,244.176 439.944,240.086 451.727,235.913 463.509,231.654 475.292,227.309 487.074,222.875 498.857,218.35 510.639,213.733 522.422,209.022 534.205,204.215 \n",
       "  545.987,199.309 557.77,194.304 569.552,189.196 581.335,183.984 593.117,178.666 604.9,173.239 616.682,167.702 628.465,162.051 640.248,156.285 652.03,150.402 \n",
       "  663.813,144.398 675.595,138.272 687.378,132.021 699.16,125.642 710.943,119.133 722.726,112.492 734.508,105.714 746.291,98.7988 758.073,91.7422 769.856,84.5415 \n",
       "  781.638,77.1939 793.421,69.6963 805.204,62.0457 816.986,54.239 828.769,46.273 840.551,38.1444 852.334,29.8499 864.116,21.3862 875.899,12.7497 887.682,3.93701 \n",
       "  \n",
       "  \"/>\n",
       "<polyline clip-path=\"url(#clip02)\" style=\"stroke:#e9746a; stroke-width:0.8; stroke-opacity:1; fill:none\" points=\"\n",
       "  -278.793,3.93701 -267.01,12.7497 -255.228,21.3862 -243.445,29.8499 -231.662,38.1444 -219.88,46.273 -208.097,54.239 -196.315,62.0457 -184.532,69.6963 -172.75,77.1939 \n",
       "  -160.967,84.5415 -149.184,91.7422 -137.402,98.7988 -125.619,105.714 -113.837,112.492 -102.054,119.133 -90.2716,125.642 -78.489,132.021 -66.7064,138.272 -54.9239,144.398 \n",
       "  -43.1413,150.402 -31.3587,156.285 -19.5762,162.051 -7.7936,167.702 3.98897,173.239 15.7715,178.666 27.5541,183.984 39.3367,189.196 51.1192,194.304 62.9018,199.309 \n",
       "  74.6844,204.215 86.4669,209.022 98.2495,213.733 110.032,218.35 121.815,222.875 133.597,227.309 145.38,231.654 157.162,235.913 168.945,240.086 180.727,244.176 \n",
       "  192.51,248.184 204.293,252.112 216.075,255.961 227.858,259.734 239.64,263.431 251.423,267.054 263.205,270.604 274.988,274.084 286.771,277.494 298.553,280.835 \n",
       "  310.336,284.11 322.118,287.32 333.901,290.465 345.683,293.547 357.466,296.568 369.249,299.528 381.031,302.429 392.814,305.273 404.596,308.059 416.379,310.789 \n",
       "  428.161,313.465 439.944,316.087 451.727,318.657 463.509,321.176 475.292,323.644 487.074,326.063 498.857,328.433 510.639,330.756 522.422,333.033 534.205,335.264 \n",
       "  545.987,337.45 557.77,339.593 569.552,341.693 581.335,343.751 593.117,345.767 604.9,347.744 616.682,349.68 628.465,351.578 640.248,353.439 652.03,355.261 \n",
       "  663.813,357.048 675.595,358.799 687.378,360.514 699.16,362.196 710.943,363.844 722.726,365.458 734.508,367.041 746.291,368.592 758.073,370.112 769.856,371.601 \n",
       "  781.638,373.061 793.421,374.491 805.204,375.893 816.986,377.267 828.769,378.613 840.551,379.933 852.334,381.226 864.116,382.493 875.899,383.735 887.682,384.952 \n",
       "  \n",
       "  \"/>\n",
       "<polygon clip-path=\"url(#clip00)\" points=\"\n",
       "505.547,70.177 578.063,70.177 578.063,24.817 505.547,24.817 \n",
       "  \" fill=\"#ffffff\" fill-opacity=\"1\"/>\n",
       "<polyline clip-path=\"url(#clip00)\" style=\"stroke:#00002d; stroke-width:0.8; stroke-opacity:1; fill:none\" points=\"\n",
       "  505.547,70.177 578.063,70.177 578.063,24.817 505.547,24.817 505.547,70.177 \n",
       "  \"/>\n",
       "<polyline clip-path=\"url(#clip00)\" style=\"stroke:#0099ff; stroke-width:0.8; stroke-opacity:1; fill:none\" points=\"\n",
       "  511.547,39.937 547.547,39.937 \n",
       "  \"/>\n",
       "<g clip-path=\"url(#clip00)\">\n",
       "<text style=\"fill:#00002d; fill-opacity:1; font-family:Arial,Helvetica Neue,Helvetica,sans-serif; font-size:12; text-anchor:start;\" transform=\"rotate(0, 553.547, 44.437)\" x=\"553.547\" y=\"44.437\">y1</text>\n",
       "</g>\n",
       "<polyline clip-path=\"url(#clip00)\" style=\"stroke:#e9746a; stroke-width:0.8; stroke-opacity:1; fill:none\" points=\"\n",
       "  511.547,55.057 547.547,55.057 \n",
       "  \"/>\n",
       "<g clip-path=\"url(#clip00)\">\n",
       "<text style=\"fill:#00002d; fill-opacity:1; font-family:Arial,Helvetica Neue,Helvetica,sans-serif; font-size:12; text-anchor:start;\" transform=\"rotate(0, 553.547, 59.557)\" x=\"553.547\" y=\"59.557\">y2</text>\n",
       "</g>\n",
       "</svg>\n"
      ]
     },
     "execution_count": 114,
     "metadata": {},
     "output_type": "execute_result"
    }
   ],
   "source": [
    "xlims!(-0.5, 0.5)"
   ]
  },
  {
   "cell_type": "code",
   "execution_count": 115,
   "metadata": {
    "collapsed": false
   },
   "outputs": [
    {
     "data": {
      "text/html": [
       "<?xml version=\"1.0\" encoding=\"utf-8\"?>\n",
       "<svg xmlns=\"http://www.w3.org/2000/svg\" xmlns:xlink=\"http://www.w3.org/1999/xlink\" width=\"600\" height=\"400\" viewBox=\"0 0 600 400\">\n",
       "<defs>\n",
       "  <clipPath id=\"clip00\">\n",
       "    <rect x=\"0\" y=\"0\" width=\"600\" height=\"400\"/>\n",
       "  </clipPath>\n",
       "</defs>\n",
       "<polygon clip-path=\"url(#clip00)\" points=\"\n",
       "0,400 600,400 600,0 0,0 \n",
       "  \" fill=\"#ffffff\" fill-opacity=\"1\"/>\n",
       "<defs>\n",
       "  <clipPath id=\"clip01\">\n",
       "    <rect x=\"120\" y=\"0\" width=\"421\" height=\"400\"/>\n",
       "  </clipPath>\n",
       "</defs>\n",
       "<polygon clip-path=\"url(#clip00)\" points=\"\n",
       "39.4926,384.952 596.063,384.952 596.063,3.93701 39.4926,3.93701 \n",
       "  \" fill=\"#ffffff\" fill-opacity=\"1\"/>\n",
       "<defs>\n",
       "  <clipPath id=\"clip02\">\n",
       "    <rect x=\"39\" y=\"3\" width=\"557\" height=\"382\"/>\n",
       "  </clipPath>\n",
       "</defs>\n",
       "<polyline clip-path=\"url(#clip02)\" style=\"stroke:#00002d; stroke-width:0.8; stroke-opacity:0.5; fill:none\" stroke-dasharray=\"1, 2\" points=\"\n",
       "  39.4926,379.237 39.4926,9.65223 \n",
       "  \"/>\n",
       "<polyline clip-path=\"url(#clip02)\" style=\"stroke:#00002d; stroke-width:0.8; stroke-opacity:0.5; fill:none\" stroke-dasharray=\"1, 2\" points=\"\n",
       "  178.635,379.237 178.635,9.65223 \n",
       "  \"/>\n",
       "<polyline clip-path=\"url(#clip02)\" style=\"stroke:#00002d; stroke-width:0.8; stroke-opacity:0.5; fill:none\" stroke-dasharray=\"1, 2\" points=\"\n",
       "  317.778,379.237 317.778,9.65223 \n",
       "  \"/>\n",
       "<polyline clip-path=\"url(#clip02)\" style=\"stroke:#00002d; stroke-width:0.8; stroke-opacity:0.5; fill:none\" stroke-dasharray=\"1, 2\" points=\"\n",
       "  456.92,379.237 456.92,9.65223 \n",
       "  \"/>\n",
       "<polyline clip-path=\"url(#clip02)\" style=\"stroke:#00002d; stroke-width:0.8; stroke-opacity:0.5; fill:none\" stroke-dasharray=\"1, 2\" points=\"\n",
       "  596.063,379.237 596.063,9.65223 \n",
       "  \"/>\n",
       "<polyline clip-path=\"url(#clip02)\" style=\"stroke:#00002d; stroke-width:0.8; stroke-opacity:0.5; fill:none\" stroke-dasharray=\"1, 2\" points=\"\n",
       "  47.8411,384.952 587.714,384.952 \n",
       "  \"/>\n",
       "<polyline clip-path=\"url(#clip02)\" style=\"stroke:#00002d; stroke-width:0.8; stroke-opacity:0.5; fill:none\" stroke-dasharray=\"1, 2\" points=\"\n",
       "  47.8411,289.698 587.714,289.698 \n",
       "  \"/>\n",
       "<polyline clip-path=\"url(#clip02)\" style=\"stroke:#00002d; stroke-width:0.8; stroke-opacity:0.5; fill:none\" stroke-dasharray=\"1, 2\" points=\"\n",
       "  47.8411,194.444 587.714,194.444 \n",
       "  \"/>\n",
       "<polyline clip-path=\"url(#clip02)\" style=\"stroke:#00002d; stroke-width:0.8; stroke-opacity:0.5; fill:none\" stroke-dasharray=\"1, 2\" points=\"\n",
       "  47.8411,99.1907 587.714,99.1907 \n",
       "  \"/>\n",
       "<polyline clip-path=\"url(#clip02)\" style=\"stroke:#00002d; stroke-width:0.8; stroke-opacity:0.5; fill:none\" stroke-dasharray=\"1, 2\" points=\"\n",
       "  47.8411,3.93701 587.714,3.93701 \n",
       "  \"/>\n",
       "<polyline clip-path=\"url(#clip02)\" style=\"stroke:#00002d; stroke-width:0.8; stroke-opacity:1; fill:none\" points=\"\n",
       "  39.4926,384.952 596.063,384.952 \n",
       "  \"/>\n",
       "<polyline clip-path=\"url(#clip02)\" style=\"stroke:#00002d; stroke-width:0.8; stroke-opacity:1; fill:none\" points=\"\n",
       "  39.4926,384.952 39.4926,379.237 \n",
       "  \"/>\n",
       "<polyline clip-path=\"url(#clip02)\" style=\"stroke:#00002d; stroke-width:0.8; stroke-opacity:1; fill:none\" points=\"\n",
       "  178.635,384.952 178.635,379.237 \n",
       "  \"/>\n",
       "<polyline clip-path=\"url(#clip02)\" style=\"stroke:#00002d; stroke-width:0.8; stroke-opacity:1; fill:none\" points=\"\n",
       "  317.778,384.952 317.778,379.237 \n",
       "  \"/>\n",
       "<polyline clip-path=\"url(#clip02)\" style=\"stroke:#00002d; stroke-width:0.8; stroke-opacity:1; fill:none\" points=\"\n",
       "  456.92,384.952 456.92,379.237 \n",
       "  \"/>\n",
       "<polyline clip-path=\"url(#clip02)\" style=\"stroke:#00002d; stroke-width:0.8; stroke-opacity:1; fill:none\" points=\"\n",
       "  596.063,384.952 596.063,379.237 \n",
       "  \"/>\n",
       "<polyline clip-path=\"url(#clip02)\" style=\"stroke:#00002d; stroke-width:0.8; stroke-opacity:1; fill:none\" points=\"\n",
       "  39.4926,384.952 39.4926,3.93701 \n",
       "  \"/>\n",
       "<polyline clip-path=\"url(#clip02)\" style=\"stroke:#00002d; stroke-width:0.8; stroke-opacity:1; fill:none\" points=\"\n",
       "  39.4926,384.952 47.8411,384.952 \n",
       "  \"/>\n",
       "<polyline clip-path=\"url(#clip02)\" style=\"stroke:#00002d; stroke-width:0.8; stroke-opacity:1; fill:none\" points=\"\n",
       "  39.4926,289.698 47.8411,289.698 \n",
       "  \"/>\n",
       "<polyline clip-path=\"url(#clip02)\" style=\"stroke:#00002d; stroke-width:0.8; stroke-opacity:1; fill:none\" points=\"\n",
       "  39.4926,194.444 47.8411,194.444 \n",
       "  \"/>\n",
       "<polyline clip-path=\"url(#clip02)\" style=\"stroke:#00002d; stroke-width:0.8; stroke-opacity:1; fill:none\" points=\"\n",
       "  39.4926,99.1907 47.8411,99.1907 \n",
       "  \"/>\n",
       "<polyline clip-path=\"url(#clip02)\" style=\"stroke:#00002d; stroke-width:0.8; stroke-opacity:1; fill:none\" points=\"\n",
       "  39.4926,3.93701 47.8411,3.93701 \n",
       "  \"/>\n",
       "<g clip-path=\"url(#clip00)\">\n",
       "<text style=\"fill:#00002d; fill-opacity:1; font-family:Arial,Helvetica Neue,Helvetica,sans-serif; font-size:12; text-anchor:middle;\" transform=\"rotate(0, 39.4926, 396.952)\" x=\"39.4926\" y=\"396.952\">-0.50</text>\n",
       "</g>\n",
       "<g clip-path=\"url(#clip00)\">\n",
       "<text style=\"fill:#00002d; fill-opacity:1; font-family:Arial,Helvetica Neue,Helvetica,sans-serif; font-size:12; text-anchor:middle;\" transform=\"rotate(0, 178.635, 396.952)\" x=\"178.635\" y=\"396.952\">-0.25</text>\n",
       "</g>\n",
       "<g clip-path=\"url(#clip00)\">\n",
       "<text style=\"fill:#00002d; fill-opacity:1; font-family:Arial,Helvetica Neue,Helvetica,sans-serif; font-size:12; text-anchor:middle;\" transform=\"rotate(0, 317.778, 396.952)\" x=\"317.778\" y=\"396.952\">0.00</text>\n",
       "</g>\n",
       "<g clip-path=\"url(#clip00)\">\n",
       "<text style=\"fill:#00002d; fill-opacity:1; font-family:Arial,Helvetica Neue,Helvetica,sans-serif; font-size:12; text-anchor:middle;\" transform=\"rotate(0, 456.92, 396.952)\" x=\"456.92\" y=\"396.952\">0.25</text>\n",
       "</g>\n",
       "<g clip-path=\"url(#clip00)\">\n",
       "<text style=\"fill:#00002d; fill-opacity:1; font-family:Arial,Helvetica Neue,Helvetica,sans-serif; font-size:12; text-anchor:middle;\" transform=\"rotate(0, 596.063, 396.952)\" x=\"596.063\" y=\"396.952\">0.50</text>\n",
       "</g>\n",
       "<g clip-path=\"url(#clip00)\">\n",
       "<text style=\"fill:#00002d; fill-opacity:1; font-family:Arial,Helvetica Neue,Helvetica,sans-serif; font-size:12; text-anchor:end;\" transform=\"rotate(0, 38.2926, 389.452)\" x=\"38.2926\" y=\"389.452\">0.50</text>\n",
       "</g>\n",
       "<g clip-path=\"url(#clip00)\">\n",
       "<text style=\"fill:#00002d; fill-opacity:1; font-family:Arial,Helvetica Neue,Helvetica,sans-serif; font-size:12; text-anchor:end;\" transform=\"rotate(0, 38.2926, 294.198)\" x=\"38.2926\" y=\"294.198\">0.75</text>\n",
       "</g>\n",
       "<g clip-path=\"url(#clip00)\">\n",
       "<text style=\"fill:#00002d; fill-opacity:1; font-family:Arial,Helvetica Neue,Helvetica,sans-serif; font-size:12; text-anchor:end;\" transform=\"rotate(0, 38.2926, 198.944)\" x=\"38.2926\" y=\"198.944\">1.00</text>\n",
       "</g>\n",
       "<g clip-path=\"url(#clip00)\">\n",
       "<text style=\"fill:#00002d; fill-opacity:1; font-family:Arial,Helvetica Neue,Helvetica,sans-serif; font-size:12; text-anchor:end;\" transform=\"rotate(0, 38.2926, 103.691)\" x=\"38.2926\" y=\"103.691\">1.25</text>\n",
       "</g>\n",
       "<g clip-path=\"url(#clip00)\">\n",
       "<text style=\"fill:#00002d; fill-opacity:1; font-family:Arial,Helvetica Neue,Helvetica,sans-serif; font-size:12; text-anchor:end;\" transform=\"rotate(0, 38.2926, 8.43701)\" x=\"38.2926\" y=\"8.43701\">1.50</text>\n",
       "</g>\n",
       "<polyline clip-path=\"url(#clip02)\" style=\"stroke:#0099ff; stroke-width:0.8; stroke-opacity:1; fill:none\" points=\"\n",
       "  -238.793,435.292 -227.549,432.431 -216.305,429.512 -205.061,426.534 -193.817,423.495 -182.573,420.394 -171.33,417.229 -160.086,414 -148.842,410.705 -137.598,407.343 \n",
       "  -126.354,403.912 -115.11,400.411 -103.866,396.839 -92.6226,393.194 -81.3788,389.474 -70.1349,385.679 -58.8911,381.806 -47.6473,377.854 -36.4034,373.821 -25.1596,369.706 \n",
       "  -13.9157,365.507 -2.67186,361.223 8.57198,356.851 19.8158,352.389 31.0597,347.837 42.3035,343.192 53.5474,338.452 64.7912,333.615 76.0351,328.68 87.2789,323.644 \n",
       "  98.5228,318.505 109.767,313.261 121.01,307.91 132.254,302.45 143.498,296.879 154.742,291.194 165.986,285.393 177.23,279.473 188.474,273.433 199.717,267.269 \n",
       "  210.961,260.98 222.205,254.562 233.449,248.013 244.693,241.331 255.937,234.512 267.18,227.554 278.424,220.455 289.668,213.21 300.912,205.817 312.156,198.274 \n",
       "  323.4,190.576 334.644,182.722 345.887,174.707 357.131,166.529 368.375,158.183 379.619,149.668 390.863,140.979 402.107,132.112 413.35,123.064 424.594,113.832 \n",
       "  435.838,104.411 447.082,94.7986 458.326,84.9895 469.57,74.9803 480.814,64.7668 492.057,54.3449 503.301,43.7102 514.545,32.8586 525.789,21.7855 537.033,10.4864 \n",
       "  548.277,-1.04327 559.52,-12.8082 570.764,-24.8133 582.008,-37.0633 593.252,-49.5633 604.496,-62.3185 615.74,-75.3339 626.984,-88.6149 638.227,-102.167 649.471,-115.996 \n",
       "  660.715,-130.106 671.959,-144.505 683.203,-159.198 694.447,-174.19 705.691,-189.489 716.934,-205.1 728.178,-221.029 739.422,-237.283 750.666,-253.869 761.91,-270.794 \n",
       "  773.154,-288.063 784.397,-305.686 795.641,-323.668 806.885,-342.017 818.129,-360.74 829.373,-379.845 840.617,-399.341 851.861,-419.234 863.104,-439.533 874.348,-460.246 \n",
       "  \n",
       "  \"/>\n",
       "<polyline clip-path=\"url(#clip02)\" style=\"stroke:#e9746a; stroke-width:0.8; stroke-opacity:1; fill:none\" points=\"\n",
       "  -238.793,-460.246 -227.549,-439.533 -216.305,-419.234 -205.061,-399.341 -193.817,-379.845 -182.573,-360.74 -171.33,-342.017 -160.086,-323.668 -148.842,-305.686 -137.598,-288.063 \n",
       "  -126.354,-270.794 -115.11,-253.869 -103.866,-237.283 -92.6226,-221.029 -81.3788,-205.1 -70.1349,-189.489 -58.8911,-174.19 -47.6473,-159.198 -36.4034,-144.505 -25.1596,-130.106 \n",
       "  -13.9157,-115.996 -2.67186,-102.167 8.57198,-88.6149 19.8158,-75.3339 31.0597,-62.3185 42.3035,-49.5633 53.5474,-37.0633 64.7912,-24.8133 76.0351,-12.8082 87.2789,-1.04327 \n",
       "  98.5228,10.4864 109.767,21.7855 121.01,32.8586 132.254,43.7102 143.498,54.3449 154.742,64.7668 165.986,74.9803 177.23,84.9895 188.474,94.7986 199.717,104.411 \n",
       "  210.961,113.832 222.205,123.064 233.449,132.112 244.693,140.979 255.937,149.668 267.18,158.183 278.424,166.529 289.668,174.707 300.912,182.722 312.156,190.576 \n",
       "  323.4,198.274 334.644,205.817 345.887,213.21 357.131,220.455 368.375,227.554 379.619,234.512 390.863,241.331 402.107,248.013 413.35,254.562 424.594,260.98 \n",
       "  435.838,267.269 447.082,273.433 458.326,279.473 469.57,285.393 480.814,291.194 492.057,296.879 503.301,302.45 514.545,307.91 525.789,313.261 537.033,318.505 \n",
       "  548.277,323.644 559.52,328.68 570.764,333.615 582.008,338.452 593.252,343.192 604.496,347.837 615.74,352.389 626.984,356.851 638.227,361.223 649.471,365.507 \n",
       "  660.715,369.706 671.959,373.821 683.203,377.854 694.447,381.806 705.691,385.679 716.934,389.474 728.178,393.194 739.422,396.839 750.666,400.411 761.91,403.912 \n",
       "  773.154,407.343 784.397,410.705 795.641,414 806.885,417.229 818.129,420.394 829.373,423.495 840.617,426.534 851.861,429.512 863.104,432.431 874.348,435.292 \n",
       "  \n",
       "  \"/>\n",
       "<polygon clip-path=\"url(#clip00)\" points=\"\n",
       "505.547,70.177 578.063,70.177 578.063,24.817 505.547,24.817 \n",
       "  \" fill=\"#ffffff\" fill-opacity=\"1\"/>\n",
       "<polyline clip-path=\"url(#clip00)\" style=\"stroke:#00002d; stroke-width:0.8; stroke-opacity:1; fill:none\" points=\"\n",
       "  505.547,70.177 578.063,70.177 578.063,24.817 505.547,24.817 505.547,70.177 \n",
       "  \"/>\n",
       "<polyline clip-path=\"url(#clip00)\" style=\"stroke:#0099ff; stroke-width:0.8; stroke-opacity:1; fill:none\" points=\"\n",
       "  511.547,39.937 547.547,39.937 \n",
       "  \"/>\n",
       "<g clip-path=\"url(#clip00)\">\n",
       "<text style=\"fill:#00002d; fill-opacity:1; font-family:Arial,Helvetica Neue,Helvetica,sans-serif; font-size:12; text-anchor:start;\" transform=\"rotate(0, 553.547, 44.437)\" x=\"553.547\" y=\"44.437\">y1</text>\n",
       "</g>\n",
       "<polyline clip-path=\"url(#clip00)\" style=\"stroke:#e9746a; stroke-width:0.8; stroke-opacity:1; fill:none\" points=\"\n",
       "  511.547,55.057 547.547,55.057 \n",
       "  \"/>\n",
       "<g clip-path=\"url(#clip00)\">\n",
       "<text style=\"fill:#00002d; fill-opacity:1; font-family:Arial,Helvetica Neue,Helvetica,sans-serif; font-size:12; text-anchor:start;\" transform=\"rotate(0, 553.547, 59.557)\" x=\"553.547\" y=\"59.557\">y2</text>\n",
       "</g>\n",
       "</svg>\n"
      ]
     },
     "execution_count": 115,
     "metadata": {},
     "output_type": "execute_result"
    }
   ],
   "source": [
    "ylims!(0.5, 1.5)"
   ]
  },
  {
   "cell_type": "code",
   "execution_count": 116,
   "metadata": {
    "collapsed": false
   },
   "outputs": [
    {
     "data": {
      "text/html": [
       "<?xml version=\"1.0\" encoding=\"utf-8\"?>\n",
       "<svg xmlns=\"http://www.w3.org/2000/svg\" xmlns:xlink=\"http://www.w3.org/1999/xlink\" width=\"600\" height=\"400\" viewBox=\"0 0 600 400\">\n",
       "<defs>\n",
       "  <clipPath id=\"clip00\">\n",
       "    <rect x=\"0\" y=\"0\" width=\"600\" height=\"400\"/>\n",
       "  </clipPath>\n",
       "</defs>\n",
       "<polygon clip-path=\"url(#clip00)\" points=\"\n",
       "0,400 600,400 600,0 0,0 \n",
       "  \" fill=\"#ffffff\" fill-opacity=\"1\"/>\n",
       "<defs>\n",
       "  <clipPath id=\"clip01\">\n",
       "    <rect x=\"120\" y=\"0\" width=\"421\" height=\"400\"/>\n",
       "  </clipPath>\n",
       "</defs>\n",
       "<polygon clip-path=\"url(#clip00)\" points=\"\n",
       "30.6037,384.952 596.063,384.952 596.063,3.93701 30.6037,3.93701 \n",
       "  \" fill=\"#ffffff\" fill-opacity=\"1\"/>\n",
       "<defs>\n",
       "  <clipPath id=\"clip02\">\n",
       "    <rect x=\"30\" y=\"3\" width=\"566\" height=\"382\"/>\n",
       "  </clipPath>\n",
       "</defs>\n",
       "<polyline clip-path=\"url(#clip02)\" style=\"stroke:#00002d; stroke-width:0.8; stroke-opacity:0.5; fill:none\" stroke-dasharray=\"1, 2\" points=\"\n",
       "  71.3382,379.237 71.3382,9.65223 \n",
       "  \"/>\n",
       "<polyline clip-path=\"url(#clip02)\" style=\"stroke:#00002d; stroke-width:0.8; stroke-opacity:0.5; fill:none\" stroke-dasharray=\"1, 2\" points=\"\n",
       "  245.749,379.237 245.749,9.65223 \n",
       "  \"/>\n",
       "<polyline clip-path=\"url(#clip02)\" style=\"stroke:#00002d; stroke-width:0.8; stroke-opacity:0.5; fill:none\" stroke-dasharray=\"1, 2\" points=\"\n",
       "  420.16,379.237 420.16,9.65223 \n",
       "  \"/>\n",
       "<polyline clip-path=\"url(#clip02)\" style=\"stroke:#00002d; stroke-width:0.8; stroke-opacity:0.5; fill:none\" stroke-dasharray=\"1, 2\" points=\"\n",
       "  594.571,379.237 594.571,9.65223 \n",
       "  \"/>\n",
       "<polyline clip-path=\"url(#clip02)\" style=\"stroke:#00002d; stroke-width:0.8; stroke-opacity:0.5; fill:none\" stroke-dasharray=\"1, 2\" points=\"\n",
       "  39.0856,297.497 587.581,297.497 \n",
       "  \"/>\n",
       "<polyline clip-path=\"url(#clip02)\" style=\"stroke:#00002d; stroke-width:0.8; stroke-opacity:0.5; fill:none\" stroke-dasharray=\"1, 2\" points=\"\n",
       "  39.0856,147.763 587.581,147.763 \n",
       "  \"/>\n",
       "<polyline clip-path=\"url(#clip02)\" style=\"stroke:#00002d; stroke-width:0.8; stroke-opacity:1; fill:none\" points=\"\n",
       "  30.6037,384.952 596.063,384.952 \n",
       "  \"/>\n",
       "<polyline clip-path=\"url(#clip02)\" style=\"stroke:#00002d; stroke-width:0.8; stroke-opacity:1; fill:none\" points=\"\n",
       "  71.3382,384.952 71.3382,379.237 \n",
       "  \"/>\n",
       "<polyline clip-path=\"url(#clip02)\" style=\"stroke:#00002d; stroke-width:0.8; stroke-opacity:1; fill:none\" points=\"\n",
       "  245.749,384.952 245.749,379.237 \n",
       "  \"/>\n",
       "<polyline clip-path=\"url(#clip02)\" style=\"stroke:#00002d; stroke-width:0.8; stroke-opacity:1; fill:none\" points=\"\n",
       "  420.16,384.952 420.16,379.237 \n",
       "  \"/>\n",
       "<polyline clip-path=\"url(#clip02)\" style=\"stroke:#00002d; stroke-width:0.8; stroke-opacity:1; fill:none\" points=\"\n",
       "  594.571,384.952 594.571,379.237 \n",
       "  \"/>\n",
       "<polyline clip-path=\"url(#clip02)\" style=\"stroke:#00002d; stroke-width:0.8; stroke-opacity:1; fill:none\" points=\"\n",
       "  30.6037,384.952 30.6037,3.93701 \n",
       "  \"/>\n",
       "<polyline clip-path=\"url(#clip02)\" style=\"stroke:#00002d; stroke-width:0.8; stroke-opacity:1; fill:none\" points=\"\n",
       "  30.6037,297.497 39.0856,297.497 \n",
       "  \"/>\n",
       "<polyline clip-path=\"url(#clip02)\" style=\"stroke:#00002d; stroke-width:0.8; stroke-opacity:1; fill:none\" points=\"\n",
       "  30.6037,147.763 39.0856,147.763 \n",
       "  \"/>\n",
       "<g clip-path=\"url(#clip00)\">\n",
       "<text style=\"fill:#00002d; fill-opacity:1; font-family:Arial,Helvetica Neue,Helvetica,sans-serif; font-size:12; text-anchor:middle;\" transform=\"rotate(0, 71.3382, 396.952)\" x=\"71.3382\" y=\"396.952\">-10</text>\n",
       "</g>\n",
       "<g clip-path=\"url(#clip00)\">\n",
       "<text style=\"fill:#00002d; fill-opacity:1; font-family:Arial,Helvetica Neue,Helvetica,sans-serif; font-size:12; text-anchor:middle;\" transform=\"rotate(0, 245.749, 396.952)\" x=\"245.749\" y=\"396.952\">0</text>\n",
       "</g>\n",
       "<g clip-path=\"url(#clip00)\">\n",
       "<text style=\"fill:#00002d; fill-opacity:1; font-family:Arial,Helvetica Neue,Helvetica,sans-serif; font-size:12; text-anchor:middle;\" transform=\"rotate(0, 420.16, 396.952)\" x=\"420.16\" y=\"396.952\">10</text>\n",
       "</g>\n",
       "<g clip-path=\"url(#clip00)\">\n",
       "<text style=\"fill:#00002d; fill-opacity:1; font-family:Arial,Helvetica Neue,Helvetica,sans-serif; font-size:12; text-anchor:middle;\" transform=\"rotate(0, 594.571, 396.952)\" x=\"594.571\" y=\"396.952\">20</text>\n",
       "</g>\n",
       "<g clip-path=\"url(#clip00)\">\n",
       "<text style=\"fill:#00002d; fill-opacity:1; font-family:Arial,Helvetica Neue,Helvetica,sans-serif; font-size:12; text-anchor:end;\" transform=\"rotate(0, 29.4037, 301.997)\" x=\"29.4037\" y=\"301.997\">-10</text>\n",
       "</g>\n",
       "<g clip-path=\"url(#clip00)\">\n",
       "<text style=\"fill:#00002d; fill-opacity:1; font-family:Arial,Helvetica Neue,Helvetica,sans-serif; font-size:12; text-anchor:end;\" transform=\"rotate(0, 29.4037, 152.263)\" x=\"29.4037\" y=\"152.263\">0</text>\n",
       "</g>\n",
       "<polyline clip-path=\"url(#clip02)\" style=\"stroke:#0099ff; stroke-width:0.8; stroke-opacity:1; fill:none\" points=\"\n",
       "  248.11,147.763 248.14,147.436 248.109,147.101 248.014,146.766 247.856,146.44 247.634,146.132 247.352,145.85 247.013,145.604 246.624,145.402 246.191,145.251 \n",
       "  245.725,145.158 245.236,145.128 244.734,145.166 244.234,145.273 243.747,145.451 243.288,145.699 242.869,146.013 242.504,146.39 242.205,146.822 241.983,147.3 \n",
       "  241.848,147.816 241.809,148.356 241.87,148.909 242.036,149.461 242.308,149.996 242.684,150.501 243.159,150.96 243.726,151.359 244.376,151.685 245.095,151.924 \n",
       "  245.868,152.068 246.678,152.106 247.505,152.033 248.329,151.844 249.128,151.538 249.88,151.119 250.563,150.59 251.155,149.959 251.636,149.239 251.988,148.443 \n",
       "  252.195,147.588 252.244,146.694 252.125,145.781 251.834,144.874 251.369,143.995 250.733,143.169 249.933,142.421 248.983,141.774 247.9,141.251 246.704,140.871 \n",
       "  245.422,140.651 244.082,140.606 242.717,140.746 241.361,141.076 240.05,141.599 238.82,142.309 237.708,143.199 236.749,144.254 235.976,145.455 235.418,146.779 \n",
       "  235.103,148.196 235.049,149.675 235.272,151.18 235.781,152.674 236.576,154.116 237.653,155.466 238.997,156.684 240.586,157.732 242.393,158.573 244.38,159.175 \n",
       "  246.506,159.509 248.721,159.554 250.973,159.292 253.204,158.715 255.356,157.822 257.367,156.62 259.177,155.125 260.73,153.36 261.971,151.357 262.852,149.158 \n",
       "  263.331,146.808 263.375,144.363 262.961,141.88 262.074,139.423 260.715,137.058 258.895,134.851 256.637,132.867 253.979,131.171 250.967,129.822 247.665,128.872 \n",
       "  244.141,128.367 240.479,128.343 236.765,128.826 233.095,129.829 229.567,131.353 226.28,133.385 223.333,135.897 220.82,138.848 218.83,142.186 217.441,145.841 \n",
       "  216.721,149.734 216.723,153.777 217.483,157.871 219.023,161.911 221.34,165.79 224.416,169.397 228.207,172.624 232.653,175.367 237.671,177.53 243.158,179.026 \n",
       "  248.996,179.782 255.049,179.739 261.172,178.857 267.207,177.117 272.991,174.52 278.362,171.089 283.156,166.872 287.219,161.937 290.407,156.377 292.591,150.306 \n",
       "  293.663,143.855 293.538,137.174 292.156,130.425 289.489,123.782 285.541,117.424 280.349,111.532 273.984,106.283 266.554,101.849 258.196,98.3865 249.082,96.0371 \n",
       "  239.411,94.9194 229.407,95.1259 219.315,96.7197 209.395,99.7304 199.914,104.152 191.143,109.943 183.348,117.02 176.783,125.267 171.683,134.527 168.258,144.61 \n",
       "  166.682,155.295 167.093,166.334 169.582,177.456 174.191,188.375 180.909,198.794 189.669,208.416 200.347,216.948 212.762,224.11 226.68,229.644 241.814,233.323 \n",
       "  257.831,234.953 274.357,234.388 290.987,231.528 307.29,226.33 322.825,218.81 337.145,209.044 349.812,197.172 360.411,183.396 368.558,167.979 373.913,151.238 \n",
       "  376.192,133.544 375.177,115.309 370.726,96.9841 362.777,79.0423 351.357,61.9729 336.588,46.2674 318.682,32.4067 297.946,20.8484 274.776,12.0134 249.653,6.27306 \n",
       "  223.133,3.93701 195.838,5.24177 168.441,10.3409 141.655,19.2965 116.21,32.0731 92.8409,48.5337 72.2666,68.4375 55.1688,91.4414 42.1738,117.104 33.8327,144.89 \n",
       "  30.6037,174.184 32.8345,204.297 40.7483,234.483 54.4309,263.956 73.8218,291.91 98.7081,317.535 128.722,340.041 163.344,358.679 201.904,372.761 243.598,381.685 \n",
       "  287.498,384.952 332.568,382.184 377.69,373.143 421.687,357.743 463.351,336.057 501.471,308.33 534.868,274.975 562.426,236.574 583.123,193.872 596.063,147.763 \n",
       "  \n",
       "  \"/>\n",
       "<polygon clip-path=\"url(#clip00)\" points=\"\n",
       "505.547,55.057 578.063,55.057 578.063,24.817 505.547,24.817 \n",
       "  \" fill=\"#ffffff\" fill-opacity=\"1\"/>\n",
       "<polyline clip-path=\"url(#clip00)\" style=\"stroke:#00002d; stroke-width:0.8; stroke-opacity:1; fill:none\" points=\"\n",
       "  505.547,55.057 578.063,55.057 578.063,24.817 505.547,24.817 505.547,55.057 \n",
       "  \"/>\n",
       "<polyline clip-path=\"url(#clip00)\" style=\"stroke:#0099ff; stroke-width:0.8; stroke-opacity:1; fill:none\" points=\"\n",
       "  511.547,39.937 547.547,39.937 \n",
       "  \"/>\n",
       "<g clip-path=\"url(#clip00)\">\n",
       "<text style=\"fill:#00002d; fill-opacity:1; font-family:Arial,Helvetica Neue,Helvetica,sans-serif; font-size:12; text-anchor:start;\" transform=\"rotate(0, 553.547, 44.437)\" x=\"553.547\" y=\"44.437\">y1</text>\n",
       "</g>\n",
       "</svg>\n"
      ]
     },
     "execution_count": 116,
     "metadata": {},
     "output_type": "execute_result"
    }
   ],
   "source": [
    "t = linspace(-2, 3, 200)\n",
    "x = cos(t*pi*2) .* exp(t)\n",
    "y = sin(t*pi*2) .* exp(t)\n",
    "plot(x, y)"
   ]
  },
  {
   "cell_type": "code",
   "execution_count": 117,
   "metadata": {
    "collapsed": false
   },
   "outputs": [
    {
     "data": {
      "text/html": [
       "<?xml version=\"1.0\" encoding=\"utf-8\"?>\n",
       "<svg xmlns=\"http://www.w3.org/2000/svg\" xmlns:xlink=\"http://www.w3.org/1999/xlink\" width=\"600\" height=\"400\" viewBox=\"0 0 600 400\">\n",
       "<defs>\n",
       "  <clipPath id=\"clip00\">\n",
       "    <rect x=\"0\" y=\"0\" width=\"600\" height=\"400\"/>\n",
       "  </clipPath>\n",
       "</defs>\n",
       "<polygon clip-path=\"url(#clip00)\" points=\"\n",
       "0,400 600,400 600,0 0,0 \n",
       "  \" fill=\"#ffffff\" fill-opacity=\"1\"/>\n",
       "<defs>\n",
       "  <clipPath id=\"clip01\">\n",
       "    <rect x=\"120\" y=\"0\" width=\"421\" height=\"400\"/>\n",
       "  </clipPath>\n",
       "</defs>\n",
       "<polygon clip-path=\"url(#clip00)\" points=\"\n",
       "21.7148,384.952 596.063,384.952 596.063,3.93701 21.7148,3.93701 \n",
       "  \" fill=\"#ffffff\" fill-opacity=\"1\"/>\n",
       "<defs>\n",
       "  <clipPath id=\"clip02\">\n",
       "    <rect x=\"21\" y=\"3\" width=\"575\" height=\"382\"/>\n",
       "  </clipPath>\n",
       "</defs>\n",
       "<polyline clip-path=\"url(#clip02)\" style=\"stroke:#00002d; stroke-width:0.8; stroke-opacity:0.5; fill:none\" stroke-dasharray=\"1, 2\" points=\"\n",
       "  21.7148,379.237 21.7148,9.65223 \n",
       "  \"/>\n",
       "<polyline clip-path=\"url(#clip02)\" style=\"stroke:#00002d; stroke-width:0.8; stroke-opacity:0.5; fill:none\" stroke-dasharray=\"1, 2\" points=\"\n",
       "  204.535,379.237 204.535,9.65223 \n",
       "  \"/>\n",
       "<polyline clip-path=\"url(#clip02)\" style=\"stroke:#00002d; stroke-width:0.8; stroke-opacity:0.5; fill:none\" stroke-dasharray=\"1, 2\" points=\"\n",
       "  387.356,379.237 387.356,9.65223 \n",
       "  \"/>\n",
       "<polyline clip-path=\"url(#clip02)\" style=\"stroke:#00002d; stroke-width:0.8; stroke-opacity:0.5; fill:none\" stroke-dasharray=\"1, 2\" points=\"\n",
       "  570.177,379.237 570.177,9.65223 \n",
       "  \"/>\n",
       "<polyline clip-path=\"url(#clip02)\" style=\"stroke:#00002d; stroke-width:0.8; stroke-opacity:0.5; fill:none\" stroke-dasharray=\"1, 2\" points=\"\n",
       "  30.33,353.201 587.448,353.201 \n",
       "  \"/>\n",
       "<polyline clip-path=\"url(#clip02)\" style=\"stroke:#00002d; stroke-width:0.8; stroke-opacity:0.5; fill:none\" stroke-dasharray=\"1, 2\" points=\"\n",
       "  30.33,194.444 587.448,194.444 \n",
       "  \"/>\n",
       "<polyline clip-path=\"url(#clip02)\" style=\"stroke:#00002d; stroke-width:0.8; stroke-opacity:0.5; fill:none\" stroke-dasharray=\"1, 2\" points=\"\n",
       "  30.33,35.6882 587.448,35.6882 \n",
       "  \"/>\n",
       "<polyline clip-path=\"url(#clip02)\" style=\"stroke:#00002d; stroke-width:0.8; stroke-opacity:1; fill:none\" points=\"\n",
       "  21.7148,384.952 596.063,384.952 \n",
       "  \"/>\n",
       "<polyline clip-path=\"url(#clip02)\" style=\"stroke:#00002d; stroke-width:0.8; stroke-opacity:1; fill:none\" points=\"\n",
       "  21.7148,384.952 21.7148,379.237 \n",
       "  \"/>\n",
       "<polyline clip-path=\"url(#clip02)\" style=\"stroke:#00002d; stroke-width:0.8; stroke-opacity:1; fill:none\" points=\"\n",
       "  204.535,384.952 204.535,379.237 \n",
       "  \"/>\n",
       "<polyline clip-path=\"url(#clip02)\" style=\"stroke:#00002d; stroke-width:0.8; stroke-opacity:1; fill:none\" points=\"\n",
       "  387.356,384.952 387.356,379.237 \n",
       "  \"/>\n",
       "<polyline clip-path=\"url(#clip02)\" style=\"stroke:#00002d; stroke-width:0.8; stroke-opacity:1; fill:none\" points=\"\n",
       "  570.177,384.952 570.177,379.237 \n",
       "  \"/>\n",
       "<polyline clip-path=\"url(#clip02)\" style=\"stroke:#00002d; stroke-width:0.8; stroke-opacity:1; fill:none\" points=\"\n",
       "  21.7148,384.952 21.7148,3.93701 \n",
       "  \"/>\n",
       "<polyline clip-path=\"url(#clip02)\" style=\"stroke:#00002d; stroke-width:0.8; stroke-opacity:1; fill:none\" points=\"\n",
       "  21.7148,353.201 30.33,353.201 \n",
       "  \"/>\n",
       "<polyline clip-path=\"url(#clip02)\" style=\"stroke:#00002d; stroke-width:0.8; stroke-opacity:1; fill:none\" points=\"\n",
       "  21.7148,194.444 30.33,194.444 \n",
       "  \"/>\n",
       "<polyline clip-path=\"url(#clip02)\" style=\"stroke:#00002d; stroke-width:0.8; stroke-opacity:1; fill:none\" points=\"\n",
       "  21.7148,35.6882 30.33,35.6882 \n",
       "  \"/>\n",
       "<g clip-path=\"url(#clip00)\">\n",
       "<text style=\"fill:#00002d; fill-opacity:1; font-family:Arial,Helvetica Neue,Helvetica,sans-serif; font-size:12; text-anchor:middle;\" transform=\"rotate(0, 21.7148, 396.952)\" x=\"21.7148\" y=\"396.952\">0</text>\n",
       "</g>\n",
       "<g clip-path=\"url(#clip00)\">\n",
       "<text style=\"fill:#00002d; fill-opacity:1; font-family:Arial,Helvetica Neue,Helvetica,sans-serif; font-size:12; text-anchor:middle;\" transform=\"rotate(0, 204.535, 396.952)\" x=\"204.535\" y=\"396.952\">2</text>\n",
       "</g>\n",
       "<g clip-path=\"url(#clip00)\">\n",
       "<text style=\"fill:#00002d; fill-opacity:1; font-family:Arial,Helvetica Neue,Helvetica,sans-serif; font-size:12; text-anchor:middle;\" transform=\"rotate(0, 387.356, 396.952)\" x=\"387.356\" y=\"396.952\">4</text>\n",
       "</g>\n",
       "<g clip-path=\"url(#clip00)\">\n",
       "<text style=\"fill:#00002d; fill-opacity:1; font-family:Arial,Helvetica Neue,Helvetica,sans-serif; font-size:12; text-anchor:middle;\" transform=\"rotate(0, 570.177, 396.952)\" x=\"570.177\" y=\"396.952\">6</text>\n",
       "</g>\n",
       "<g clip-path=\"url(#clip00)\">\n",
       "<text style=\"fill:#00002d; fill-opacity:1; font-family:Arial,Helvetica Neue,Helvetica,sans-serif; font-size:12; text-anchor:end;\" transform=\"rotate(0, 20.5148, 357.701)\" x=\"20.5148\" y=\"357.701\">-1</text>\n",
       "</g>\n",
       "<g clip-path=\"url(#clip00)\">\n",
       "<text style=\"fill:#00002d; fill-opacity:1; font-family:Arial,Helvetica Neue,Helvetica,sans-serif; font-size:12; text-anchor:end;\" transform=\"rotate(0, 20.5148, 198.944)\" x=\"20.5148\" y=\"198.944\">0</text>\n",
       "</g>\n",
       "<g clip-path=\"url(#clip00)\">\n",
       "<text style=\"fill:#00002d; fill-opacity:1; font-family:Arial,Helvetica Neue,Helvetica,sans-serif; font-size:12; text-anchor:end;\" transform=\"rotate(0, 20.5148, 40.1882)\" x=\"20.5148\" y=\"40.1882\">1</text>\n",
       "</g>\n",
       "<polyline clip-path=\"url(#clip02)\" style=\"stroke:#0099ff; stroke-width:0.8; stroke-opacity:1; fill:none\" points=\"\n",
       "  21.7148,194.444 27.5163,184.376 33.3178,174.347 39.1193,164.4 44.9208,154.573 50.7223,144.907 56.5238,135.441 62.3253,126.212 68.1268,117.258 73.9283,108.614 \n",
       "  79.7298,100.317 85.5313,92.3979 91.3328,84.8901 97.1342,77.8235 102.936,71.2264 108.737,65.1255 114.539,59.5453 120.34,54.5083 126.142,50.0347 131.943,46.1427 \n",
       "  137.745,42.8478 143.546,40.1633 149.348,38.1001 155.149,36.6664 160.951,35.8681 166.752,35.7082 172.554,36.1876 178.355,37.3042 184.157,39.0535 189.958,41.4285 \n",
       "  195.76,44.4197 201.561,48.015 207.363,52.1999 213.164,56.9575 218.966,62.2688 224.767,68.1123 230.569,74.4645 236.37,81.2998 242.172,88.5907 247.973,96.3079 \n",
       "  253.775,104.42 259.576,112.895 265.378,121.698 271.179,130.794 276.981,140.147 282.782,149.718 288.584,159.469 294.385,169.361 300.187,179.354 305.988,189.407 \n",
       "  311.79,199.481 317.591,209.535 323.393,219.528 329.194,229.42 334.996,239.171 340.797,248.742 346.599,258.095 352.4,267.191 358.202,275.994 364.003,284.469 \n",
       "  369.805,292.581 375.606,300.298 381.408,307.589 387.209,314.424 393.011,320.777 398.812,326.62 404.614,331.931 410.415,336.689 416.217,340.874 422.018,344.469 \n",
       "  427.82,347.46 433.621,349.835 439.423,351.585 445.224,352.701 451.026,353.181 456.827,353.021 462.629,352.222 468.43,350.789 474.232,348.726 480.033,346.041 \n",
       "  485.835,342.746 491.636,338.854 497.438,334.381 503.239,329.344 509.041,323.763 514.842,317.663 520.644,311.065 526.445,303.999 532.247,296.491 538.048,288.572 \n",
       "  543.85,280.275 549.651,271.631 555.453,262.677 561.254,253.448 567.056,243.982 572.857,234.316 578.659,224.489 584.46,214.542 590.261,204.513 596.063,194.444 \n",
       "  \n",
       "  \"/>\n",
       "<polyline clip-path=\"url(#clip02)\" style=\"stroke:#008100; stroke-width:0.8; stroke-opacity:1; fill:none\" points=\"\n",
       "  21.7148,35.6882 27.5163,36.0079 33.3178,36.9655 39.1193,38.5572 44.9208,40.7766 50.7223,43.6148 56.5238,47.0603 62.3253,51.0993 68.1268,55.7154 73.9283,60.8902 \n",
       "  79.7298,66.6028 85.5313,72.8301 91.3328,79.5472 97.1342,86.7269 102.936,94.3403 108.737,102.357 114.539,110.744 120.34,119.468 126.142,128.495 131.943,137.787 \n",
       "  137.745,147.306 143.546,157.016 149.348,166.877 155.149,176.848 160.951,186.891 166.752,196.963 172.554,207.026 178.355,217.038 184.157,226.959 189.958,236.749 \n",
       "  195.76,246.369 201.561,255.779 207.363,264.943 213.164,273.823 218.966,282.383 224.767,290.589 230.569,298.408 236.37,305.808 242.172,312.76 247.973,319.235 \n",
       "  253.775,325.208 259.576,330.655 265.378,335.553 271.179,339.882 276.981,343.626 282.782,346.77 288.584,349.3 294.385,351.206 300.187,352.482 305.988,353.121 \n",
       "  311.79,353.121 317.591,352.482 323.393,351.206 329.194,349.3 334.996,346.77 340.797,343.626 346.599,339.882 352.4,335.553 358.202,330.655 364.003,325.208 \n",
       "  369.805,319.235 375.606,312.76 381.408,305.808 387.209,298.408 393.011,290.589 398.812,282.383 404.614,273.823 410.415,264.943 416.217,255.779 422.018,246.369 \n",
       "  427.82,236.749 433.621,226.959 439.423,217.038 445.224,207.026 451.026,196.963 456.827,186.891 462.629,176.848 468.43,166.877 474.232,157.016 480.033,147.306 \n",
       "  485.835,137.787 491.636,128.495 497.438,119.468 503.239,110.744 509.041,102.357 514.842,94.3403 520.644,86.7269 526.445,79.5472 532.247,72.8301 538.048,66.6028 \n",
       "  543.85,60.8902 549.651,55.7154 555.453,51.0993 561.254,47.0603 567.056,43.6148 572.857,40.7766 578.659,38.5572 584.46,36.9655 590.261,36.0079 596.063,35.6882 \n",
       "  \n",
       "  \"/>\n",
       "<polyline clip-path=\"url(#clip02)\" style=\"stroke:#ff0000; stroke-width:0.8; stroke-opacity:1; fill:none\" stroke-dasharray=\"8, 5\" points=\"\n",
       "  21.7148,35.6882 27.5163,35.6882 33.3178,35.6882 39.1193,35.6882 44.9208,35.6882 50.7223,35.6882 56.5238,35.6882 62.3253,35.6882 68.1268,35.6882 73.9283,35.6882 \n",
       "  79.7298,35.6882 85.5313,35.6882 91.3328,35.6882 97.1342,35.6882 102.936,35.6882 108.737,35.6882 114.539,35.6882 120.34,35.6882 126.142,35.6882 131.943,35.6882 \n",
       "  137.745,35.6882 143.546,35.6882 149.348,35.6882 155.149,35.6882 160.951,35.6882 166.752,35.6882 172.554,35.6882 178.355,35.6882 184.157,35.6882 189.958,35.6882 \n",
       "  195.76,35.6882 201.561,35.6882 207.363,35.6882 213.164,35.6882 218.966,35.6882 224.767,35.6882 230.569,35.6882 236.37,35.6882 242.172,35.6882 247.973,35.6882 \n",
       "  253.775,35.6882 259.576,35.6882 265.378,35.6882 271.179,35.6882 276.981,35.6882 282.782,35.6882 288.584,35.6882 294.385,35.6882 300.187,35.6882 305.988,35.6882 \n",
       "  311.79,35.6882 317.591,35.6882 323.393,35.6882 329.194,35.6882 334.996,35.6882 340.797,35.6882 346.599,35.6882 352.4,35.6882 358.202,35.6882 364.003,35.6882 \n",
       "  369.805,35.6882 375.606,35.6882 381.408,35.6882 387.209,35.6882 393.011,35.6882 398.812,35.6882 404.614,35.6882 410.415,35.6882 416.217,35.6882 422.018,35.6882 \n",
       "  427.82,35.6882 433.621,35.6882 439.423,35.6882 445.224,35.6882 451.026,35.6882 456.827,35.6882 462.629,35.6882 468.43,35.6882 474.232,35.6882 480.033,35.6882 \n",
       "  485.835,35.6882 491.636,35.6882 497.438,35.6882 503.239,35.6882 509.041,35.6882 514.842,35.6882 520.644,35.6882 526.445,35.6882 532.247,35.6882 538.048,35.6882 \n",
       "  543.85,35.6882 549.651,35.6882 555.453,35.6882 561.254,35.6882 567.056,35.6882 572.857,35.6882 578.659,35.6882 584.46,35.6882 590.261,35.6882 596.063,35.6882 \n",
       "  \n",
       "  \"/>\n",
       "<polyline clip-path=\"url(#clip02)\" style=\"stroke:#ff0000; stroke-width:0.8; stroke-opacity:1; fill:none\" stroke-dasharray=\"8, 5\" points=\"\n",
       "  21.7148,353.201 27.5163,353.201 33.3178,353.201 39.1193,353.201 44.9208,353.201 50.7223,353.201 56.5238,353.201 62.3253,353.201 68.1268,353.201 73.9283,353.201 \n",
       "  79.7298,353.201 85.5313,353.201 91.3328,353.201 97.1342,353.201 102.936,353.201 108.737,353.201 114.539,353.201 120.34,353.201 126.142,353.201 131.943,353.201 \n",
       "  137.745,353.201 143.546,353.201 149.348,353.201 155.149,353.201 160.951,353.201 166.752,353.201 172.554,353.201 178.355,353.201 184.157,353.201 189.958,353.201 \n",
       "  195.76,353.201 201.561,353.201 207.363,353.201 213.164,353.201 218.966,353.201 224.767,353.201 230.569,353.201 236.37,353.201 242.172,353.201 247.973,353.201 \n",
       "  253.775,353.201 259.576,353.201 265.378,353.201 271.179,353.201 276.981,353.201 282.782,353.201 288.584,353.201 294.385,353.201 300.187,353.201 305.988,353.201 \n",
       "  311.79,353.201 317.591,353.201 323.393,353.201 329.194,353.201 334.996,353.201 340.797,353.201 346.599,353.201 352.4,353.201 358.202,353.201 364.003,353.201 \n",
       "  369.805,353.201 375.606,353.201 381.408,353.201 387.209,353.201 393.011,353.201 398.812,353.201 404.614,353.201 410.415,353.201 416.217,353.201 422.018,353.201 \n",
       "  427.82,353.201 433.621,353.201 439.423,353.201 445.224,353.201 451.026,353.201 456.827,353.201 462.629,353.201 468.43,353.201 474.232,353.201 480.033,353.201 \n",
       "  485.835,353.201 491.636,353.201 497.438,353.201 503.239,353.201 509.041,353.201 514.842,353.201 520.644,353.201 526.445,353.201 532.247,353.201 538.048,353.201 \n",
       "  543.85,353.201 549.651,353.201 555.453,353.201 561.254,353.201 567.056,353.201 572.857,353.201 578.659,353.201 584.46,353.201 590.261,353.201 596.063,353.201 \n",
       "  \n",
       "  \"/>\n",
       "<polygon clip-path=\"url(#clip00)\" points=\"\n",
       "499.622,70.177 578.063,70.177 578.063,24.817 499.622,24.817 \n",
       "  \" fill=\"#ffffff\" fill-opacity=\"1\"/>\n",
       "<polyline clip-path=\"url(#clip00)\" style=\"stroke:#00002d; stroke-width:0.8; stroke-opacity:1; fill:none\" points=\"\n",
       "  499.622,70.177 578.063,70.177 578.063,24.817 499.622,24.817 499.622,70.177 \n",
       "  \"/>\n",
       "<polyline clip-path=\"url(#clip00)\" style=\"stroke:#0099ff; stroke-width:0.8; stroke-opacity:1; fill:none\" points=\"\n",
       "  505.622,39.937 541.622,39.937 \n",
       "  \"/>\n",
       "<g clip-path=\"url(#clip00)\">\n",
       "<text style=\"fill:#00002d; fill-opacity:1; font-family:Arial,Helvetica Neue,Helvetica,sans-serif; font-size:12; text-anchor:start;\" transform=\"rotate(0, 547.622, 44.437)\" x=\"547.622\" y=\"44.437\">sin</text>\n",
       "</g>\n",
       "<polyline clip-path=\"url(#clip00)\" style=\"stroke:#008100; stroke-width:0.8; stroke-opacity:1; fill:none\" points=\"\n",
       "  505.622,55.057 541.622,55.057 \n",
       "  \"/>\n",
       "<g clip-path=\"url(#clip00)\">\n",
       "<text style=\"fill:#00002d; fill-opacity:1; font-family:Arial,Helvetica Neue,Helvetica,sans-serif; font-size:12; text-anchor:start;\" transform=\"rotate(0, 547.622, 59.557)\" x=\"547.622\" y=\"59.557\">cos</text>\n",
       "</g>\n",
       "</svg>\n"
      ]
     },
     "execution_count": 117,
     "metadata": {},
     "output_type": "execute_result"
    }
   ],
   "source": [
    "plot(sin, 0, 2pi, label=\"sin\")\n",
    "plot!(cos, 0, 2pi, label=\"cos\", c=:green)\n",
    "plot!(x->1, 0, 2pi, c=:red, l=:dash, label=\"\")\n",
    "plot!(x->-1, 0, 2pi, c=:red, l=:dash, label=\"\")\n",
    "ylims!(-1.2, 1.2)"
   ]
  },
  {
   "cell_type": "code",
   "execution_count": 118,
   "metadata": {
    "collapsed": false
   },
   "outputs": [
    {
     "data": {
      "text/html": [
       "<?xml version=\"1.0\" encoding=\"utf-8\"?>\n",
       "<svg xmlns=\"http://www.w3.org/2000/svg\" xmlns:xlink=\"http://www.w3.org/1999/xlink\" width=\"600\" height=\"400\" viewBox=\"0 0 600 400\">\n",
       "<defs>\n",
       "  <clipPath id=\"clip00\">\n",
       "    <rect x=\"0\" y=\"0\" width=\"600\" height=\"400\"/>\n",
       "  </clipPath>\n",
       "</defs>\n",
       "<polygon clip-path=\"url(#clip00)\" points=\"\n",
       "0,400 600,400 600,0 0,0 \n",
       "  \" fill=\"#ffffff\" fill-opacity=\"1\"/>\n",
       "<defs>\n",
       "  <clipPath id=\"clip01\">\n",
       "    <rect x=\"120\" y=\"0\" width=\"421\" height=\"400\"/>\n",
       "  </clipPath>\n",
       "</defs>\n",
       "<polygon clip-path=\"url(#clip00)\" points=\"\n",
       "21.7148,384.952 596.063,384.952 596.063,3.93701 21.7148,3.93701 \n",
       "  \" fill=\"#ffffff\" fill-opacity=\"1\"/>\n",
       "<defs>\n",
       "  <clipPath id=\"clip02\">\n",
       "    <rect x=\"21\" y=\"3\" width=\"575\" height=\"382\"/>\n",
       "  </clipPath>\n",
       "</defs>\n",
       "<polyline clip-path=\"url(#clip02)\" style=\"stroke:#00002d; stroke-width:0.8; stroke-opacity:0.5; fill:none\" stroke-dasharray=\"1, 2\" points=\"\n",
       "  21.7148,379.237 21.7148,9.65223 \n",
       "  \"/>\n",
       "<polyline clip-path=\"url(#clip02)\" style=\"stroke:#00002d; stroke-width:0.8; stroke-opacity:0.5; fill:none\" stroke-dasharray=\"1, 2\" points=\"\n",
       "  165.302,379.237 165.302,9.65223 \n",
       "  \"/>\n",
       "<polyline clip-path=\"url(#clip02)\" style=\"stroke:#00002d; stroke-width:0.8; stroke-opacity:0.5; fill:none\" stroke-dasharray=\"1, 2\" points=\"\n",
       "  308.889,379.237 308.889,9.65223 \n",
       "  \"/>\n",
       "<polyline clip-path=\"url(#clip02)\" style=\"stroke:#00002d; stroke-width:0.8; stroke-opacity:0.5; fill:none\" stroke-dasharray=\"1, 2\" points=\"\n",
       "  452.476,379.237 452.476,9.65223 \n",
       "  \"/>\n",
       "<polyline clip-path=\"url(#clip02)\" style=\"stroke:#00002d; stroke-width:0.8; stroke-opacity:0.5; fill:none\" stroke-dasharray=\"1, 2\" points=\"\n",
       "  596.063,379.237 596.063,9.65223 \n",
       "  \"/>\n",
       "<polyline clip-path=\"url(#clip02)\" style=\"stroke:#00002d; stroke-width:0.8; stroke-opacity:0.5; fill:none\" stroke-dasharray=\"1, 2\" points=\"\n",
       "  30.33,353.201 587.448,353.201 \n",
       "  \"/>\n",
       "<polyline clip-path=\"url(#clip02)\" style=\"stroke:#00002d; stroke-width:0.8; stroke-opacity:0.5; fill:none\" stroke-dasharray=\"1, 2\" points=\"\n",
       "  30.33,194.444 587.448,194.444 \n",
       "  \"/>\n",
       "<polyline clip-path=\"url(#clip02)\" style=\"stroke:#00002d; stroke-width:0.8; stroke-opacity:0.5; fill:none\" stroke-dasharray=\"1, 2\" points=\"\n",
       "  30.33,35.6882 587.448,35.6882 \n",
       "  \"/>\n",
       "<polyline clip-path=\"url(#clip02)\" style=\"stroke:#00002d; stroke-width:0.8; stroke-opacity:1; fill:none\" points=\"\n",
       "  21.7148,384.952 596.063,384.952 \n",
       "  \"/>\n",
       "<polyline clip-path=\"url(#clip02)\" style=\"stroke:#00002d; stroke-width:0.8; stroke-opacity:1; fill:none\" points=\"\n",
       "  21.7148,384.952 21.7148,379.237 \n",
       "  \"/>\n",
       "<polyline clip-path=\"url(#clip02)\" style=\"stroke:#00002d; stroke-width:0.8; stroke-opacity:1; fill:none\" points=\"\n",
       "  165.302,384.952 165.302,379.237 \n",
       "  \"/>\n",
       "<polyline clip-path=\"url(#clip02)\" style=\"stroke:#00002d; stroke-width:0.8; stroke-opacity:1; fill:none\" points=\"\n",
       "  308.889,384.952 308.889,379.237 \n",
       "  \"/>\n",
       "<polyline clip-path=\"url(#clip02)\" style=\"stroke:#00002d; stroke-width:0.8; stroke-opacity:1; fill:none\" points=\"\n",
       "  452.476,384.952 452.476,379.237 \n",
       "  \"/>\n",
       "<polyline clip-path=\"url(#clip02)\" style=\"stroke:#00002d; stroke-width:0.8; stroke-opacity:1; fill:none\" points=\"\n",
       "  596.063,384.952 596.063,379.237 \n",
       "  \"/>\n",
       "<polyline clip-path=\"url(#clip02)\" style=\"stroke:#00002d; stroke-width:0.8; stroke-opacity:1; fill:none\" points=\"\n",
       "  21.7148,384.952 21.7148,3.93701 \n",
       "  \"/>\n",
       "<polyline clip-path=\"url(#clip02)\" style=\"stroke:#00002d; stroke-width:0.8; stroke-opacity:1; fill:none\" points=\"\n",
       "  21.7148,353.201 30.33,353.201 \n",
       "  \"/>\n",
       "<polyline clip-path=\"url(#clip02)\" style=\"stroke:#00002d; stroke-width:0.8; stroke-opacity:1; fill:none\" points=\"\n",
       "  21.7148,194.444 30.33,194.444 \n",
       "  \"/>\n",
       "<polyline clip-path=\"url(#clip02)\" style=\"stroke:#00002d; stroke-width:0.8; stroke-opacity:1; fill:none\" points=\"\n",
       "  21.7148,35.6882 30.33,35.6882 \n",
       "  \"/>\n",
       "<g clip-path=\"url(#clip00)\">\n",
       "<text style=\"fill:#00002d; fill-opacity:1; font-family:Arial,Helvetica Neue,Helvetica,sans-serif; font-size:12; text-anchor:middle;\" transform=\"rotate(0, 21.7148, 396.952)\" x=\"21.7148\" y=\"396.952\">0.0000000</text>\n",
       "</g>\n",
       "<g clip-path=\"url(#clip00)\">\n",
       "<text style=\"fill:#00002d; fill-opacity:1; font-family:Arial,Helvetica Neue,Helvetica,sans-serif; font-size:12; text-anchor:middle;\" transform=\"rotate(0, 165.302, 396.952)\" x=\"165.302\" y=\"396.952\">1.5707963</text>\n",
       "</g>\n",
       "<g clip-path=\"url(#clip00)\">\n",
       "<text style=\"fill:#00002d; fill-opacity:1; font-family:Arial,Helvetica Neue,Helvetica,sans-serif; font-size:12; text-anchor:middle;\" transform=\"rotate(0, 308.889, 396.952)\" x=\"308.889\" y=\"396.952\">3.1415927</text>\n",
       "</g>\n",
       "<g clip-path=\"url(#clip00)\">\n",
       "<text style=\"fill:#00002d; fill-opacity:1; font-family:Arial,Helvetica Neue,Helvetica,sans-serif; font-size:12; text-anchor:middle;\" transform=\"rotate(0, 452.476, 396.952)\" x=\"452.476\" y=\"396.952\">4.7123890</text>\n",
       "</g>\n",
       "<g clip-path=\"url(#clip00)\">\n",
       "<text style=\"fill:#00002d; fill-opacity:1; font-family:Arial,Helvetica Neue,Helvetica,sans-serif; font-size:12; text-anchor:middle;\" transform=\"rotate(0, 596.063, 396.952)\" x=\"596.063\" y=\"396.952\">6.2831853</text>\n",
       "</g>\n",
       "<g clip-path=\"url(#clip00)\">\n",
       "<text style=\"fill:#00002d; fill-opacity:1; font-family:Arial,Helvetica Neue,Helvetica,sans-serif; font-size:12; text-anchor:end;\" transform=\"rotate(0, 20.5148, 357.701)\" x=\"20.5148\" y=\"357.701\">-1</text>\n",
       "</g>\n",
       "<g clip-path=\"url(#clip00)\">\n",
       "<text style=\"fill:#00002d; fill-opacity:1; font-family:Arial,Helvetica Neue,Helvetica,sans-serif; font-size:12; text-anchor:end;\" transform=\"rotate(0, 20.5148, 198.944)\" x=\"20.5148\" y=\"198.944\">0</text>\n",
       "</g>\n",
       "<g clip-path=\"url(#clip00)\">\n",
       "<text style=\"fill:#00002d; fill-opacity:1; font-family:Arial,Helvetica Neue,Helvetica,sans-serif; font-size:12; text-anchor:end;\" transform=\"rotate(0, 20.5148, 40.1882)\" x=\"20.5148\" y=\"40.1882\">1</text>\n",
       "</g>\n",
       "<polyline clip-path=\"url(#clip02)\" style=\"stroke:#0099ff; stroke-width:0.8; stroke-opacity:1; fill:none\" points=\"\n",
       "  21.7148,194.444 27.5163,184.376 33.3178,174.347 39.1193,164.4 44.9208,154.573 50.7223,144.907 56.5238,135.441 62.3253,126.212 68.1268,117.258 73.9283,108.614 \n",
       "  79.7298,100.317 85.5313,92.3979 91.3328,84.8901 97.1342,77.8235 102.936,71.2264 108.737,65.1255 114.539,59.5453 120.34,54.5083 126.142,50.0347 131.943,46.1427 \n",
       "  137.745,42.8478 143.546,40.1633 149.348,38.1001 155.149,36.6664 160.951,35.8681 166.752,35.7082 172.554,36.1876 178.355,37.3042 184.157,39.0535 189.958,41.4285 \n",
       "  195.76,44.4197 201.561,48.015 207.363,52.1999 213.164,56.9575 218.966,62.2688 224.767,68.1123 230.569,74.4645 236.37,81.2998 242.172,88.5907 247.973,96.3079 \n",
       "  253.775,104.42 259.576,112.895 265.378,121.698 271.179,130.794 276.981,140.147 282.782,149.718 288.584,159.469 294.385,169.361 300.187,179.354 305.988,189.407 \n",
       "  311.79,199.481 317.591,209.535 323.393,219.528 329.194,229.42 334.996,239.171 340.797,248.742 346.599,258.095 352.4,267.191 358.202,275.994 364.003,284.469 \n",
       "  369.805,292.581 375.606,300.298 381.408,307.589 387.209,314.424 393.011,320.777 398.812,326.62 404.614,331.931 410.415,336.689 416.217,340.874 422.018,344.469 \n",
       "  427.82,347.46 433.621,349.835 439.423,351.585 445.224,352.701 451.026,353.181 456.827,353.021 462.629,352.222 468.43,350.789 474.232,348.726 480.033,346.041 \n",
       "  485.835,342.746 491.636,338.854 497.438,334.381 503.239,329.344 509.041,323.763 514.842,317.663 520.644,311.065 526.445,303.999 532.247,296.491 538.048,288.572 \n",
       "  543.85,280.275 549.651,271.631 555.453,262.677 561.254,253.448 567.056,243.982 572.857,234.316 578.659,224.489 584.46,214.542 590.261,204.513 596.063,194.444 \n",
       "  \n",
       "  \"/>\n",
       "<polyline clip-path=\"url(#clip02)\" style=\"stroke:#008100; stroke-width:0.8; stroke-opacity:1; fill:none\" points=\"\n",
       "  21.7148,35.6882 27.5163,36.0079 33.3178,36.9655 39.1193,38.5572 44.9208,40.7766 50.7223,43.6148 56.5238,47.0603 62.3253,51.0993 68.1268,55.7154 73.9283,60.8902 \n",
       "  79.7298,66.6028 85.5313,72.8301 91.3328,79.5472 97.1342,86.7269 102.936,94.3403 108.737,102.357 114.539,110.744 120.34,119.468 126.142,128.495 131.943,137.787 \n",
       "  137.745,147.306 143.546,157.016 149.348,166.877 155.149,176.848 160.951,186.891 166.752,196.963 172.554,207.026 178.355,217.038 184.157,226.959 189.958,236.749 \n",
       "  195.76,246.369 201.561,255.779 207.363,264.943 213.164,273.823 218.966,282.383 224.767,290.589 230.569,298.408 236.37,305.808 242.172,312.76 247.973,319.235 \n",
       "  253.775,325.208 259.576,330.655 265.378,335.553 271.179,339.882 276.981,343.626 282.782,346.77 288.584,349.3 294.385,351.206 300.187,352.482 305.988,353.121 \n",
       "  311.79,353.121 317.591,352.482 323.393,351.206 329.194,349.3 334.996,346.77 340.797,343.626 346.599,339.882 352.4,335.553 358.202,330.655 364.003,325.208 \n",
       "  369.805,319.235 375.606,312.76 381.408,305.808 387.209,298.408 393.011,290.589 398.812,282.383 404.614,273.823 410.415,264.943 416.217,255.779 422.018,246.369 \n",
       "  427.82,236.749 433.621,226.959 439.423,217.038 445.224,207.026 451.026,196.963 456.827,186.891 462.629,176.848 468.43,166.877 474.232,157.016 480.033,147.306 \n",
       "  485.835,137.787 491.636,128.495 497.438,119.468 503.239,110.744 509.041,102.357 514.842,94.3403 520.644,86.7269 526.445,79.5472 532.247,72.8301 538.048,66.6028 \n",
       "  543.85,60.8902 549.651,55.7154 555.453,51.0993 561.254,47.0603 567.056,43.6148 572.857,40.7766 578.659,38.5572 584.46,36.9655 590.261,36.0079 596.063,35.6882 \n",
       "  \n",
       "  \"/>\n",
       "<polyline clip-path=\"url(#clip02)\" style=\"stroke:#ff0000; stroke-width:0.8; stroke-opacity:1; fill:none\" stroke-dasharray=\"8, 5\" points=\"\n",
       "  21.7148,35.6882 27.5163,35.6882 33.3178,35.6882 39.1193,35.6882 44.9208,35.6882 50.7223,35.6882 56.5238,35.6882 62.3253,35.6882 68.1268,35.6882 73.9283,35.6882 \n",
       "  79.7298,35.6882 85.5313,35.6882 91.3328,35.6882 97.1342,35.6882 102.936,35.6882 108.737,35.6882 114.539,35.6882 120.34,35.6882 126.142,35.6882 131.943,35.6882 \n",
       "  137.745,35.6882 143.546,35.6882 149.348,35.6882 155.149,35.6882 160.951,35.6882 166.752,35.6882 172.554,35.6882 178.355,35.6882 184.157,35.6882 189.958,35.6882 \n",
       "  195.76,35.6882 201.561,35.6882 207.363,35.6882 213.164,35.6882 218.966,35.6882 224.767,35.6882 230.569,35.6882 236.37,35.6882 242.172,35.6882 247.973,35.6882 \n",
       "  253.775,35.6882 259.576,35.6882 265.378,35.6882 271.179,35.6882 276.981,35.6882 282.782,35.6882 288.584,35.6882 294.385,35.6882 300.187,35.6882 305.988,35.6882 \n",
       "  311.79,35.6882 317.591,35.6882 323.393,35.6882 329.194,35.6882 334.996,35.6882 340.797,35.6882 346.599,35.6882 352.4,35.6882 358.202,35.6882 364.003,35.6882 \n",
       "  369.805,35.6882 375.606,35.6882 381.408,35.6882 387.209,35.6882 393.011,35.6882 398.812,35.6882 404.614,35.6882 410.415,35.6882 416.217,35.6882 422.018,35.6882 \n",
       "  427.82,35.6882 433.621,35.6882 439.423,35.6882 445.224,35.6882 451.026,35.6882 456.827,35.6882 462.629,35.6882 468.43,35.6882 474.232,35.6882 480.033,35.6882 \n",
       "  485.835,35.6882 491.636,35.6882 497.438,35.6882 503.239,35.6882 509.041,35.6882 514.842,35.6882 520.644,35.6882 526.445,35.6882 532.247,35.6882 538.048,35.6882 \n",
       "  543.85,35.6882 549.651,35.6882 555.453,35.6882 561.254,35.6882 567.056,35.6882 572.857,35.6882 578.659,35.6882 584.46,35.6882 590.261,35.6882 596.063,35.6882 \n",
       "  \n",
       "  \"/>\n",
       "<polyline clip-path=\"url(#clip02)\" style=\"stroke:#ff0000; stroke-width:0.8; stroke-opacity:1; fill:none\" stroke-dasharray=\"8, 5\" points=\"\n",
       "  21.7148,353.201 27.5163,353.201 33.3178,353.201 39.1193,353.201 44.9208,353.201 50.7223,353.201 56.5238,353.201 62.3253,353.201 68.1268,353.201 73.9283,353.201 \n",
       "  79.7298,353.201 85.5313,353.201 91.3328,353.201 97.1342,353.201 102.936,353.201 108.737,353.201 114.539,353.201 120.34,353.201 126.142,353.201 131.943,353.201 \n",
       "  137.745,353.201 143.546,353.201 149.348,353.201 155.149,353.201 160.951,353.201 166.752,353.201 172.554,353.201 178.355,353.201 184.157,353.201 189.958,353.201 \n",
       "  195.76,353.201 201.561,353.201 207.363,353.201 213.164,353.201 218.966,353.201 224.767,353.201 230.569,353.201 236.37,353.201 242.172,353.201 247.973,353.201 \n",
       "  253.775,353.201 259.576,353.201 265.378,353.201 271.179,353.201 276.981,353.201 282.782,353.201 288.584,353.201 294.385,353.201 300.187,353.201 305.988,353.201 \n",
       "  311.79,353.201 317.591,353.201 323.393,353.201 329.194,353.201 334.996,353.201 340.797,353.201 346.599,353.201 352.4,353.201 358.202,353.201 364.003,353.201 \n",
       "  369.805,353.201 375.606,353.201 381.408,353.201 387.209,353.201 393.011,353.201 398.812,353.201 404.614,353.201 410.415,353.201 416.217,353.201 422.018,353.201 \n",
       "  427.82,353.201 433.621,353.201 439.423,353.201 445.224,353.201 451.026,353.201 456.827,353.201 462.629,353.201 468.43,353.201 474.232,353.201 480.033,353.201 \n",
       "  485.835,353.201 491.636,353.201 497.438,353.201 503.239,353.201 509.041,353.201 514.842,353.201 520.644,353.201 526.445,353.201 532.247,353.201 538.048,353.201 \n",
       "  543.85,353.201 549.651,353.201 555.453,353.201 561.254,353.201 567.056,353.201 572.857,353.201 578.659,353.201 584.46,353.201 590.261,353.201 596.063,353.201 \n",
       "  \n",
       "  \"/>\n",
       "<polygon clip-path=\"url(#clip00)\" points=\"\n",
       "499.622,70.177 578.063,70.177 578.063,24.817 499.622,24.817 \n",
       "  \" fill=\"#ffffff\" fill-opacity=\"1\"/>\n",
       "<polyline clip-path=\"url(#clip00)\" style=\"stroke:#00002d; stroke-width:0.8; stroke-opacity:1; fill:none\" points=\"\n",
       "  499.622,70.177 578.063,70.177 578.063,24.817 499.622,24.817 499.622,70.177 \n",
       "  \"/>\n",
       "<polyline clip-path=\"url(#clip00)\" style=\"stroke:#0099ff; stroke-width:0.8; stroke-opacity:1; fill:none\" points=\"\n",
       "  505.622,39.937 541.622,39.937 \n",
       "  \"/>\n",
       "<g clip-path=\"url(#clip00)\">\n",
       "<text style=\"fill:#00002d; fill-opacity:1; font-family:Arial,Helvetica Neue,Helvetica,sans-serif; font-size:12; text-anchor:start;\" transform=\"rotate(0, 547.622, 44.437)\" x=\"547.622\" y=\"44.437\">sin</text>\n",
       "</g>\n",
       "<polyline clip-path=\"url(#clip00)\" style=\"stroke:#008100; stroke-width:0.8; stroke-opacity:1; fill:none\" points=\"\n",
       "  505.622,55.057 541.622,55.057 \n",
       "  \"/>\n",
       "<g clip-path=\"url(#clip00)\">\n",
       "<text style=\"fill:#00002d; fill-opacity:1; font-family:Arial,Helvetica Neue,Helvetica,sans-serif; font-size:12; text-anchor:start;\" transform=\"rotate(0, 547.622, 59.557)\" x=\"547.622\" y=\"59.557\">cos</text>\n",
       "</g>\n",
       "</svg>\n"
      ]
     },
     "execution_count": 118,
     "metadata": {},
     "output_type": "execute_result"
    }
   ],
   "source": [
    "xticks!(0:pi/2:2pi)"
   ]
  },
  {
   "cell_type": "code",
   "execution_count": 119,
   "metadata": {
    "collapsed": false
   },
   "outputs": [
    {
     "data": {
      "text/html": [
       "<?xml version=\"1.0\" encoding=\"utf-8\"?>\n",
       "<svg xmlns=\"http://www.w3.org/2000/svg\" xmlns:xlink=\"http://www.w3.org/1999/xlink\" width=\"600\" height=\"400\" viewBox=\"0 0 600 400\">\n",
       "<defs>\n",
       "  <clipPath id=\"clip00\">\n",
       "    <rect x=\"0\" y=\"0\" width=\"600\" height=\"400\"/>\n",
       "  </clipPath>\n",
       "</defs>\n",
       "<polygon clip-path=\"url(#clip00)\" points=\"\n",
       "0,400 600,400 600,0 0,0 \n",
       "  \" fill=\"#ffffff\" fill-opacity=\"1\"/>\n",
       "<defs>\n",
       "  <clipPath id=\"clip01\">\n",
       "    <rect x=\"120\" y=\"0\" width=\"421\" height=\"400\"/>\n",
       "  </clipPath>\n",
       "</defs>\n",
       "<polygon clip-path=\"url(#clip00)\" points=\"\n",
       "21.7148,384.952 596.063,384.952 596.063,3.93701 21.7148,3.93701 \n",
       "  \" fill=\"#ffffff\" fill-opacity=\"1\"/>\n",
       "<defs>\n",
       "  <clipPath id=\"clip02\">\n",
       "    <rect x=\"21\" y=\"3\" width=\"575\" height=\"382\"/>\n",
       "  </clipPath>\n",
       "</defs>\n",
       "<polyline clip-path=\"url(#clip02)\" style=\"stroke:#00002d; stroke-width:0.8; stroke-opacity:0.5; fill:none\" stroke-dasharray=\"1, 2\" points=\"\n",
       "  21.7148,379.237 21.7148,9.65223 \n",
       "  \"/>\n",
       "<polyline clip-path=\"url(#clip02)\" style=\"stroke:#00002d; stroke-width:0.8; stroke-opacity:0.5; fill:none\" stroke-dasharray=\"1, 2\" points=\"\n",
       "  165.302,379.237 165.302,9.65223 \n",
       "  \"/>\n",
       "<polyline clip-path=\"url(#clip02)\" style=\"stroke:#00002d; stroke-width:0.8; stroke-opacity:0.5; fill:none\" stroke-dasharray=\"1, 2\" points=\"\n",
       "  308.889,379.237 308.889,9.65223 \n",
       "  \"/>\n",
       "<polyline clip-path=\"url(#clip02)\" style=\"stroke:#00002d; stroke-width:0.8; stroke-opacity:0.5; fill:none\" stroke-dasharray=\"1, 2\" points=\"\n",
       "  452.476,379.237 452.476,9.65223 \n",
       "  \"/>\n",
       "<polyline clip-path=\"url(#clip02)\" style=\"stroke:#00002d; stroke-width:0.8; stroke-opacity:0.5; fill:none\" stroke-dasharray=\"1, 2\" points=\"\n",
       "  596.063,379.237 596.063,9.65223 \n",
       "  \"/>\n",
       "<polyline clip-path=\"url(#clip02)\" style=\"stroke:#00002d; stroke-width:0.8; stroke-opacity:0.5; fill:none\" stroke-dasharray=\"1, 2\" points=\"\n",
       "  30.33,353.201 587.448,353.201 \n",
       "  \"/>\n",
       "<polyline clip-path=\"url(#clip02)\" style=\"stroke:#00002d; stroke-width:0.8; stroke-opacity:0.5; fill:none\" stroke-dasharray=\"1, 2\" points=\"\n",
       "  30.33,194.444 587.448,194.444 \n",
       "  \"/>\n",
       "<polyline clip-path=\"url(#clip02)\" style=\"stroke:#00002d; stroke-width:0.8; stroke-opacity:0.5; fill:none\" stroke-dasharray=\"1, 2\" points=\"\n",
       "  30.33,35.6882 587.448,35.6882 \n",
       "  \"/>\n",
       "<polyline clip-path=\"url(#clip02)\" style=\"stroke:#00002d; stroke-width:0.8; stroke-opacity:1; fill:none\" points=\"\n",
       "  21.7148,384.952 596.063,384.952 \n",
       "  \"/>\n",
       "<polyline clip-path=\"url(#clip02)\" style=\"stroke:#00002d; stroke-width:0.8; stroke-opacity:1; fill:none\" points=\"\n",
       "  21.7148,384.952 21.7148,379.237 \n",
       "  \"/>\n",
       "<polyline clip-path=\"url(#clip02)\" style=\"stroke:#00002d; stroke-width:0.8; stroke-opacity:1; fill:none\" points=\"\n",
       "  165.302,384.952 165.302,379.237 \n",
       "  \"/>\n",
       "<polyline clip-path=\"url(#clip02)\" style=\"stroke:#00002d; stroke-width:0.8; stroke-opacity:1; fill:none\" points=\"\n",
       "  308.889,384.952 308.889,379.237 \n",
       "  \"/>\n",
       "<polyline clip-path=\"url(#clip02)\" style=\"stroke:#00002d; stroke-width:0.8; stroke-opacity:1; fill:none\" points=\"\n",
       "  452.476,384.952 452.476,379.237 \n",
       "  \"/>\n",
       "<polyline clip-path=\"url(#clip02)\" style=\"stroke:#00002d; stroke-width:0.8; stroke-opacity:1; fill:none\" points=\"\n",
       "  596.063,384.952 596.063,379.237 \n",
       "  \"/>\n",
       "<polyline clip-path=\"url(#clip02)\" style=\"stroke:#00002d; stroke-width:0.8; stroke-opacity:1; fill:none\" points=\"\n",
       "  21.7148,384.952 21.7148,3.93701 \n",
       "  \"/>\n",
       "<polyline clip-path=\"url(#clip02)\" style=\"stroke:#00002d; stroke-width:0.8; stroke-opacity:1; fill:none\" points=\"\n",
       "  21.7148,353.201 30.33,353.201 \n",
       "  \"/>\n",
       "<polyline clip-path=\"url(#clip02)\" style=\"stroke:#00002d; stroke-width:0.8; stroke-opacity:1; fill:none\" points=\"\n",
       "  21.7148,194.444 30.33,194.444 \n",
       "  \"/>\n",
       "<polyline clip-path=\"url(#clip02)\" style=\"stroke:#00002d; stroke-width:0.8; stroke-opacity:1; fill:none\" points=\"\n",
       "  21.7148,35.6882 30.33,35.6882 \n",
       "  \"/>\n",
       "<g clip-path=\"url(#clip00)\">\n",
       "<text style=\"fill:#00002d; fill-opacity:1; font-family:Arial,Helvetica Neue,Helvetica,sans-serif; font-size:12; text-anchor:middle;\" transform=\"rotate(0, 21.7148, 396.952)\" x=\"21.7148\" y=\"396.952\">0</text>\n",
       "</g>\n",
       "<g clip-path=\"url(#clip00)\">\n",
       "<text style=\"fill:#00002d; fill-opacity:1; font-family:Symbol; font-size:13; text-anchor:start;\" transform=\"rotate(0, 155.156, 396.865)\" x=\"155.156\" y=\"396.865\">π</text>\n",
       "</g>\n",
       "<g clip-path=\"url(#clip00)\">\n",
       "<text style=\"fill:#00002d; fill-opacity:1; font-family:Arial,Helvetica Neue,Helvetica,sans-serif; font-size:12; text-anchor:start;\" transform=\"rotate(0, 162.268, 396.865)\" x=\"162.268\" y=\"396.865\"> /2</text>\n",
       "</g>\n",
       "<g clip-path=\"url(#clip00)\">\n",
       "<text style=\"fill:#00002d; fill-opacity:1; font-family:Symbol; font-size:13; text-anchor:start;\" transform=\"rotate(0, 305.333, 396.865)\" x=\"305.333\" y=\"396.865\">π</text>\n",
       "</g>\n",
       "<g clip-path=\"url(#clip00)\">\n",
       "<text style=\"fill:#00002d; fill-opacity:1; font-family:Arial,Helvetica Neue,Helvetica,sans-serif; font-size:11; text-anchor:start;\" transform=\"rotate(0, 446.268, 395.958)\" x=\"446.268\" y=\"395.958\">3</text>\n",
       "</g>\n",
       "<g clip-path=\"url(#clip00)\">\n",
       "<text style=\"fill:#00002d; fill-opacity:1; font-family:Symbol; font-size:12; text-anchor:start;\" transform=\"rotate(0, 452.239, 395.958)\" x=\"452.239\" y=\"395.958\">π</text>\n",
       "</g>\n",
       "<g clip-path=\"url(#clip00)\">\n",
       "<text style=\"fill:#00002d; fill-opacity:1; font-family:Arial,Helvetica Neue,Helvetica,sans-serif; font-size:11; text-anchor:start;\" transform=\"rotate(0, 449.49, 409.045)\" x=\"449.49\" y=\"409.045\">2</text>\n",
       "</g>\n",
       "<polyline clip-path=\"url(#clip00)\" style=\"stroke:#00002d; stroke-width:0.556049; stroke-opacity:1; fill:none\" points=\"\n",
       "  445.026,399.409 459.926,399.409 \n",
       "  \"/>\n",
       "<g clip-path=\"url(#clip00)\">\n",
       "<text style=\"fill:#00002d; fill-opacity:1; font-family:Arial,Helvetica Neue,Helvetica,sans-serif; font-size:12; text-anchor:start;\" transform=\"rotate(0, 589.212, 396.865)\" x=\"589.212\" y=\"396.865\">2</text>\n",
       "</g>\n",
       "<g clip-path=\"url(#clip00)\">\n",
       "<text style=\"fill:#00002d; fill-opacity:1; font-family:Symbol; font-size:13; text-anchor:start;\" transform=\"rotate(0, 595.802, 396.865)\" x=\"595.802\" y=\"396.865\">π</text>\n",
       "</g>\n",
       "<g clip-path=\"url(#clip00)\">\n",
       "<text style=\"fill:#00002d; fill-opacity:1; font-family:Arial,Helvetica Neue,Helvetica,sans-serif; font-size:12; text-anchor:end;\" transform=\"rotate(0, 20.5148, 357.701)\" x=\"20.5148\" y=\"357.701\">-1</text>\n",
       "</g>\n",
       "<g clip-path=\"url(#clip00)\">\n",
       "<text style=\"fill:#00002d; fill-opacity:1; font-family:Arial,Helvetica Neue,Helvetica,sans-serif; font-size:12; text-anchor:end;\" transform=\"rotate(0, 20.5148, 198.944)\" x=\"20.5148\" y=\"198.944\">0</text>\n",
       "</g>\n",
       "<g clip-path=\"url(#clip00)\">\n",
       "<text style=\"fill:#00002d; fill-opacity:1; font-family:Arial,Helvetica Neue,Helvetica,sans-serif; font-size:12; text-anchor:end;\" transform=\"rotate(0, 20.5148, 40.1882)\" x=\"20.5148\" y=\"40.1882\">1</text>\n",
       "</g>\n",
       "<polyline clip-path=\"url(#clip02)\" style=\"stroke:#0099ff; stroke-width:0.8; stroke-opacity:1; fill:none\" points=\"\n",
       "  21.7148,194.444 27.5163,184.376 33.3178,174.347 39.1193,164.4 44.9208,154.573 50.7223,144.907 56.5238,135.441 62.3253,126.212 68.1268,117.258 73.9283,108.614 \n",
       "  79.7298,100.317 85.5313,92.3979 91.3328,84.8901 97.1342,77.8235 102.936,71.2264 108.737,65.1255 114.539,59.5453 120.34,54.5083 126.142,50.0347 131.943,46.1427 \n",
       "  137.745,42.8478 143.546,40.1633 149.348,38.1001 155.149,36.6664 160.951,35.8681 166.752,35.7082 172.554,36.1876 178.355,37.3042 184.157,39.0535 189.958,41.4285 \n",
       "  195.76,44.4197 201.561,48.015 207.363,52.1999 213.164,56.9575 218.966,62.2688 224.767,68.1123 230.569,74.4645 236.37,81.2998 242.172,88.5907 247.973,96.3079 \n",
       "  253.775,104.42 259.576,112.895 265.378,121.698 271.179,130.794 276.981,140.147 282.782,149.718 288.584,159.469 294.385,169.361 300.187,179.354 305.988,189.407 \n",
       "  311.79,199.481 317.591,209.535 323.393,219.528 329.194,229.42 334.996,239.171 340.797,248.742 346.599,258.095 352.4,267.191 358.202,275.994 364.003,284.469 \n",
       "  369.805,292.581 375.606,300.298 381.408,307.589 387.209,314.424 393.011,320.777 398.812,326.62 404.614,331.931 410.415,336.689 416.217,340.874 422.018,344.469 \n",
       "  427.82,347.46 433.621,349.835 439.423,351.585 445.224,352.701 451.026,353.181 456.827,353.021 462.629,352.222 468.43,350.789 474.232,348.726 480.033,346.041 \n",
       "  485.835,342.746 491.636,338.854 497.438,334.381 503.239,329.344 509.041,323.763 514.842,317.663 520.644,311.065 526.445,303.999 532.247,296.491 538.048,288.572 \n",
       "  543.85,280.275 549.651,271.631 555.453,262.677 561.254,253.448 567.056,243.982 572.857,234.316 578.659,224.489 584.46,214.542 590.261,204.513 596.063,194.444 \n",
       "  \n",
       "  \"/>\n",
       "<polyline clip-path=\"url(#clip02)\" style=\"stroke:#008100; stroke-width:0.8; stroke-opacity:1; fill:none\" points=\"\n",
       "  21.7148,35.6882 27.5163,36.0079 33.3178,36.9655 39.1193,38.5572 44.9208,40.7766 50.7223,43.6148 56.5238,47.0603 62.3253,51.0993 68.1268,55.7154 73.9283,60.8902 \n",
       "  79.7298,66.6028 85.5313,72.8301 91.3328,79.5472 97.1342,86.7269 102.936,94.3403 108.737,102.357 114.539,110.744 120.34,119.468 126.142,128.495 131.943,137.787 \n",
       "  137.745,147.306 143.546,157.016 149.348,166.877 155.149,176.848 160.951,186.891 166.752,196.963 172.554,207.026 178.355,217.038 184.157,226.959 189.958,236.749 \n",
       "  195.76,246.369 201.561,255.779 207.363,264.943 213.164,273.823 218.966,282.383 224.767,290.589 230.569,298.408 236.37,305.808 242.172,312.76 247.973,319.235 \n",
       "  253.775,325.208 259.576,330.655 265.378,335.553 271.179,339.882 276.981,343.626 282.782,346.77 288.584,349.3 294.385,351.206 300.187,352.482 305.988,353.121 \n",
       "  311.79,353.121 317.591,352.482 323.393,351.206 329.194,349.3 334.996,346.77 340.797,343.626 346.599,339.882 352.4,335.553 358.202,330.655 364.003,325.208 \n",
       "  369.805,319.235 375.606,312.76 381.408,305.808 387.209,298.408 393.011,290.589 398.812,282.383 404.614,273.823 410.415,264.943 416.217,255.779 422.018,246.369 \n",
       "  427.82,236.749 433.621,226.959 439.423,217.038 445.224,207.026 451.026,196.963 456.827,186.891 462.629,176.848 468.43,166.877 474.232,157.016 480.033,147.306 \n",
       "  485.835,137.787 491.636,128.495 497.438,119.468 503.239,110.744 509.041,102.357 514.842,94.3403 520.644,86.7269 526.445,79.5472 532.247,72.8301 538.048,66.6028 \n",
       "  543.85,60.8902 549.651,55.7154 555.453,51.0993 561.254,47.0603 567.056,43.6148 572.857,40.7766 578.659,38.5572 584.46,36.9655 590.261,36.0079 596.063,35.6882 \n",
       "  \n",
       "  \"/>\n",
       "<polyline clip-path=\"url(#clip02)\" style=\"stroke:#ff0000; stroke-width:0.8; stroke-opacity:1; fill:none\" stroke-dasharray=\"8, 5\" points=\"\n",
       "  21.7148,35.6882 27.5163,35.6882 33.3178,35.6882 39.1193,35.6882 44.9208,35.6882 50.7223,35.6882 56.5238,35.6882 62.3253,35.6882 68.1268,35.6882 73.9283,35.6882 \n",
       "  79.7298,35.6882 85.5313,35.6882 91.3328,35.6882 97.1342,35.6882 102.936,35.6882 108.737,35.6882 114.539,35.6882 120.34,35.6882 126.142,35.6882 131.943,35.6882 \n",
       "  137.745,35.6882 143.546,35.6882 149.348,35.6882 155.149,35.6882 160.951,35.6882 166.752,35.6882 172.554,35.6882 178.355,35.6882 184.157,35.6882 189.958,35.6882 \n",
       "  195.76,35.6882 201.561,35.6882 207.363,35.6882 213.164,35.6882 218.966,35.6882 224.767,35.6882 230.569,35.6882 236.37,35.6882 242.172,35.6882 247.973,35.6882 \n",
       "  253.775,35.6882 259.576,35.6882 265.378,35.6882 271.179,35.6882 276.981,35.6882 282.782,35.6882 288.584,35.6882 294.385,35.6882 300.187,35.6882 305.988,35.6882 \n",
       "  311.79,35.6882 317.591,35.6882 323.393,35.6882 329.194,35.6882 334.996,35.6882 340.797,35.6882 346.599,35.6882 352.4,35.6882 358.202,35.6882 364.003,35.6882 \n",
       "  369.805,35.6882 375.606,35.6882 381.408,35.6882 387.209,35.6882 393.011,35.6882 398.812,35.6882 404.614,35.6882 410.415,35.6882 416.217,35.6882 422.018,35.6882 \n",
       "  427.82,35.6882 433.621,35.6882 439.423,35.6882 445.224,35.6882 451.026,35.6882 456.827,35.6882 462.629,35.6882 468.43,35.6882 474.232,35.6882 480.033,35.6882 \n",
       "  485.835,35.6882 491.636,35.6882 497.438,35.6882 503.239,35.6882 509.041,35.6882 514.842,35.6882 520.644,35.6882 526.445,35.6882 532.247,35.6882 538.048,35.6882 \n",
       "  543.85,35.6882 549.651,35.6882 555.453,35.6882 561.254,35.6882 567.056,35.6882 572.857,35.6882 578.659,35.6882 584.46,35.6882 590.261,35.6882 596.063,35.6882 \n",
       "  \n",
       "  \"/>\n",
       "<polyline clip-path=\"url(#clip02)\" style=\"stroke:#ff0000; stroke-width:0.8; stroke-opacity:1; fill:none\" stroke-dasharray=\"8, 5\" points=\"\n",
       "  21.7148,353.201 27.5163,353.201 33.3178,353.201 39.1193,353.201 44.9208,353.201 50.7223,353.201 56.5238,353.201 62.3253,353.201 68.1268,353.201 73.9283,353.201 \n",
       "  79.7298,353.201 85.5313,353.201 91.3328,353.201 97.1342,353.201 102.936,353.201 108.737,353.201 114.539,353.201 120.34,353.201 126.142,353.201 131.943,353.201 \n",
       "  137.745,353.201 143.546,353.201 149.348,353.201 155.149,353.201 160.951,353.201 166.752,353.201 172.554,353.201 178.355,353.201 184.157,353.201 189.958,353.201 \n",
       "  195.76,353.201 201.561,353.201 207.363,353.201 213.164,353.201 218.966,353.201 224.767,353.201 230.569,353.201 236.37,353.201 242.172,353.201 247.973,353.201 \n",
       "  253.775,353.201 259.576,353.201 265.378,353.201 271.179,353.201 276.981,353.201 282.782,353.201 288.584,353.201 294.385,353.201 300.187,353.201 305.988,353.201 \n",
       "  311.79,353.201 317.591,353.201 323.393,353.201 329.194,353.201 334.996,353.201 340.797,353.201 346.599,353.201 352.4,353.201 358.202,353.201 364.003,353.201 \n",
       "  369.805,353.201 375.606,353.201 381.408,353.201 387.209,353.201 393.011,353.201 398.812,353.201 404.614,353.201 410.415,353.201 416.217,353.201 422.018,353.201 \n",
       "  427.82,353.201 433.621,353.201 439.423,353.201 445.224,353.201 451.026,353.201 456.827,353.201 462.629,353.201 468.43,353.201 474.232,353.201 480.033,353.201 \n",
       "  485.835,353.201 491.636,353.201 497.438,353.201 503.239,353.201 509.041,353.201 514.842,353.201 520.644,353.201 526.445,353.201 532.247,353.201 538.048,353.201 \n",
       "  543.85,353.201 549.651,353.201 555.453,353.201 561.254,353.201 567.056,353.201 572.857,353.201 578.659,353.201 584.46,353.201 590.261,353.201 596.063,353.201 \n",
       "  \n",
       "  \"/>\n",
       "<polygon clip-path=\"url(#clip00)\" points=\"\n",
       "499.622,70.177 578.063,70.177 578.063,24.817 499.622,24.817 \n",
       "  \" fill=\"#ffffff\" fill-opacity=\"1\"/>\n",
       "<polyline clip-path=\"url(#clip00)\" style=\"stroke:#00002d; stroke-width:0.8; stroke-opacity:1; fill:none\" points=\"\n",
       "  499.622,70.177 578.063,70.177 578.063,24.817 499.622,24.817 499.622,70.177 \n",
       "  \"/>\n",
       "<polyline clip-path=\"url(#clip00)\" style=\"stroke:#0099ff; stroke-width:0.8; stroke-opacity:1; fill:none\" points=\"\n",
       "  505.622,39.937 541.622,39.937 \n",
       "  \"/>\n",
       "<g clip-path=\"url(#clip00)\">\n",
       "<text style=\"fill:#00002d; fill-opacity:1; font-family:Arial,Helvetica Neue,Helvetica,sans-serif; font-size:12; text-anchor:start;\" transform=\"rotate(0, 547.622, 44.437)\" x=\"547.622\" y=\"44.437\">sin</text>\n",
       "</g>\n",
       "<polyline clip-path=\"url(#clip00)\" style=\"stroke:#008100; stroke-width:0.8; stroke-opacity:1; fill:none\" points=\"\n",
       "  505.622,55.057 541.622,55.057 \n",
       "  \"/>\n",
       "<g clip-path=\"url(#clip00)\">\n",
       "<text style=\"fill:#00002d; fill-opacity:1; font-family:Arial,Helvetica Neue,Helvetica,sans-serif; font-size:12; text-anchor:start;\" transform=\"rotate(0, 547.622, 59.557)\" x=\"547.622\" y=\"59.557\">cos</text>\n",
       "</g>\n",
       "</svg>\n"
      ]
     },
     "execution_count": 119,
     "metadata": {},
     "output_type": "execute_result"
    }
   ],
   "source": [
    "xticks!(0:pi/2:2pi, [\"0\", \"\\\\pi /2\", \"\\\\pi\", \"3\\\\pi/2\", \"2\\\\pi\"])"
   ]
  },
  {
   "cell_type": "code",
   "execution_count": 120,
   "metadata": {
    "collapsed": false
   },
   "outputs": [
    {
     "name": "stderr",
     "output_type": "stream",
     "text": [
      "INFO: Saved animation to /home/abel/projetos/smne-2016-julia/exemplo.gif\n"
     ]
    },
    {
     "data": {
      "text/html": [
       "<img src=\"exemplo.gif?0.10207445214476829>\" />"
      ],
      "text/plain": [
       "Plots.AnimatedGif(\"/home/abel/projetos/smne-2016-julia/exemplo.gif\")"
      ]
     },
     "execution_count": 120,
     "metadata": {},
     "output_type": "execute_result"
    }
   ],
   "source": [
    "x = linspace(0, 2*pi, 100)\n",
    "anim = Animation()\n",
    "for i = 1:5:100\n",
    "    plot(x[1:i], sin(x[1:i]))\n",
    "    frame(anim)\n",
    "end\n",
    "gif(anim, \"exemplo.gif\", fps=10)"
   ]
  },
  {
   "cell_type": "code",
   "execution_count": 121,
   "metadata": {
    "collapsed": false
   },
   "outputs": [
    {
     "name": "stderr",
     "output_type": "stream",
     "text": [
      "INFO: Saved animation to /home/abel/projetos/smne-2016-julia/exemplo2.gif\n"
     ]
    },
    {
     "data": {
      "text/html": [
       "<img src=\"exemplo2.gif?0.8206270676987808>\" />"
      ],
      "text/plain": [
       "Plots.AnimatedGif(\"/home/abel/projetos/smne-2016-julia/exemplo2.gif\")"
      ]
     },
     "execution_count": 121,
     "metadata": {},
     "output_type": "execute_result"
    }
   ],
   "source": [
    "x = linspace(0, 2*pi, 100)\n",
    "anim = Animation()\n",
    "for i = 1:3:100\n",
    "    plot(x[1:i], sin(x[1:i]))\n",
    "    xlims!(x[1], x[end])\n",
    "    ylims!(-1, 1)\n",
    "    frame(anim)\n",
    "end\n",
    "gif(anim, \"exemplo2.gif\", fps=12)"
   ]
  },
  {
   "cell_type": "code",
   "execution_count": 122,
   "metadata": {
    "collapsed": false,
    "scrolled": true
   },
   "outputs": [
    {
     "name": "stderr",
     "output_type": "stream",
     "text": [
      "INFO: Saved animation to /home/abel/projetos/smne-2016-julia/exemplo3.gif\n"
     ]
    },
    {
     "data": {
      "text/html": [
       "<img src=\"exemplo3.gif?0.3287216143351197>\" />"
      ],
      "text/plain": [
       "Plots.AnimatedGif(\"/home/abel/projetos/smne-2016-julia/exemplo3.gif\")"
      ]
     },
     "execution_count": 122,
     "metadata": {},
     "output_type": "execute_result"
    }
   ],
   "source": [
    "x = linspace(0, 2*pi, 100)\n",
    "anim = Animation()\n",
    "for i = 1:3:100\n",
    "    plot(x, sin(x), leg=false)\n",
    "    a = x[i]\n",
    "    scatter!([a], [sin(a)], c=:red)\n",
    "    plot!(x, sin(a) + cos(a)*(x-a), c=:red, l=:dash)\n",
    "    xlims!(x[1], x[end])\n",
    "    ylims!(-2, 2)\n",
    "    frame(anim)\n",
    "end\n",
    "gif(anim, \"exemplo3.gif\", fps=12)"
   ]
  },
  {
   "cell_type": "markdown",
   "metadata": {},
   "source": [
    "## Exercícios\n",
    "\n",
    "Faça um gráfico"
   ]
  },
  {
   "cell_type": "code",
   "execution_count": null,
   "metadata": {
    "collapsed": true
   },
   "outputs": [],
   "source": []
  }
 ],
 "metadata": {
  "kernelspec": {
   "display_name": "Julia 0.5.0",
   "language": "julia",
   "name": "julia-0.5"
  },
  "language_info": {
   "file_extension": ".jl",
   "mimetype": "application/julia",
   "name": "julia",
   "version": "0.5.0"
  }
 },
 "nbformat": 4,
 "nbformat_minor": 0
}
